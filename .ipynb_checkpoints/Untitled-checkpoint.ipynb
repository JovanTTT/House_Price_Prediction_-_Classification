{
 "cells": [
  {
   "cell_type": "code",
   "execution_count": 1,
   "id": "4054371c-b62a-4ec0-905e-ba670da07a9e",
   "metadata": {},
   "outputs": [],
   "source": [
    "from joblib import load"
   ]
  },
  {
   "cell_type": "code",
   "execution_count": 2,
   "id": "2b8c555e-358a-4b7c-b01c-384455218b64",
   "metadata": {},
   "outputs": [],
   "source": [
    "reg_model = load('C:\\\\Users\\\\jovan\\\\Desktop\\\\HouseProject\\\\House_Price_Prediction_-_Classification\\\\Models\\\\final_regression_model.joblib')"
   ]
  },
  {
   "cell_type": "code",
   "execution_count": 3,
   "id": "2676d17e-63a8-4140-b441-c58207e73df6",
   "metadata": {},
   "outputs": [],
   "source": [
    "pr2 = [12345678,20,'RL',75.21066666666667,12537,'Pave','IR1','Lvl','AllPub','CulDSac',\n",
    "       'Gtl','NAmes','Norm','Norm','1Fam','1Story',5,6,1971,2008,'Gable','CompShg','VinylSd',\n",
    "       'VinylSd',0.0,'TA','TA','CBlock','TA','TA','No','GLQ',734.0,'Unf',0.0,344.0,1078.0,\n",
    "       'GasA','Ex','Y','SBrkr',1078,0,0,1078,1.0,0.0,1,1,3,1,'TA',6,'Typ',1,'Fa',\n",
    "       'Attchd',1971.0,'Fin',2.0,500.0,'TA','TA','Y',0,0,0,0,0,0,0,4,2010,'WD','Normal']"
   ]
  },
  {
   "cell_type": "code",
   "execution_count": 4,
   "id": "400b21ae-d69d-47ed-9fd7-68d9dc9564f1",
   "metadata": {},
   "outputs": [],
   "source": [
    "import converter"
   ]
  },
  {
   "cell_type": "code",
   "execution_count": 5,
   "id": "8ac56c48-8da6-4a4a-ae37-9a0b47fa92b0",
   "metadata": {},
   "outputs": [],
   "source": [
    "primer = [999999999, 120, 'RL', 62.17391304347826, 6820, 'Pave', 'IR1', 'Lvl', 'AllPub' ,'Corner', 'Gtl',' StoneBr', 'Norm', 'Norm', 'TwnhsE', '1Story',\n",
    "          8, 5, 1985, 1985, 'Gable', 'CompShg', 'HdBoard', 'HdBoard', 0.0, 'Gd', 'TA', 'PConc', 'Gd', 'TA', 'Av', 'GLQ', 368.0, 'BLQ', 1120.0, 0.0, \n",
    "          1488.0, 'GasA', 'TA', 'Y', 'SBrkr', 1502, 0, 0, 1502, 1.0, 0.0, 1, 1, 1, 1, 'Gd', 4, 'Typ', 0, None, 'Attchd', 1985.0, 'RFn', .0, \n",
    "          528.0, 'TA', 'TA', 'Y', 0, 54, 0, 0, 140, 0, 0, 6, 2010, 'WD' , 'Normal']"
   ]
  },
  {
   "cell_type": "code",
   "execution_count": 20,
   "id": "3a91dbbe-2c12-4610-b99c-b41552988061",
   "metadata": {},
   "outputs": [],
   "source": [
    "pokusaj = [12,60,'RL',74.2072072072072,9505,'Pave','IR1','Lvl','AllPub','CulDSac','Gtl','Gilbert',\n",
    "           'Norm','Norm','1Fam','2Story',7,5,2001,2001,'Gable','CompShg','VinylSd','VinylSd',180.0,'Gd','TA',\n",
    "           'PConc','Gd','TA','No','Unf',0.0,'Unf',0.0,884.0,884.0,'GasA','Ex','Y','SBrkr',884,1151,0,2035,0.0,0.0,2,1,3,1,\n",
    "           'Gd',8,'Typ',1,'Gd','BuiltIn',2001.0,'Fin',2.0,434.0,'TA','TA','Y',144,48,0,0,0,0,0,5,2010,'WD','Normal']"
   ]
  }
 ],
 "metadata": {
  "kernelspec": {
   "display_name": "Python 3 (ipykernel)",
   "language": "python",
   "name": "python3"
  },
  "language_info": {
   "codemirror_mode": {
    "name": "ipython",
    "version": 3
   },
   "file_extension": ".py",
   "mimetype": "text/x-python",
   "name": "python",
   "nbconvert_exporter": "python",
   "pygments_lexer": "ipython3",
   "version": "3.11.7"
  }
 },
 "nbformat": 4,
 "nbformat_minor": 5
}
