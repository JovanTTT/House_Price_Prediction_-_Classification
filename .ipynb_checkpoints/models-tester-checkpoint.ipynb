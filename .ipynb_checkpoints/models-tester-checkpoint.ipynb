{
 "cells": [
  {
   "cell_type": "code",
   "execution_count": 40,
   "id": "4054371c-b62a-4ec0-905e-ba670da07a9e",
   "metadata": {},
   "outputs": [],
   "source": [
    "from joblib import load\n",
    "import converter"
   ]
  },
  {
   "cell_type": "code",
   "execution_count": 2,
   "id": "270de6c9-cfbf-4ff8-bcaf-fdc79082c6ae",
   "metadata": {},
   "outputs": [],
   "source": [
    "reg_model = load('C:\\\\Users\\\\jovan\\\\Desktop\\\\HouseProject\\\\House_Price_Prediction_-_Classification\\\\Models\\\\final_regression_model.joblib')"
   ]
  },
  {
   "cell_type": "code",
   "execution_count": 3,
   "id": "8ac56c48-8da6-4a4a-ae37-9a0b47fa92b0",
   "metadata": {},
   "outputs": [],
   "source": [
    "prvi = [999999999, 120, 'RL', 62.17391304347826, 6820, 'Pave', 'IR1', 'Lvl', 'AllPub' ,'Corner', 'Gtl',' StoneBr', 'Norm', 'Norm', 'TwnhsE', '1Story',\n",
    "          8, 5, 1985, 1985, 'Gable', 'CompShg', 'HdBoard', 'HdBoard', 0.0, 'Gd', 'TA', 'PConc', 'Gd', 'TA', 'Av', 'GLQ', 368.0, 'BLQ', 1120.0, 0.0, \n",
    "          1488.0, 'GasA', 'TA', 'Y', 'SBrkr', 1502, 0, 0, 1502, 1.0, 0.0, 1, 1, 1, 1, 'Gd', 4, 'Typ', 0, None, 'Attchd', 1985.0, 'RFn', .0, \n",
    "          528.0, 'TA', 'TA', 'Y', 0, 54, 0, 0, 140, 0, 0, 6, 2010, 'WD' , 'Normal']"
   ]
  },
  {
   "cell_type": "code",
   "execution_count": 4,
   "id": "2676d17e-63a8-4140-b441-c58207e73df6",
   "metadata": {},
   "outputs": [],
   "source": [
    "drugi = [12345678,20,'RL',75.21066666666667,12537,'Pave','IR1','Lvl','AllPub','CulDSac',\n",
    "       'Gtl','NAmes','Norm','Norm','1Fam','1Story',5,6,1971,2008,'Gable','CompShg','VinylSd',\n",
    "       'VinylSd',0.0,'TA','TA','CBlock','TA','TA','No','GLQ',734.0,'Unf',0.0,344.0,1078.0,\n",
    "       'GasA','Ex','Y','SBrkr',1078,0,0,1078,1.0,0.0,1,1,3,1,'TA',6,'Typ',1,'Fa',\n",
    "       'Attchd',1971.0,'Fin',2.0,500.0,'TA','TA','Y',0,0,0,0,0,0,0,4,2010,'WD','Normal']"
   ]
  },
  {
   "cell_type": "code",
   "execution_count": 5,
   "id": "3a91dbbe-2c12-4610-b99c-b41552988061",
   "metadata": {},
   "outputs": [],
   "source": [
    "treci = [12,60,'RL',74.2072072072072,9505,'Pave','IR1','Lvl','AllPub','CulDSac','Gtl','Gilbert',\n",
    "           'Norm','Norm','1Fam','2Story',7,5,2001,2001,'Gable','CompShg','VinylSd','VinylSd',180.0,'Gd','TA',\n",
    "           'PConc','Gd','TA','No','Unf',0.0,'Unf',0.0,884.0,884.0,'GasA','Ex','Y','SBrkr',884,1151,0,2035,0.0,0.0,2,1,3,1,\n",
    "           'Gd',8,'Typ',1,'Gd','BuiltIn',2001.0,'Fin',2.0,434.0,'TA','TA','Y',144,48,0,0,0,0,0,5,2010,'WD','Normal']"
   ]
  },
  {
   "cell_type": "code",
   "execution_count": 16,
   "id": "ab0c1d99-0d3a-48f5-b450-6c11b4dbcd41",
   "metadata": {},
   "outputs": [],
   "source": [
    "uzorak = [11,20,'RL',65.0,8450,'Pave','Reg','Lvl','AllPub','Inside','Gtl','CollgCr','Norm','Norm',\n",
    "          '1Fam','1Story',7,5,2004,2004,'Gable','CompShg','VinylSd','VinylSd',266.0,'Gd','TA','PConc','Gd','TA',\n",
    "          'Mn','GLQ',946.0,'Unf',0.0,490.0,1436.0,'GasA','Ex','Y','SBrkr',1436,0,0,1436,1.0,0.0,2,0,3,1,'Gd',8,'Typ',0,\n",
    "          None,'Attchd',2004.0,'Unf',2.0,484.0,'TA','TA','Y',139,98,0,0,0,0,0,4,2008,'WD','Normal']"
   ]
  },
  {
   "cell_type": "code",
   "execution_count": 6,
   "id": "2f005576-08d8-4226-8a70-e864f7585af3",
   "metadata": {},
   "outputs": [],
   "source": [
    "konvertovan1 = converter.dummies_converter(prvi)"
   ]
  },
  {
   "cell_type": "code",
   "execution_count": 7,
   "id": "d5b6a005-e604-449c-b372-77a03526373d",
   "metadata": {},
   "outputs": [],
   "source": [
    "konvertovan2 = converter.dummies_converter(drugi)"
   ]
  },
  {
   "cell_type": "code",
   "execution_count": 8,
   "id": "a1f6ceab-2d43-44f9-8126-b461b4b54ed5",
   "metadata": {},
   "outputs": [],
   "source": [
    "konvertovan3 = converter.dummies_converter(treci)"
   ]
  },
  {
   "cell_type": "code",
   "execution_count": 9,
   "id": "bda9b879-fd0c-47bf-acbc-27e8a289b822",
   "metadata": {},
   "outputs": [
    {
     "name": "stderr",
     "output_type": "stream",
     "text": [
      "C:\\Users\\jovan\\anaconda3\\Lib\\site-packages\\sklearn\\base.py:439: UserWarning: X does not have valid feature names, but GradientBoostingRegressor was fitted with feature names\n",
      "  warnings.warn(\n"
     ]
    },
    {
     "data": {
      "text/plain": [
       "array([214201.03234041])"
      ]
     },
     "execution_count": 9,
     "metadata": {},
     "output_type": "execute_result"
    }
   ],
   "source": [
    "reg_model.predict(konvertovan1)"
   ]
  },
  {
   "cell_type": "code",
   "execution_count": 10,
   "id": "cf7e2ab3-131a-485f-947a-6acb2c5e093d",
   "metadata": {},
   "outputs": [
    {
     "name": "stderr",
     "output_type": "stream",
     "text": [
      "C:\\Users\\jovan\\anaconda3\\Lib\\site-packages\\sklearn\\base.py:439: UserWarning: X does not have valid feature names, but GradientBoostingRegressor was fitted with feature names\n",
      "  warnings.warn(\n"
     ]
    },
    {
     "data": {
      "text/plain": [
       "array([166458.68907366])"
      ]
     },
     "execution_count": 10,
     "metadata": {},
     "output_type": "execute_result"
    }
   ],
   "source": [
    "reg_model.predict(konvertovan2)"
   ]
  },
  {
   "cell_type": "code",
   "execution_count": 11,
   "id": "87b24a18-7b2f-4bc9-980d-fb5b3c7077f6",
   "metadata": {},
   "outputs": [
    {
     "name": "stderr",
     "output_type": "stream",
     "text": [
      "C:\\Users\\jovan\\anaconda3\\Lib\\site-packages\\sklearn\\base.py:439: UserWarning: X does not have valid feature names, but GradientBoostingRegressor was fitted with feature names\n",
      "  warnings.warn(\n"
     ]
    },
    {
     "data": {
      "text/plain": [
       "array([225665.01814387])"
      ]
     },
     "execution_count": 11,
     "metadata": {},
     "output_type": "execute_result"
    }
   ],
   "source": [
    "reg_model.predict(konvertovan3)"
   ]
  },
  {
   "cell_type": "code",
   "execution_count": 41,
   "id": "3e272e47-e215-4d28-86a3-68245267eddf",
   "metadata": {},
   "outputs": [],
   "source": [
    "class_model = load('C:\\\\Users\\\\jovan\\\\Desktop\\\\HouseProject\\\\House_Price_Prediction_-_Classification\\\\Models\\\\final_classification_model.joblib')"
   ]
  },
  {
   "cell_type": "code",
   "execution_count": 13,
   "id": "8f09a4bc-51a3-4c31-b259-300096407811",
   "metadata": {},
   "outputs": [
    {
     "name": "stderr",
     "output_type": "stream",
     "text": [
      "C:\\Users\\jovan\\anaconda3\\Lib\\site-packages\\sklearn\\base.py:439: UserWarning: X does not have valid feature names, but DecisionTreeClassifier was fitted with feature names\n",
      "  warnings.warn(\n"
     ]
    },
    {
     "data": {
      "text/plain": [
       "array([120], dtype=int64)"
      ]
     },
     "execution_count": 13,
     "metadata": {},
     "output_type": "execute_result"
    }
   ],
   "source": [
    "class_model.predict(konvertovan1)"
   ]
  },
  {
   "cell_type": "code",
   "execution_count": 14,
   "id": "8b5609ef-0fb1-4d71-9782-cc7815a2226b",
   "metadata": {},
   "outputs": [
    {
     "name": "stderr",
     "output_type": "stream",
     "text": [
      "C:\\Users\\jovan\\anaconda3\\Lib\\site-packages\\sklearn\\base.py:439: UserWarning: X does not have valid feature names, but DecisionTreeClassifier was fitted with feature names\n",
      "  warnings.warn(\n"
     ]
    },
    {
     "data": {
      "text/plain": [
       "array([40], dtype=int64)"
      ]
     },
     "execution_count": 14,
     "metadata": {},
     "output_type": "execute_result"
    }
   ],
   "source": [
    "class_model.predict(konvertovan2)"
   ]
  },
  {
   "cell_type": "code",
   "execution_count": 15,
   "id": "d54a1dee-2243-4124-8cc9-8c5c974987f2",
   "metadata": {},
   "outputs": [
    {
     "name": "stderr",
     "output_type": "stream",
     "text": [
      "C:\\Users\\jovan\\anaconda3\\Lib\\site-packages\\sklearn\\base.py:439: UserWarning: X does not have valid feature names, but DecisionTreeClassifier was fitted with feature names\n",
      "  warnings.warn(\n"
     ]
    },
    {
     "data": {
      "text/plain": [
       "array([60], dtype=int64)"
      ]
     },
     "execution_count": 15,
     "metadata": {},
     "output_type": "execute_result"
    }
   ],
   "source": [
    "class_model.predict(konvertovan3)"
   ]
  },
  {
   "cell_type": "code",
   "execution_count": 17,
   "id": "0ac2ca5a-c277-4afb-b4c7-85e7df0a62f2",
   "metadata": {},
   "outputs": [],
   "source": [
    "konvertovan4 = converter.dummies_converter(uzorak)"
   ]
  },
  {
   "cell_type": "code",
   "execution_count": 18,
   "id": "6028507c-b005-42fa-8551-7aa56d30296b",
   "metadata": {},
   "outputs": [
    {
     "name": "stderr",
     "output_type": "stream",
     "text": [
      "C:\\Users\\jovan\\anaconda3\\Lib\\site-packages\\sklearn\\base.py:439: UserWarning: X does not have valid feature names, but GradientBoostingRegressor was fitted with feature names\n",
      "  warnings.warn(\n"
     ]
    },
    {
     "data": {
      "text/plain": [
       "array([218986.59550778])"
      ]
     },
     "execution_count": 18,
     "metadata": {},
     "output_type": "execute_result"
    }
   ],
   "source": [
    "reg_model.predict(konvertovan4)"
   ]
  },
  {
   "cell_type": "code",
   "execution_count": 19,
   "id": "56b95525-8ee2-4c0d-b29c-2b8a07c96c7b",
   "metadata": {},
   "outputs": [
    {
     "name": "stderr",
     "output_type": "stream",
     "text": [
      "C:\\Users\\jovan\\anaconda3\\Lib\\site-packages\\sklearn\\base.py:439: UserWarning: X does not have valid feature names, but DecisionTreeClassifier was fitted with feature names\n",
      "  warnings.warn(\n"
     ]
    },
    {
     "data": {
      "text/plain": [
       "array([40], dtype=int64)"
      ]
     },
     "execution_count": 19,
     "metadata": {},
     "output_type": "execute_result"
    }
   ],
   "source": [
    "class_model.predict(konvertovan4)"
   ]
  },
  {
   "cell_type": "code",
   "execution_count": 20,
   "id": "7114e7ac-ce8b-47b5-b608-52645a0b84be",
   "metadata": {},
   "outputs": [],
   "source": [
    "novi = [21,120,'RM',62.0,6710,'Pave','IR1','Lvl','AllPub','FR3','Gtl','Mitchel','Norm','Norm','TwnhsE',\n",
    "        'SFoyer',6,5,1996,1997,'Gable','CompShg','VinylSd','VinylSd',134.0,'TA','TA','PConc','Ex','TA','Av','Rec',\n",
    "        16.0,'GLQ',904.0,0.0,920.0,'GasA','Ex','Y','SBrkr',936,0,0,936,2.0,0.0,0,1,0,1,'TA',3,'Typ',0,\n",
    "        None,'Attchd',1996.0,'Fin',2.0,460.0,'TA','TA','Y',0,40,0,0,0,0,0,6,2007,'WD','Normal']"
   ]
  },
  {
   "cell_type": "code",
   "execution_count": 21,
   "id": "ed4e264c-eb9f-416f-aa88-b0b23b273b9d",
   "metadata": {},
   "outputs": [],
   "source": [
    "konvertovan5 = converter.dummies_converter(novi)"
   ]
  },
  {
   "cell_type": "code",
   "execution_count": 22,
   "id": "a0c7e889-6f96-4cac-b79b-9d1552378b66",
   "metadata": {},
   "outputs": [
    {
     "name": "stderr",
     "output_type": "stream",
     "text": [
      "C:\\Users\\jovan\\anaconda3\\Lib\\site-packages\\sklearn\\base.py:439: UserWarning: X does not have valid feature names, but GradientBoostingRegressor was fitted with feature names\n",
      "  warnings.warn(\n"
     ]
    },
    {
     "data": {
      "text/plain": [
       "array([147101.6777649])"
      ]
     },
     "execution_count": 22,
     "metadata": {},
     "output_type": "execute_result"
    }
   ],
   "source": [
    "reg_model.predict(konvertovan5)"
   ]
  },
  {
   "cell_type": "code",
   "execution_count": 23,
   "id": "df0b5c52-96ed-4a64-8147-28ac489da94d",
   "metadata": {},
   "outputs": [
    {
     "name": "stderr",
     "output_type": "stream",
     "text": [
      "C:\\Users\\jovan\\anaconda3\\Lib\\site-packages\\sklearn\\base.py:439: UserWarning: X does not have valid feature names, but DecisionTreeClassifier was fitted with feature names\n",
      "  warnings.warn(\n"
     ]
    },
    {
     "data": {
      "text/plain": [
       "array([180], dtype=int64)"
      ]
     },
     "execution_count": 23,
     "metadata": {},
     "output_type": "execute_result"
    }
   ],
   "source": [
    "class_model.predict(konvertovan5)"
   ]
  },
  {
   "cell_type": "code",
   "execution_count": 50,
   "id": "47a12c50-db10-4c44-b520-2e2f6e151121",
   "metadata": {},
   "outputs": [],
   "source": [
    "poslednji = [45,'RL',81.51764705882353,16659,'Pave','IR1','Lvl','AllPub','Corner','Gtl','NWAmes','PosA','Norm',\n",
    "             '1Fam','2Story',7,7,1977,1994,'Gable','CompShg','Plywood','Plywood',34.0,'TA','TA','CBlock','TA','TA',\n",
    "             'No','ALQ',795.0,'Unf',0.0,0.0,795.0,'GasA','Fa','Y','SBrkr',1468,795,0,2263,1.0,0.0,2,1,3,1,'Gd',\n",
    "             9,'Typ',1,'TA','Attchd',1977.0,'Fin',2.0,539.0,'TA','TA','Y',0,250,0,0,0,0,0,3,2006,'WD','Normal',235000]"
   ]
  },
  {
   "cell_type": "code",
   "execution_count": null,
   "id": "d22352ba-d6c6-45f8-b915-6fd9dce57cf8",
   "metadata": {},
   "outputs": [],
   "source": []
  }
 ],
 "metadata": {
  "kernelspec": {
   "display_name": "Python 3 (ipykernel)",
   "language": "python",
   "name": "python3"
  },
  "language_info": {
   "codemirror_mode": {
    "name": "ipython",
    "version": 3
   },
   "file_extension": ".py",
   "mimetype": "text/x-python",
   "name": "python",
   "nbconvert_exporter": "python",
   "pygments_lexer": "ipython3",
   "version": "3.11.7"
  }
 },
 "nbformat": 4,
 "nbformat_minor": 5
}
