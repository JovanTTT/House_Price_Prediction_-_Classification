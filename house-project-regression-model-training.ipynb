{
 "cells": [
  {
   "cell_type": "markdown",
   "id": "c11534ac-67c8-4caf-b2df-ac64a612e221",
   "metadata": {},
   "source": [
    "# Quick note\n",
    "\n",
    "The project is organized into sections: default, cross-validation, scaled default, scaled cross-validation and mean error. The goal of this structure is to improve the organization of the project and to facilitate comparisons between all types of models.\n",
    "\n",
    "**The project follows the following format:** \n",
    "\n",
    "* The cell in which the operation was performed\n",
    "\n",
    "* The result of that operation\n",
    "\n",
    "* A textual explanation detailing what was done in the cell, the conclusion, the idea, and similar information."
   ]
  },
  {
   "cell_type": "markdown",
   "id": "66fdfa68-fc59-4008-ad63-fb829252810c",
   "metadata": {},
   "source": [
    "# Importing libraries"
   ]
  },
  {
   "cell_type": "code",
   "execution_count": 26,
   "id": "ae7dd1d1-486e-4cb8-b23b-ebd8afd5a3f0",
   "metadata": {},
   "outputs": [],
   "source": [
    "import numpy as np\n",
    "import pandas as pd\n",
    "import matplotlib.pyplot as plt\n",
    "import seaborn as sns"
   ]
  },
  {
   "cell_type": "code",
   "execution_count": 27,
   "id": "fb30ee40-10d7-4f97-a445-1b68a7120879",
   "metadata": {},
   "outputs": [
    {
     "data": {
      "text/plain": [
       "'C:\\\\Users\\\\jovan\\\\Desktop\\\\HouseProject\\\\House_Price_Prediction_-_Classification'"
      ]
     },
     "execution_count": 27,
     "metadata": {},
     "output_type": "execute_result"
    }
   ],
   "source": [
    "pwd"
   ]
  },
  {
   "cell_type": "markdown",
   "id": "baf6333b-3a15-47ea-8f77-8cd94752bd66",
   "metadata": {},
   "source": [
    "# Importing data"
   ]
  },
  {
   "cell_type": "code",
   "execution_count": 28,
   "id": "b9ea7fbe-c5ab-4553-b78d-df5540b6231e",
   "metadata": {},
   "outputs": [],
   "source": [
    "df = pd.read_csv('C:\\\\Users\\\\jovan\\\\Desktop\\\\HouseProject\\\\House_Price_Prediction_-_Classification\\\\Data\\\\Housing_Data_Final.csv')\n",
    "df = df.drop('Unnamed: 0', axis = 1)"
   ]
  },
  {
   "cell_type": "code",
   "execution_count": 29,
   "id": "19b968f1-f506-4c0b-8b09-862d0970222d",
   "metadata": {},
   "outputs": [
    {
     "data": {
      "text/html": [
       "<div>\n",
       "<style scoped>\n",
       "    .dataframe tbody tr th:only-of-type {\n",
       "        vertical-align: middle;\n",
       "    }\n",
       "\n",
       "    .dataframe tbody tr th {\n",
       "        vertical-align: top;\n",
       "    }\n",
       "\n",
       "    .dataframe thead th {\n",
       "        text-align: right;\n",
       "    }\n",
       "</style>\n",
       "<table border=\"1\" class=\"dataframe\">\n",
       "  <thead>\n",
       "    <tr style=\"text-align: right;\">\n",
       "      <th></th>\n",
       "      <th>PID</th>\n",
       "      <th>MS SubClass</th>\n",
       "      <th>Lot Frontage</th>\n",
       "      <th>Lot Area</th>\n",
       "      <th>Overall Qual</th>\n",
       "      <th>Overall Cond</th>\n",
       "      <th>Year Built</th>\n",
       "      <th>Year Remod/Add</th>\n",
       "      <th>Mas Vnr Area</th>\n",
       "      <th>BsmtFin SF 1</th>\n",
       "      <th>...</th>\n",
       "      <th>Sale Type_ConLw</th>\n",
       "      <th>Sale Type_New</th>\n",
       "      <th>Sale Type_Oth</th>\n",
       "      <th>Sale Type_VWD</th>\n",
       "      <th>Sale Type_WD</th>\n",
       "      <th>Sale Condition_AdjLand</th>\n",
       "      <th>Sale Condition_Alloca</th>\n",
       "      <th>Sale Condition_Family</th>\n",
       "      <th>Sale Condition_Normal</th>\n",
       "      <th>Sale Condition_Partial</th>\n",
       "    </tr>\n",
       "  </thead>\n",
       "  <tbody>\n",
       "    <tr>\n",
       "      <th>0</th>\n",
       "      <td>526301100</td>\n",
       "      <td>20</td>\n",
       "      <td>141.000000</td>\n",
       "      <td>31770</td>\n",
       "      <td>6</td>\n",
       "      <td>5</td>\n",
       "      <td>1960</td>\n",
       "      <td>1960</td>\n",
       "      <td>112.0</td>\n",
       "      <td>639.0</td>\n",
       "      <td>...</td>\n",
       "      <td>0</td>\n",
       "      <td>0</td>\n",
       "      <td>0</td>\n",
       "      <td>0</td>\n",
       "      <td>1</td>\n",
       "      <td>0</td>\n",
       "      <td>0</td>\n",
       "      <td>0</td>\n",
       "      <td>1</td>\n",
       "      <td>0</td>\n",
       "    </tr>\n",
       "    <tr>\n",
       "      <th>1</th>\n",
       "      <td>526350040</td>\n",
       "      <td>20</td>\n",
       "      <td>80.000000</td>\n",
       "      <td>11622</td>\n",
       "      <td>5</td>\n",
       "      <td>6</td>\n",
       "      <td>1961</td>\n",
       "      <td>1961</td>\n",
       "      <td>0.0</td>\n",
       "      <td>468.0</td>\n",
       "      <td>...</td>\n",
       "      <td>0</td>\n",
       "      <td>0</td>\n",
       "      <td>0</td>\n",
       "      <td>0</td>\n",
       "      <td>1</td>\n",
       "      <td>0</td>\n",
       "      <td>0</td>\n",
       "      <td>0</td>\n",
       "      <td>1</td>\n",
       "      <td>0</td>\n",
       "    </tr>\n",
       "    <tr>\n",
       "      <th>2</th>\n",
       "      <td>526351010</td>\n",
       "      <td>20</td>\n",
       "      <td>81.000000</td>\n",
       "      <td>14267</td>\n",
       "      <td>6</td>\n",
       "      <td>6</td>\n",
       "      <td>1958</td>\n",
       "      <td>1958</td>\n",
       "      <td>108.0</td>\n",
       "      <td>923.0</td>\n",
       "      <td>...</td>\n",
       "      <td>0</td>\n",
       "      <td>0</td>\n",
       "      <td>0</td>\n",
       "      <td>0</td>\n",
       "      <td>1</td>\n",
       "      <td>0</td>\n",
       "      <td>0</td>\n",
       "      <td>0</td>\n",
       "      <td>1</td>\n",
       "      <td>0</td>\n",
       "    </tr>\n",
       "    <tr>\n",
       "      <th>3</th>\n",
       "      <td>526353030</td>\n",
       "      <td>20</td>\n",
       "      <td>93.000000</td>\n",
       "      <td>11160</td>\n",
       "      <td>7</td>\n",
       "      <td>5</td>\n",
       "      <td>1968</td>\n",
       "      <td>1968</td>\n",
       "      <td>0.0</td>\n",
       "      <td>1065.0</td>\n",
       "      <td>...</td>\n",
       "      <td>0</td>\n",
       "      <td>0</td>\n",
       "      <td>0</td>\n",
       "      <td>0</td>\n",
       "      <td>1</td>\n",
       "      <td>0</td>\n",
       "      <td>0</td>\n",
       "      <td>0</td>\n",
       "      <td>1</td>\n",
       "      <td>0</td>\n",
       "    </tr>\n",
       "    <tr>\n",
       "      <th>4</th>\n",
       "      <td>527105010</td>\n",
       "      <td>60</td>\n",
       "      <td>74.000000</td>\n",
       "      <td>13830</td>\n",
       "      <td>5</td>\n",
       "      <td>5</td>\n",
       "      <td>1997</td>\n",
       "      <td>1998</td>\n",
       "      <td>0.0</td>\n",
       "      <td>791.0</td>\n",
       "      <td>...</td>\n",
       "      <td>0</td>\n",
       "      <td>0</td>\n",
       "      <td>0</td>\n",
       "      <td>0</td>\n",
       "      <td>1</td>\n",
       "      <td>0</td>\n",
       "      <td>0</td>\n",
       "      <td>0</td>\n",
       "      <td>1</td>\n",
       "      <td>0</td>\n",
       "    </tr>\n",
       "    <tr>\n",
       "      <th>...</th>\n",
       "      <td>...</td>\n",
       "      <td>...</td>\n",
       "      <td>...</td>\n",
       "      <td>...</td>\n",
       "      <td>...</td>\n",
       "      <td>...</td>\n",
       "      <td>...</td>\n",
       "      <td>...</td>\n",
       "      <td>...</td>\n",
       "      <td>...</td>\n",
       "      <td>...</td>\n",
       "      <td>...</td>\n",
       "      <td>...</td>\n",
       "      <td>...</td>\n",
       "      <td>...</td>\n",
       "      <td>...</td>\n",
       "      <td>...</td>\n",
       "      <td>...</td>\n",
       "      <td>...</td>\n",
       "      <td>...</td>\n",
       "      <td>...</td>\n",
       "    </tr>\n",
       "    <tr>\n",
       "      <th>2921</th>\n",
       "      <td>923275080</td>\n",
       "      <td>80</td>\n",
       "      <td>37.000000</td>\n",
       "      <td>7937</td>\n",
       "      <td>6</td>\n",
       "      <td>6</td>\n",
       "      <td>1984</td>\n",
       "      <td>1984</td>\n",
       "      <td>0.0</td>\n",
       "      <td>819.0</td>\n",
       "      <td>...</td>\n",
       "      <td>0</td>\n",
       "      <td>0</td>\n",
       "      <td>0</td>\n",
       "      <td>0</td>\n",
       "      <td>1</td>\n",
       "      <td>0</td>\n",
       "      <td>0</td>\n",
       "      <td>0</td>\n",
       "      <td>1</td>\n",
       "      <td>0</td>\n",
       "    </tr>\n",
       "    <tr>\n",
       "      <th>2922</th>\n",
       "      <td>923276100</td>\n",
       "      <td>20</td>\n",
       "      <td>75.144444</td>\n",
       "      <td>8885</td>\n",
       "      <td>5</td>\n",
       "      <td>5</td>\n",
       "      <td>1983</td>\n",
       "      <td>1983</td>\n",
       "      <td>0.0</td>\n",
       "      <td>301.0</td>\n",
       "      <td>...</td>\n",
       "      <td>0</td>\n",
       "      <td>0</td>\n",
       "      <td>0</td>\n",
       "      <td>0</td>\n",
       "      <td>1</td>\n",
       "      <td>0</td>\n",
       "      <td>0</td>\n",
       "      <td>0</td>\n",
       "      <td>1</td>\n",
       "      <td>0</td>\n",
       "    </tr>\n",
       "    <tr>\n",
       "      <th>2923</th>\n",
       "      <td>923400125</td>\n",
       "      <td>85</td>\n",
       "      <td>62.000000</td>\n",
       "      <td>10441</td>\n",
       "      <td>5</td>\n",
       "      <td>5</td>\n",
       "      <td>1992</td>\n",
       "      <td>1992</td>\n",
       "      <td>0.0</td>\n",
       "      <td>337.0</td>\n",
       "      <td>...</td>\n",
       "      <td>0</td>\n",
       "      <td>0</td>\n",
       "      <td>0</td>\n",
       "      <td>0</td>\n",
       "      <td>1</td>\n",
       "      <td>0</td>\n",
       "      <td>0</td>\n",
       "      <td>0</td>\n",
       "      <td>1</td>\n",
       "      <td>0</td>\n",
       "    </tr>\n",
       "    <tr>\n",
       "      <th>2924</th>\n",
       "      <td>924100070</td>\n",
       "      <td>20</td>\n",
       "      <td>77.000000</td>\n",
       "      <td>10010</td>\n",
       "      <td>5</td>\n",
       "      <td>5</td>\n",
       "      <td>1974</td>\n",
       "      <td>1975</td>\n",
       "      <td>0.0</td>\n",
       "      <td>1071.0</td>\n",
       "      <td>...</td>\n",
       "      <td>0</td>\n",
       "      <td>0</td>\n",
       "      <td>0</td>\n",
       "      <td>0</td>\n",
       "      <td>1</td>\n",
       "      <td>0</td>\n",
       "      <td>0</td>\n",
       "      <td>0</td>\n",
       "      <td>1</td>\n",
       "      <td>0</td>\n",
       "    </tr>\n",
       "    <tr>\n",
       "      <th>2925</th>\n",
       "      <td>924151050</td>\n",
       "      <td>60</td>\n",
       "      <td>74.000000</td>\n",
       "      <td>9627</td>\n",
       "      <td>7</td>\n",
       "      <td>5</td>\n",
       "      <td>1993</td>\n",
       "      <td>1994</td>\n",
       "      <td>94.0</td>\n",
       "      <td>758.0</td>\n",
       "      <td>...</td>\n",
       "      <td>0</td>\n",
       "      <td>0</td>\n",
       "      <td>0</td>\n",
       "      <td>0</td>\n",
       "      <td>1</td>\n",
       "      <td>0</td>\n",
       "      <td>0</td>\n",
       "      <td>0</td>\n",
       "      <td>1</td>\n",
       "      <td>0</td>\n",
       "    </tr>\n",
       "  </tbody>\n",
       "</table>\n",
       "<p>2926 rows × 258 columns</p>\n",
       "</div>"
      ],
      "text/plain": [
       "            PID  MS SubClass  Lot Frontage  Lot Area  Overall Qual  \\\n",
       "0     526301100           20    141.000000     31770             6   \n",
       "1     526350040           20     80.000000     11622             5   \n",
       "2     526351010           20     81.000000     14267             6   \n",
       "3     526353030           20     93.000000     11160             7   \n",
       "4     527105010           60     74.000000     13830             5   \n",
       "...         ...          ...           ...       ...           ...   \n",
       "2921  923275080           80     37.000000      7937             6   \n",
       "2922  923276100           20     75.144444      8885             5   \n",
       "2923  923400125           85     62.000000     10441             5   \n",
       "2924  924100070           20     77.000000     10010             5   \n",
       "2925  924151050           60     74.000000      9627             7   \n",
       "\n",
       "      Overall Cond  Year Built  Year Remod/Add  Mas Vnr Area  BsmtFin SF 1  \\\n",
       "0                5        1960            1960         112.0         639.0   \n",
       "1                6        1961            1961           0.0         468.0   \n",
       "2                6        1958            1958         108.0         923.0   \n",
       "3                5        1968            1968           0.0        1065.0   \n",
       "4                5        1997            1998           0.0         791.0   \n",
       "...            ...         ...             ...           ...           ...   \n",
       "2921             6        1984            1984           0.0         819.0   \n",
       "2922             5        1983            1983           0.0         301.0   \n",
       "2923             5        1992            1992           0.0         337.0   \n",
       "2924             5        1974            1975           0.0        1071.0   \n",
       "2925             5        1993            1994          94.0         758.0   \n",
       "\n",
       "      ...  Sale Type_ConLw  Sale Type_New  Sale Type_Oth  Sale Type_VWD  \\\n",
       "0     ...                0              0              0              0   \n",
       "1     ...                0              0              0              0   \n",
       "2     ...                0              0              0              0   \n",
       "3     ...                0              0              0              0   \n",
       "4     ...                0              0              0              0   \n",
       "...   ...              ...            ...            ...            ...   \n",
       "2921  ...                0              0              0              0   \n",
       "2922  ...                0              0              0              0   \n",
       "2923  ...                0              0              0              0   \n",
       "2924  ...                0              0              0              0   \n",
       "2925  ...                0              0              0              0   \n",
       "\n",
       "      Sale Type_WD   Sale Condition_AdjLand  Sale Condition_Alloca  \\\n",
       "0                 1                       0                      0   \n",
       "1                 1                       0                      0   \n",
       "2                 1                       0                      0   \n",
       "3                 1                       0                      0   \n",
       "4                 1                       0                      0   \n",
       "...             ...                     ...                    ...   \n",
       "2921              1                       0                      0   \n",
       "2922              1                       0                      0   \n",
       "2923              1                       0                      0   \n",
       "2924              1                       0                      0   \n",
       "2925              1                       0                      0   \n",
       "\n",
       "      Sale Condition_Family  Sale Condition_Normal  Sale Condition_Partial  \n",
       "0                         0                      1                       0  \n",
       "1                         0                      1                       0  \n",
       "2                         0                      1                       0  \n",
       "3                         0                      1                       0  \n",
       "4                         0                      1                       0  \n",
       "...                     ...                    ...                     ...  \n",
       "2921                      0                      1                       0  \n",
       "2922                      0                      1                       0  \n",
       "2923                      0                      1                       0  \n",
       "2924                      0                      1                       0  \n",
       "2925                      0                      1                       0  \n",
       "\n",
       "[2926 rows x 258 columns]"
      ]
     },
     "execution_count": 29,
     "metadata": {},
     "output_type": "execute_result"
    }
   ],
   "source": [
    "df"
   ]
  },
  {
   "cell_type": "markdown",
   "id": "c85bf524-6586-4d73-b5f0-1bdb7314b22c",
   "metadata": {},
   "source": [
    "# Train_test split"
   ]
  },
  {
   "cell_type": "code",
   "execution_count": 30,
   "id": "3a073518-93c0-4c91-82e2-bdb857a3d8b3",
   "metadata": {},
   "outputs": [],
   "source": [
    "X = df.drop('SalePrice', axis = 1)"
   ]
  },
  {
   "cell_type": "code",
   "execution_count": 31,
   "id": "301aaaa8-c9fd-4712-b72f-0c9184e0d92b",
   "metadata": {},
   "outputs": [],
   "source": [
    "y = df['SalePrice']"
   ]
  },
  {
   "cell_type": "markdown",
   "id": "94e5e125-a237-4f83-8c08-7505ec807566",
   "metadata": {},
   "source": [
    "#####  `y` will be *'SalePrice'*"
   ]
  },
  {
   "cell_type": "code",
   "execution_count": 32,
   "id": "432a8330-e9e6-4c2b-8ae9-1305ba85b2b5",
   "metadata": {},
   "outputs": [],
   "source": [
    "from sklearn.model_selection import train_test_split"
   ]
  },
  {
   "cell_type": "code",
   "execution_count": 33,
   "id": "8f21a669-ffbd-43db-a0da-82c9fd003606",
   "metadata": {},
   "outputs": [],
   "source": [
    "X_train, X_test, y_train, y_test = train_test_split(X, y, test_size=0.25, random_state=42)"
   ]
  },
  {
   "cell_type": "markdown",
   "id": "09da7576-700e-4d2c-bf17-20f9cdb272d4",
   "metadata": {},
   "source": [
    "**MEAN ABSOLUTE ERROR / MEAN SQUARED ERROR FUNCTION**"
   ]
  },
  {
   "cell_type": "code",
   "execution_count": 54,
   "id": "e9fbecda-6f15-4e49-a75c-4e320407ce79",
   "metadata": {},
   "outputs": [],
   "source": [
    "def errors(preds, name_of_the_model):\n",
    "    MAE = mean_absolute_error(y_test, preds)\n",
    "    RMSE = np.sqrt(mean_squared_error(y_test, preds))\n",
    "    print('MAE: ', MAE)\n",
    "    mae_array[name_of_the_model] = np.round(MAE, 2)\n",
    "    print('RMSE: ', RMSE)\n",
    "    rmse_array[name_of_the_model] = np.round(RMSE, 2)"
   ]
  },
  {
   "cell_type": "markdown",
   "id": "61a6a887-fb32-40b9-b928-ca9a73b54ebc",
   "metadata": {},
   "source": [
    "##### This functions calculates mean_apsolute_error and root_mean_squared_error of given model, displays errors and puts it into dictionary.\n",
    "\n",
    "-----"
   ]
  },
  {
   "cell_type": "markdown",
   "id": "9e690652-d9a4-458f-bcbf-3cc7907be327",
   "metadata": {},
   "source": [
    "# Default models\n",
    "\n",
    "In this section I am going to make a model using all regression alghoritms I know at this moment. Later in the project those models will be compared against scaled models and cross-validated models."
   ]
  },
  {
   "cell_type": "markdown",
   "id": "644e448e-b2e9-40d7-889b-579874351f86",
   "metadata": {},
   "source": [
    "**LINEAR REGRESSION**"
   ]
  },
  {
   "cell_type": "code",
   "execution_count": 35,
   "id": "d699d963-4fa8-47e8-abc2-00266c5fa0b9",
   "metadata": {},
   "outputs": [],
   "source": [
    "from sklearn.linear_model import LinearRegression"
   ]
  },
  {
   "cell_type": "code",
   "execution_count": 36,
   "id": "26ac9f5e-1226-4da7-aa96-57a446bd70a1",
   "metadata": {},
   "outputs": [],
   "source": [
    "linear_default_model = LinearRegression()"
   ]
  },
  {
   "cell_type": "code",
   "execution_count": 37,
   "id": "b10bf2dc-9818-47d3-9fa4-bd94b46ee445",
   "metadata": {},
   "outputs": [
    {
     "data": {
      "text/html": [
       "<style>#sk-container-id-1 {color: black;background-color: white;}#sk-container-id-1 pre{padding: 0;}#sk-container-id-1 div.sk-toggleable {background-color: white;}#sk-container-id-1 label.sk-toggleable__label {cursor: pointer;display: block;width: 100%;margin-bottom: 0;padding: 0.3em;box-sizing: border-box;text-align: center;}#sk-container-id-1 label.sk-toggleable__label-arrow:before {content: \"▸\";float: left;margin-right: 0.25em;color: #696969;}#sk-container-id-1 label.sk-toggleable__label-arrow:hover:before {color: black;}#sk-container-id-1 div.sk-estimator:hover label.sk-toggleable__label-arrow:before {color: black;}#sk-container-id-1 div.sk-toggleable__content {max-height: 0;max-width: 0;overflow: hidden;text-align: left;background-color: #f0f8ff;}#sk-container-id-1 div.sk-toggleable__content pre {margin: 0.2em;color: black;border-radius: 0.25em;background-color: #f0f8ff;}#sk-container-id-1 input.sk-toggleable__control:checked~div.sk-toggleable__content {max-height: 200px;max-width: 100%;overflow: auto;}#sk-container-id-1 input.sk-toggleable__control:checked~label.sk-toggleable__label-arrow:before {content: \"▾\";}#sk-container-id-1 div.sk-estimator input.sk-toggleable__control:checked~label.sk-toggleable__label {background-color: #d4ebff;}#sk-container-id-1 div.sk-label input.sk-toggleable__control:checked~label.sk-toggleable__label {background-color: #d4ebff;}#sk-container-id-1 input.sk-hidden--visually {border: 0;clip: rect(1px 1px 1px 1px);clip: rect(1px, 1px, 1px, 1px);height: 1px;margin: -1px;overflow: hidden;padding: 0;position: absolute;width: 1px;}#sk-container-id-1 div.sk-estimator {font-family: monospace;background-color: #f0f8ff;border: 1px dotted black;border-radius: 0.25em;box-sizing: border-box;margin-bottom: 0.5em;}#sk-container-id-1 div.sk-estimator:hover {background-color: #d4ebff;}#sk-container-id-1 div.sk-parallel-item::after {content: \"\";width: 100%;border-bottom: 1px solid gray;flex-grow: 1;}#sk-container-id-1 div.sk-label:hover label.sk-toggleable__label {background-color: #d4ebff;}#sk-container-id-1 div.sk-serial::before {content: \"\";position: absolute;border-left: 1px solid gray;box-sizing: border-box;top: 0;bottom: 0;left: 50%;z-index: 0;}#sk-container-id-1 div.sk-serial {display: flex;flex-direction: column;align-items: center;background-color: white;padding-right: 0.2em;padding-left: 0.2em;position: relative;}#sk-container-id-1 div.sk-item {position: relative;z-index: 1;}#sk-container-id-1 div.sk-parallel {display: flex;align-items: stretch;justify-content: center;background-color: white;position: relative;}#sk-container-id-1 div.sk-item::before, #sk-container-id-1 div.sk-parallel-item::before {content: \"\";position: absolute;border-left: 1px solid gray;box-sizing: border-box;top: 0;bottom: 0;left: 50%;z-index: -1;}#sk-container-id-1 div.sk-parallel-item {display: flex;flex-direction: column;z-index: 1;position: relative;background-color: white;}#sk-container-id-1 div.sk-parallel-item:first-child::after {align-self: flex-end;width: 50%;}#sk-container-id-1 div.sk-parallel-item:last-child::after {align-self: flex-start;width: 50%;}#sk-container-id-1 div.sk-parallel-item:only-child::after {width: 0;}#sk-container-id-1 div.sk-dashed-wrapped {border: 1px dashed gray;margin: 0 0.4em 0.5em 0.4em;box-sizing: border-box;padding-bottom: 0.4em;background-color: white;}#sk-container-id-1 div.sk-label label {font-family: monospace;font-weight: bold;display: inline-block;line-height: 1.2em;}#sk-container-id-1 div.sk-label-container {text-align: center;}#sk-container-id-1 div.sk-container {/* jupyter's `normalize.less` sets `[hidden] { display: none; }` but bootstrap.min.css set `[hidden] { display: none !important; }` so we also need the `!important` here to be able to override the default hidden behavior on the sphinx rendered scikit-learn.org. See: https://github.com/scikit-learn/scikit-learn/issues/21755 */display: inline-block !important;position: relative;}#sk-container-id-1 div.sk-text-repr-fallback {display: none;}</style><div id=\"sk-container-id-1\" class=\"sk-top-container\"><div class=\"sk-text-repr-fallback\"><pre>LinearRegression()</pre><b>In a Jupyter environment, please rerun this cell to show the HTML representation or trust the notebook. <br />On GitHub, the HTML representation is unable to render, please try loading this page with nbviewer.org.</b></div><div class=\"sk-container\" hidden><div class=\"sk-item\"><div class=\"sk-estimator sk-toggleable\"><input class=\"sk-toggleable__control sk-hidden--visually\" id=\"sk-estimator-id-1\" type=\"checkbox\" checked><label for=\"sk-estimator-id-1\" class=\"sk-toggleable__label sk-toggleable__label-arrow\">LinearRegression</label><div class=\"sk-toggleable__content\"><pre>LinearRegression()</pre></div></div></div></div></div>"
      ],
      "text/plain": [
       "LinearRegression()"
      ]
     },
     "execution_count": 37,
     "metadata": {},
     "output_type": "execute_result"
    }
   ],
   "source": [
    "linear_default_model.fit(X_train, y_train)"
   ]
  },
  {
   "cell_type": "code",
   "execution_count": 46,
   "id": "f7071894-b8b1-431f-b705-33015818398d",
   "metadata": {},
   "outputs": [],
   "source": [
    "linear_default_model_preds = linear_default_model.predict(X_test)"
   ]
  },
  {
   "cell_type": "code",
   "execution_count": 47,
   "id": "4de06242-1d0b-4feb-b594-49627777b238",
   "metadata": {},
   "outputs": [],
   "source": [
    "from sklearn.metrics import mean_absolute_error, mean_squared_error"
   ]
  },
  {
   "cell_type": "code",
   "execution_count": 48,
   "id": "030d8694-471d-4fda-a258-240c5dd5ea4c",
   "metadata": {},
   "outputs": [],
   "source": [
    "MAE = mean_absolute_error(y_test, linear_default_model_preds)"
   ]
  },
  {
   "cell_type": "code",
   "execution_count": 49,
   "id": "e9ccb161-8de9-4ebb-945e-6c71cf133524",
   "metadata": {},
   "outputs": [],
   "source": [
    "RMSE = np.sqrt(mean_squared_error(y_test, linear_default_model_preds))"
   ]
  },
  {
   "cell_type": "code",
   "execution_count": 50,
   "id": "f417bade-2501-4764-a04d-5a2175847262",
   "metadata": {},
   "outputs": [
    {
     "data": {
      "text/plain": [
       "16915.228718310234"
      ]
     },
     "execution_count": 50,
     "metadata": {},
     "output_type": "execute_result"
    }
   ],
   "source": [
    "MAE"
   ]
  },
  {
   "cell_type": "code",
   "execution_count": 51,
   "id": "920fc56d-81c2-4035-bb3b-7e114e6769d2",
   "metadata": {},
   "outputs": [
    {
     "data": {
      "text/plain": [
       "38883.47863056807"
      ]
     },
     "execution_count": 51,
     "metadata": {},
     "output_type": "execute_result"
    }
   ],
   "source": [
    "RMSE"
   ]
  },
  {
   "cell_type": "code",
   "execution_count": 55,
   "id": "e649f734-99ac-4e57-a168-4aa3bd904a1a",
   "metadata": {},
   "outputs": [
    {
     "name": "stdout",
     "output_type": "stream",
     "text": [
      "MAE:  16915.228718310234\n",
      "RMSE:  38883.47863056807\n"
     ]
    }
   ],
   "source": [
    "errors(linear_default_model_preds, 'linear_default_model')"
   ]
  },
  {
   "cell_type": "markdown",
   "id": "c28e2b21-9092-401e-82fb-13d963abc1a9",
   "metadata": {},
   "source": [
    "-----"
   ]
  },
  {
   "cell_type": "markdown",
   "id": "e640ce4f-15c0-4b4e-b64d-f2a5b2cb75c2",
   "metadata": {},
   "source": [
    "**L1 REGULARIZATION (LASSO)**"
   ]
  },
  {
   "cell_type": "code",
   "execution_count": 57,
   "id": "51f7c946-7584-4981-9826-73703b6cafe6",
   "metadata": {},
   "outputs": [],
   "source": [
    "from sklearn.linear_model import Lasso"
   ]
  },
  {
   "cell_type": "code",
   "execution_count": 58,
   "id": "af30be0d-8e83-45e9-a139-460012477ab1",
   "metadata": {},
   "outputs": [],
   "source": [
    "l1_model = Lasso(alpha = 1, max_iter = 1000000)"
   ]
  },
  {
   "cell_type": "code",
   "execution_count": 59,
   "id": "c1e36e2b-f7c6-4098-b7ed-7bac143cb929",
   "metadata": {},
   "outputs": [
    {
     "data": {
      "text/html": [
       "<style>#sk-container-id-2 {color: black;background-color: white;}#sk-container-id-2 pre{padding: 0;}#sk-container-id-2 div.sk-toggleable {background-color: white;}#sk-container-id-2 label.sk-toggleable__label {cursor: pointer;display: block;width: 100%;margin-bottom: 0;padding: 0.3em;box-sizing: border-box;text-align: center;}#sk-container-id-2 label.sk-toggleable__label-arrow:before {content: \"▸\";float: left;margin-right: 0.25em;color: #696969;}#sk-container-id-2 label.sk-toggleable__label-arrow:hover:before {color: black;}#sk-container-id-2 div.sk-estimator:hover label.sk-toggleable__label-arrow:before {color: black;}#sk-container-id-2 div.sk-toggleable__content {max-height: 0;max-width: 0;overflow: hidden;text-align: left;background-color: #f0f8ff;}#sk-container-id-2 div.sk-toggleable__content pre {margin: 0.2em;color: black;border-radius: 0.25em;background-color: #f0f8ff;}#sk-container-id-2 input.sk-toggleable__control:checked~div.sk-toggleable__content {max-height: 200px;max-width: 100%;overflow: auto;}#sk-container-id-2 input.sk-toggleable__control:checked~label.sk-toggleable__label-arrow:before {content: \"▾\";}#sk-container-id-2 div.sk-estimator input.sk-toggleable__control:checked~label.sk-toggleable__label {background-color: #d4ebff;}#sk-container-id-2 div.sk-label input.sk-toggleable__control:checked~label.sk-toggleable__label {background-color: #d4ebff;}#sk-container-id-2 input.sk-hidden--visually {border: 0;clip: rect(1px 1px 1px 1px);clip: rect(1px, 1px, 1px, 1px);height: 1px;margin: -1px;overflow: hidden;padding: 0;position: absolute;width: 1px;}#sk-container-id-2 div.sk-estimator {font-family: monospace;background-color: #f0f8ff;border: 1px dotted black;border-radius: 0.25em;box-sizing: border-box;margin-bottom: 0.5em;}#sk-container-id-2 div.sk-estimator:hover {background-color: #d4ebff;}#sk-container-id-2 div.sk-parallel-item::after {content: \"\";width: 100%;border-bottom: 1px solid gray;flex-grow: 1;}#sk-container-id-2 div.sk-label:hover label.sk-toggleable__label {background-color: #d4ebff;}#sk-container-id-2 div.sk-serial::before {content: \"\";position: absolute;border-left: 1px solid gray;box-sizing: border-box;top: 0;bottom: 0;left: 50%;z-index: 0;}#sk-container-id-2 div.sk-serial {display: flex;flex-direction: column;align-items: center;background-color: white;padding-right: 0.2em;padding-left: 0.2em;position: relative;}#sk-container-id-2 div.sk-item {position: relative;z-index: 1;}#sk-container-id-2 div.sk-parallel {display: flex;align-items: stretch;justify-content: center;background-color: white;position: relative;}#sk-container-id-2 div.sk-item::before, #sk-container-id-2 div.sk-parallel-item::before {content: \"\";position: absolute;border-left: 1px solid gray;box-sizing: border-box;top: 0;bottom: 0;left: 50%;z-index: -1;}#sk-container-id-2 div.sk-parallel-item {display: flex;flex-direction: column;z-index: 1;position: relative;background-color: white;}#sk-container-id-2 div.sk-parallel-item:first-child::after {align-self: flex-end;width: 50%;}#sk-container-id-2 div.sk-parallel-item:last-child::after {align-self: flex-start;width: 50%;}#sk-container-id-2 div.sk-parallel-item:only-child::after {width: 0;}#sk-container-id-2 div.sk-dashed-wrapped {border: 1px dashed gray;margin: 0 0.4em 0.5em 0.4em;box-sizing: border-box;padding-bottom: 0.4em;background-color: white;}#sk-container-id-2 div.sk-label label {font-family: monospace;font-weight: bold;display: inline-block;line-height: 1.2em;}#sk-container-id-2 div.sk-label-container {text-align: center;}#sk-container-id-2 div.sk-container {/* jupyter's `normalize.less` sets `[hidden] { display: none; }` but bootstrap.min.css set `[hidden] { display: none !important; }` so we also need the `!important` here to be able to override the default hidden behavior on the sphinx rendered scikit-learn.org. See: https://github.com/scikit-learn/scikit-learn/issues/21755 */display: inline-block !important;position: relative;}#sk-container-id-2 div.sk-text-repr-fallback {display: none;}</style><div id=\"sk-container-id-2\" class=\"sk-top-container\"><div class=\"sk-text-repr-fallback\"><pre>Lasso(alpha=1, max_iter=1000000)</pre><b>In a Jupyter environment, please rerun this cell to show the HTML representation or trust the notebook. <br />On GitHub, the HTML representation is unable to render, please try loading this page with nbviewer.org.</b></div><div class=\"sk-container\" hidden><div class=\"sk-item\"><div class=\"sk-estimator sk-toggleable\"><input class=\"sk-toggleable__control sk-hidden--visually\" id=\"sk-estimator-id-2\" type=\"checkbox\" checked><label for=\"sk-estimator-id-2\" class=\"sk-toggleable__label sk-toggleable__label-arrow\">Lasso</label><div class=\"sk-toggleable__content\"><pre>Lasso(alpha=1, max_iter=1000000)</pre></div></div></div></div></div>"
      ],
      "text/plain": [
       "Lasso(alpha=1, max_iter=1000000)"
      ]
     },
     "execution_count": 59,
     "metadata": {},
     "output_type": "execute_result"
    }
   ],
   "source": [
    "l1_model.fit(X_train, y_train)"
   ]
  },
  {
   "cell_type": "code",
   "execution_count": 60,
   "id": "38fbf1bd-fd16-4f21-bfd1-9ece172b1f7d",
   "metadata": {},
   "outputs": [],
   "source": [
    "l1_model_preds = l1_model.predict(X_test)"
   ]
  },
  {
   "cell_type": "code",
   "execution_count": 61,
   "id": "e8c613ee-963d-43c5-b75b-618cd7d3e87a",
   "metadata": {},
   "outputs": [],
   "source": [
    "MAE = mean_absolute_error(y_test, l1_model_preds)"
   ]
  },
  {
   "cell_type": "code",
   "execution_count": 62,
   "id": "9eb6e4b7-199c-45af-b7fc-133f6c8b180c",
   "metadata": {},
   "outputs": [],
   "source": [
    "RMSE = np.sqrt(mean_squared_error(y_test, l1_model_preds))"
   ]
  },
  {
   "cell_type": "code",
   "execution_count": 63,
   "id": "74a09c1d-7a7e-4fe5-b20c-5f5c64c71f28",
   "metadata": {},
   "outputs": [
    {
     "data": {
      "text/plain": [
       "16742.092468052157"
      ]
     },
     "execution_count": 63,
     "metadata": {},
     "output_type": "execute_result"
    }
   ],
   "source": [
    "MAE"
   ]
  },
  {
   "cell_type": "code",
   "execution_count": 64,
   "id": "96252c24-582a-4a18-beb6-707f48699c8f",
   "metadata": {},
   "outputs": [
    {
     "data": {
      "text/plain": [
       "38020.421597050205"
      ]
     },
     "execution_count": 64,
     "metadata": {},
     "output_type": "execute_result"
    }
   ],
   "source": [
    "RMSE"
   ]
  },
  {
   "cell_type": "code",
   "execution_count": 65,
   "id": "03869766-2ffd-472c-87ad-cfa1f924e6ae",
   "metadata": {},
   "outputs": [
    {
     "name": "stdout",
     "output_type": "stream",
     "text": [
      "MAE:  16742.092468052157\n",
      "RMSE:  38020.421597050205\n"
     ]
    }
   ],
   "source": [
    "errors(l1_model_preds, 'l1_model_default')"
   ]
  },
  {
   "cell_type": "markdown",
   "id": "ec91fb95-2498-4ad1-ac91-d629f5b54820",
   "metadata": {},
   "source": [
    "-----"
   ]
  },
  {
   "cell_type": "markdown",
   "id": "44b1c4ef-052e-4307-834d-9431d0f15235",
   "metadata": {},
   "source": [
    "**L2 REGULARIZATION (RIDGE)**"
   ]
  },
  {
   "cell_type": "code",
   "execution_count": 66,
   "id": "5562a391-172f-41ce-8f92-79e5526d3ede",
   "metadata": {},
   "outputs": [],
   "source": [
    "from sklearn.linear_model import Ridge"
   ]
  },
  {
   "cell_type": "code",
   "execution_count": 67,
   "id": "0e9cb162-01e4-4a83-98c9-4009c548a9fd",
   "metadata": {},
   "outputs": [],
   "source": [
    "ridge_model = Ridge(alpha = 1)"
   ]
  },
  {
   "cell_type": "code",
   "execution_count": 68,
   "id": "c5388d51-1bc8-4cab-8b70-1bc9804f0a10",
   "metadata": {},
   "outputs": [
    {
     "name": "stderr",
     "output_type": "stream",
     "text": [
      "C:\\Users\\jovan\\anaconda3\\Lib\\site-packages\\sklearn\\linear_model\\_ridge.py:216: LinAlgWarning: Ill-conditioned matrix (rcond=8.69005e-21): result may not be accurate.\n",
      "  return linalg.solve(A, Xy, assume_a=\"pos\", overwrite_a=True).T\n"
     ]
    },
    {
     "data": {
      "text/html": [
       "<style>#sk-container-id-3 {color: black;background-color: white;}#sk-container-id-3 pre{padding: 0;}#sk-container-id-3 div.sk-toggleable {background-color: white;}#sk-container-id-3 label.sk-toggleable__label {cursor: pointer;display: block;width: 100%;margin-bottom: 0;padding: 0.3em;box-sizing: border-box;text-align: center;}#sk-container-id-3 label.sk-toggleable__label-arrow:before {content: \"▸\";float: left;margin-right: 0.25em;color: #696969;}#sk-container-id-3 label.sk-toggleable__label-arrow:hover:before {color: black;}#sk-container-id-3 div.sk-estimator:hover label.sk-toggleable__label-arrow:before {color: black;}#sk-container-id-3 div.sk-toggleable__content {max-height: 0;max-width: 0;overflow: hidden;text-align: left;background-color: #f0f8ff;}#sk-container-id-3 div.sk-toggleable__content pre {margin: 0.2em;color: black;border-radius: 0.25em;background-color: #f0f8ff;}#sk-container-id-3 input.sk-toggleable__control:checked~div.sk-toggleable__content {max-height: 200px;max-width: 100%;overflow: auto;}#sk-container-id-3 input.sk-toggleable__control:checked~label.sk-toggleable__label-arrow:before {content: \"▾\";}#sk-container-id-3 div.sk-estimator input.sk-toggleable__control:checked~label.sk-toggleable__label {background-color: #d4ebff;}#sk-container-id-3 div.sk-label input.sk-toggleable__control:checked~label.sk-toggleable__label {background-color: #d4ebff;}#sk-container-id-3 input.sk-hidden--visually {border: 0;clip: rect(1px 1px 1px 1px);clip: rect(1px, 1px, 1px, 1px);height: 1px;margin: -1px;overflow: hidden;padding: 0;position: absolute;width: 1px;}#sk-container-id-3 div.sk-estimator {font-family: monospace;background-color: #f0f8ff;border: 1px dotted black;border-radius: 0.25em;box-sizing: border-box;margin-bottom: 0.5em;}#sk-container-id-3 div.sk-estimator:hover {background-color: #d4ebff;}#sk-container-id-3 div.sk-parallel-item::after {content: \"\";width: 100%;border-bottom: 1px solid gray;flex-grow: 1;}#sk-container-id-3 div.sk-label:hover label.sk-toggleable__label {background-color: #d4ebff;}#sk-container-id-3 div.sk-serial::before {content: \"\";position: absolute;border-left: 1px solid gray;box-sizing: border-box;top: 0;bottom: 0;left: 50%;z-index: 0;}#sk-container-id-3 div.sk-serial {display: flex;flex-direction: column;align-items: center;background-color: white;padding-right: 0.2em;padding-left: 0.2em;position: relative;}#sk-container-id-3 div.sk-item {position: relative;z-index: 1;}#sk-container-id-3 div.sk-parallel {display: flex;align-items: stretch;justify-content: center;background-color: white;position: relative;}#sk-container-id-3 div.sk-item::before, #sk-container-id-3 div.sk-parallel-item::before {content: \"\";position: absolute;border-left: 1px solid gray;box-sizing: border-box;top: 0;bottom: 0;left: 50%;z-index: -1;}#sk-container-id-3 div.sk-parallel-item {display: flex;flex-direction: column;z-index: 1;position: relative;background-color: white;}#sk-container-id-3 div.sk-parallel-item:first-child::after {align-self: flex-end;width: 50%;}#sk-container-id-3 div.sk-parallel-item:last-child::after {align-self: flex-start;width: 50%;}#sk-container-id-3 div.sk-parallel-item:only-child::after {width: 0;}#sk-container-id-3 div.sk-dashed-wrapped {border: 1px dashed gray;margin: 0 0.4em 0.5em 0.4em;box-sizing: border-box;padding-bottom: 0.4em;background-color: white;}#sk-container-id-3 div.sk-label label {font-family: monospace;font-weight: bold;display: inline-block;line-height: 1.2em;}#sk-container-id-3 div.sk-label-container {text-align: center;}#sk-container-id-3 div.sk-container {/* jupyter's `normalize.less` sets `[hidden] { display: none; }` but bootstrap.min.css set `[hidden] { display: none !important; }` so we also need the `!important` here to be able to override the default hidden behavior on the sphinx rendered scikit-learn.org. See: https://github.com/scikit-learn/scikit-learn/issues/21755 */display: inline-block !important;position: relative;}#sk-container-id-3 div.sk-text-repr-fallback {display: none;}</style><div id=\"sk-container-id-3\" class=\"sk-top-container\"><div class=\"sk-text-repr-fallback\"><pre>Ridge(alpha=1)</pre><b>In a Jupyter environment, please rerun this cell to show the HTML representation or trust the notebook. <br />On GitHub, the HTML representation is unable to render, please try loading this page with nbviewer.org.</b></div><div class=\"sk-container\" hidden><div class=\"sk-item\"><div class=\"sk-estimator sk-toggleable\"><input class=\"sk-toggleable__control sk-hidden--visually\" id=\"sk-estimator-id-3\" type=\"checkbox\" checked><label for=\"sk-estimator-id-3\" class=\"sk-toggleable__label sk-toggleable__label-arrow\">Ridge</label><div class=\"sk-toggleable__content\"><pre>Ridge(alpha=1)</pre></div></div></div></div></div>"
      ],
      "text/plain": [
       "Ridge(alpha=1)"
      ]
     },
     "execution_count": 68,
     "metadata": {},
     "output_type": "execute_result"
    }
   ],
   "source": [
    "ridge_model.fit(X_train, y_train)"
   ]
  },
  {
   "cell_type": "code",
   "execution_count": 69,
   "id": "abc0a4a2-815b-44f3-8b98-4fe53024683c",
   "metadata": {},
   "outputs": [],
   "source": [
    "ridge_model_preds = ridge_model.predict(X_test)"
   ]
  },
  {
   "cell_type": "code",
   "execution_count": 70,
   "id": "c575c536-53c7-4523-8f4f-d76530936536",
   "metadata": {},
   "outputs": [
    {
     "name": "stdout",
     "output_type": "stream",
     "text": [
      "MAE:  16005.498628765352\n",
      "RMSE:  27687.06407201346\n"
     ]
    }
   ],
   "source": [
    "errors(ridge_model_preds, 'l2_model_default')"
   ]
  },
  {
   "cell_type": "markdown",
   "id": "53dc41e7-f93d-4bb5-ba7b-7ad4b13ec491",
   "metadata": {},
   "source": [
    "-----"
   ]
  },
  {
   "cell_type": "markdown",
   "id": "f3968d65-6537-4e4a-9d41-1d8e0878a553",
   "metadata": {},
   "source": [
    "**L1 AND L2 REGULARIZATION (ELASTIC NET)**"
   ]
  },
  {
   "cell_type": "code",
   "execution_count": 71,
   "id": "8402a8f0-2845-4eab-8829-9b82326b6bbc",
   "metadata": {},
   "outputs": [],
   "source": [
    "from sklearn.linear_model import ElasticNet"
   ]
  },
  {
   "cell_type": "code",
   "execution_count": 75,
   "id": "3896f084-c604-4c19-82b3-28a68ff9754d",
   "metadata": {},
   "outputs": [],
   "source": [
    "elastic_net_model = ElasticNet(alpha = 1, l1_ratio = 0.5, max_iter = 200000)"
   ]
  },
  {
   "cell_type": "code",
   "execution_count": 76,
   "id": "364324bc-c3b4-4b0e-aa5b-b31fdb3218ee",
   "metadata": {},
   "outputs": [
    {
     "name": "stderr",
     "output_type": "stream",
     "text": [
      "C:\\Users\\jovan\\anaconda3\\Lib\\site-packages\\sklearn\\linear_model\\_coordinate_descent.py:631: ConvergenceWarning: Objective did not converge. You might want to increase the number of iterations, check the scale of the features or consider increasing regularisation. Duality gap: 1.046e+12, tolerance: 1.375e+09\n",
      "  model = cd_fast.enet_coordinate_descent(\n"
     ]
    },
    {
     "data": {
      "text/html": [
       "<style>#sk-container-id-4 {color: black;background-color: white;}#sk-container-id-4 pre{padding: 0;}#sk-container-id-4 div.sk-toggleable {background-color: white;}#sk-container-id-4 label.sk-toggleable__label {cursor: pointer;display: block;width: 100%;margin-bottom: 0;padding: 0.3em;box-sizing: border-box;text-align: center;}#sk-container-id-4 label.sk-toggleable__label-arrow:before {content: \"▸\";float: left;margin-right: 0.25em;color: #696969;}#sk-container-id-4 label.sk-toggleable__label-arrow:hover:before {color: black;}#sk-container-id-4 div.sk-estimator:hover label.sk-toggleable__label-arrow:before {color: black;}#sk-container-id-4 div.sk-toggleable__content {max-height: 0;max-width: 0;overflow: hidden;text-align: left;background-color: #f0f8ff;}#sk-container-id-4 div.sk-toggleable__content pre {margin: 0.2em;color: black;border-radius: 0.25em;background-color: #f0f8ff;}#sk-container-id-4 input.sk-toggleable__control:checked~div.sk-toggleable__content {max-height: 200px;max-width: 100%;overflow: auto;}#sk-container-id-4 input.sk-toggleable__control:checked~label.sk-toggleable__label-arrow:before {content: \"▾\";}#sk-container-id-4 div.sk-estimator input.sk-toggleable__control:checked~label.sk-toggleable__label {background-color: #d4ebff;}#sk-container-id-4 div.sk-label input.sk-toggleable__control:checked~label.sk-toggleable__label {background-color: #d4ebff;}#sk-container-id-4 input.sk-hidden--visually {border: 0;clip: rect(1px 1px 1px 1px);clip: rect(1px, 1px, 1px, 1px);height: 1px;margin: -1px;overflow: hidden;padding: 0;position: absolute;width: 1px;}#sk-container-id-4 div.sk-estimator {font-family: monospace;background-color: #f0f8ff;border: 1px dotted black;border-radius: 0.25em;box-sizing: border-box;margin-bottom: 0.5em;}#sk-container-id-4 div.sk-estimator:hover {background-color: #d4ebff;}#sk-container-id-4 div.sk-parallel-item::after {content: \"\";width: 100%;border-bottom: 1px solid gray;flex-grow: 1;}#sk-container-id-4 div.sk-label:hover label.sk-toggleable__label {background-color: #d4ebff;}#sk-container-id-4 div.sk-serial::before {content: \"\";position: absolute;border-left: 1px solid gray;box-sizing: border-box;top: 0;bottom: 0;left: 50%;z-index: 0;}#sk-container-id-4 div.sk-serial {display: flex;flex-direction: column;align-items: center;background-color: white;padding-right: 0.2em;padding-left: 0.2em;position: relative;}#sk-container-id-4 div.sk-item {position: relative;z-index: 1;}#sk-container-id-4 div.sk-parallel {display: flex;align-items: stretch;justify-content: center;background-color: white;position: relative;}#sk-container-id-4 div.sk-item::before, #sk-container-id-4 div.sk-parallel-item::before {content: \"\";position: absolute;border-left: 1px solid gray;box-sizing: border-box;top: 0;bottom: 0;left: 50%;z-index: -1;}#sk-container-id-4 div.sk-parallel-item {display: flex;flex-direction: column;z-index: 1;position: relative;background-color: white;}#sk-container-id-4 div.sk-parallel-item:first-child::after {align-self: flex-end;width: 50%;}#sk-container-id-4 div.sk-parallel-item:last-child::after {align-self: flex-start;width: 50%;}#sk-container-id-4 div.sk-parallel-item:only-child::after {width: 0;}#sk-container-id-4 div.sk-dashed-wrapped {border: 1px dashed gray;margin: 0 0.4em 0.5em 0.4em;box-sizing: border-box;padding-bottom: 0.4em;background-color: white;}#sk-container-id-4 div.sk-label label {font-family: monospace;font-weight: bold;display: inline-block;line-height: 1.2em;}#sk-container-id-4 div.sk-label-container {text-align: center;}#sk-container-id-4 div.sk-container {/* jupyter's `normalize.less` sets `[hidden] { display: none; }` but bootstrap.min.css set `[hidden] { display: none !important; }` so we also need the `!important` here to be able to override the default hidden behavior on the sphinx rendered scikit-learn.org. See: https://github.com/scikit-learn/scikit-learn/issues/21755 */display: inline-block !important;position: relative;}#sk-container-id-4 div.sk-text-repr-fallback {display: none;}</style><div id=\"sk-container-id-4\" class=\"sk-top-container\"><div class=\"sk-text-repr-fallback\"><pre>ElasticNet(alpha=1, max_iter=200000)</pre><b>In a Jupyter environment, please rerun this cell to show the HTML representation or trust the notebook. <br />On GitHub, the HTML representation is unable to render, please try loading this page with nbviewer.org.</b></div><div class=\"sk-container\" hidden><div class=\"sk-item\"><div class=\"sk-estimator sk-toggleable\"><input class=\"sk-toggleable__control sk-hidden--visually\" id=\"sk-estimator-id-4\" type=\"checkbox\" checked><label for=\"sk-estimator-id-4\" class=\"sk-toggleable__label sk-toggleable__label-arrow\">ElasticNet</label><div class=\"sk-toggleable__content\"><pre>ElasticNet(alpha=1, max_iter=200000)</pre></div></div></div></div></div>"
      ],
      "text/plain": [
       "ElasticNet(alpha=1, max_iter=200000)"
      ]
     },
     "execution_count": 76,
     "metadata": {},
     "output_type": "execute_result"
    }
   ],
   "source": [
    "elastic_net_model.fit(X_train, y_train)"
   ]
  },
  {
   "cell_type": "code",
   "execution_count": 77,
   "id": "21b81fd3-c4de-4ad6-97fd-b30536a5d943",
   "metadata": {},
   "outputs": [],
   "source": [
    "elastic_net_model_preds = elastic_net_model.predict(X_test)"
   ]
  },
  {
   "cell_type": "code",
   "execution_count": 78,
   "id": "aa510d29-0b75-4e19-a707-bdabb375bfe1",
   "metadata": {},
   "outputs": [
    {
     "name": "stdout",
     "output_type": "stream",
     "text": [
      "MAE:  17645.78910136776\n",
      "RMSE:  32559.85901562667\n"
     ]
    }
   ],
   "source": [
    "errors(elastic_net_model_preds, 'elastic_net_model_default')"
   ]
  },
  {
   "cell_type": "markdown",
   "id": "3db6c489-d4c9-4477-a0b3-223df5374b2b",
   "metadata": {},
   "source": [
    "-----"
   ]
  },
  {
   "cell_type": "markdown",
   "id": "d8eb267d-af1d-48b8-a627-dab508e75341",
   "metadata": {},
   "source": [
    "**KNearestNeighbors (KNN)**"
   ]
  },
  {
   "cell_type": "code",
   "execution_count": 79,
   "id": "c9a68411-cdb6-4353-9441-140c6da5ec7c",
   "metadata": {},
   "outputs": [],
   "source": [
    "from sklearn.neighbors import KNeighborsRegressor"
   ]
  },
  {
   "cell_type": "code",
   "execution_count": 80,
   "id": "f1e2bfac-be29-4dcb-ac85-01dfbdb8b39c",
   "metadata": {},
   "outputs": [],
   "source": [
    "knn_model = KNeighborsRegressor()"
   ]
  },
  {
   "cell_type": "code",
   "execution_count": 81,
   "id": "d6c6c6f0-ad25-4a38-8d8e-670035f45d74",
   "metadata": {},
   "outputs": [
    {
     "data": {
      "text/html": [
       "<style>#sk-container-id-5 {color: black;background-color: white;}#sk-container-id-5 pre{padding: 0;}#sk-container-id-5 div.sk-toggleable {background-color: white;}#sk-container-id-5 label.sk-toggleable__label {cursor: pointer;display: block;width: 100%;margin-bottom: 0;padding: 0.3em;box-sizing: border-box;text-align: center;}#sk-container-id-5 label.sk-toggleable__label-arrow:before {content: \"▸\";float: left;margin-right: 0.25em;color: #696969;}#sk-container-id-5 label.sk-toggleable__label-arrow:hover:before {color: black;}#sk-container-id-5 div.sk-estimator:hover label.sk-toggleable__label-arrow:before {color: black;}#sk-container-id-5 div.sk-toggleable__content {max-height: 0;max-width: 0;overflow: hidden;text-align: left;background-color: #f0f8ff;}#sk-container-id-5 div.sk-toggleable__content pre {margin: 0.2em;color: black;border-radius: 0.25em;background-color: #f0f8ff;}#sk-container-id-5 input.sk-toggleable__control:checked~div.sk-toggleable__content {max-height: 200px;max-width: 100%;overflow: auto;}#sk-container-id-5 input.sk-toggleable__control:checked~label.sk-toggleable__label-arrow:before {content: \"▾\";}#sk-container-id-5 div.sk-estimator input.sk-toggleable__control:checked~label.sk-toggleable__label {background-color: #d4ebff;}#sk-container-id-5 div.sk-label input.sk-toggleable__control:checked~label.sk-toggleable__label {background-color: #d4ebff;}#sk-container-id-5 input.sk-hidden--visually {border: 0;clip: rect(1px 1px 1px 1px);clip: rect(1px, 1px, 1px, 1px);height: 1px;margin: -1px;overflow: hidden;padding: 0;position: absolute;width: 1px;}#sk-container-id-5 div.sk-estimator {font-family: monospace;background-color: #f0f8ff;border: 1px dotted black;border-radius: 0.25em;box-sizing: border-box;margin-bottom: 0.5em;}#sk-container-id-5 div.sk-estimator:hover {background-color: #d4ebff;}#sk-container-id-5 div.sk-parallel-item::after {content: \"\";width: 100%;border-bottom: 1px solid gray;flex-grow: 1;}#sk-container-id-5 div.sk-label:hover label.sk-toggleable__label {background-color: #d4ebff;}#sk-container-id-5 div.sk-serial::before {content: \"\";position: absolute;border-left: 1px solid gray;box-sizing: border-box;top: 0;bottom: 0;left: 50%;z-index: 0;}#sk-container-id-5 div.sk-serial {display: flex;flex-direction: column;align-items: center;background-color: white;padding-right: 0.2em;padding-left: 0.2em;position: relative;}#sk-container-id-5 div.sk-item {position: relative;z-index: 1;}#sk-container-id-5 div.sk-parallel {display: flex;align-items: stretch;justify-content: center;background-color: white;position: relative;}#sk-container-id-5 div.sk-item::before, #sk-container-id-5 div.sk-parallel-item::before {content: \"\";position: absolute;border-left: 1px solid gray;box-sizing: border-box;top: 0;bottom: 0;left: 50%;z-index: -1;}#sk-container-id-5 div.sk-parallel-item {display: flex;flex-direction: column;z-index: 1;position: relative;background-color: white;}#sk-container-id-5 div.sk-parallel-item:first-child::after {align-self: flex-end;width: 50%;}#sk-container-id-5 div.sk-parallel-item:last-child::after {align-self: flex-start;width: 50%;}#sk-container-id-5 div.sk-parallel-item:only-child::after {width: 0;}#sk-container-id-5 div.sk-dashed-wrapped {border: 1px dashed gray;margin: 0 0.4em 0.5em 0.4em;box-sizing: border-box;padding-bottom: 0.4em;background-color: white;}#sk-container-id-5 div.sk-label label {font-family: monospace;font-weight: bold;display: inline-block;line-height: 1.2em;}#sk-container-id-5 div.sk-label-container {text-align: center;}#sk-container-id-5 div.sk-container {/* jupyter's `normalize.less` sets `[hidden] { display: none; }` but bootstrap.min.css set `[hidden] { display: none !important; }` so we also need the `!important` here to be able to override the default hidden behavior on the sphinx rendered scikit-learn.org. See: https://github.com/scikit-learn/scikit-learn/issues/21755 */display: inline-block !important;position: relative;}#sk-container-id-5 div.sk-text-repr-fallback {display: none;}</style><div id=\"sk-container-id-5\" class=\"sk-top-container\"><div class=\"sk-text-repr-fallback\"><pre>KNeighborsRegressor()</pre><b>In a Jupyter environment, please rerun this cell to show the HTML representation or trust the notebook. <br />On GitHub, the HTML representation is unable to render, please try loading this page with nbviewer.org.</b></div><div class=\"sk-container\" hidden><div class=\"sk-item\"><div class=\"sk-estimator sk-toggleable\"><input class=\"sk-toggleable__control sk-hidden--visually\" id=\"sk-estimator-id-5\" type=\"checkbox\" checked><label for=\"sk-estimator-id-5\" class=\"sk-toggleable__label sk-toggleable__label-arrow\">KNeighborsRegressor</label><div class=\"sk-toggleable__content\"><pre>KNeighborsRegressor()</pre></div></div></div></div></div>"
      ],
      "text/plain": [
       "KNeighborsRegressor()"
      ]
     },
     "execution_count": 81,
     "metadata": {},
     "output_type": "execute_result"
    }
   ],
   "source": [
    "knn_model.fit(X_train, y_train)"
   ]
  },
  {
   "cell_type": "code",
   "execution_count": 82,
   "id": "e9e805cb-ea72-4e6e-8858-071ae1d8baae",
   "metadata": {},
   "outputs": [],
   "source": [
    "knn_model_preds = knn_model.predict(X_test)"
   ]
  },
  {
   "cell_type": "code",
   "execution_count": 83,
   "id": "87cab212-c792-451a-8951-697570a3d196",
   "metadata": {},
   "outputs": [
    {
     "name": "stdout",
     "output_type": "stream",
     "text": [
      "MAE:  28053.61010928962\n",
      "RMSE:  42151.42035699611\n"
     ]
    }
   ],
   "source": [
    "errors(knn_model_preds, 'knn_model_default')"
   ]
  },
  {
   "cell_type": "markdown",
   "id": "e21d312f-d59b-43eb-b437-56ce92222668",
   "metadata": {},
   "source": [
    "-----"
   ]
  },
  {
   "cell_type": "markdown",
   "id": "05fb3733-9103-4d94-96c4-3b636b65529a",
   "metadata": {},
   "source": [
    "**DECISION TREE**"
   ]
  },
  {
   "cell_type": "code",
   "execution_count": 84,
   "id": "e5cd3194-46bc-448b-97d3-afa8dba32623",
   "metadata": {},
   "outputs": [],
   "source": [
    "from sklearn.tree import DecisionTreeRegressor"
   ]
  },
  {
   "cell_type": "code",
   "execution_count": 85,
   "id": "39e04c97-e136-4fb5-aa9c-04efb4968649",
   "metadata": {},
   "outputs": [],
   "source": [
    "decision_tree_model = DecisionTreeRegressor()"
   ]
  },
  {
   "cell_type": "code",
   "execution_count": 86,
   "id": "ba78c9ef-9782-4655-bd5b-0adc7f02ab01",
   "metadata": {},
   "outputs": [
    {
     "data": {
      "text/html": [
       "<style>#sk-container-id-6 {color: black;background-color: white;}#sk-container-id-6 pre{padding: 0;}#sk-container-id-6 div.sk-toggleable {background-color: white;}#sk-container-id-6 label.sk-toggleable__label {cursor: pointer;display: block;width: 100%;margin-bottom: 0;padding: 0.3em;box-sizing: border-box;text-align: center;}#sk-container-id-6 label.sk-toggleable__label-arrow:before {content: \"▸\";float: left;margin-right: 0.25em;color: #696969;}#sk-container-id-6 label.sk-toggleable__label-arrow:hover:before {color: black;}#sk-container-id-6 div.sk-estimator:hover label.sk-toggleable__label-arrow:before {color: black;}#sk-container-id-6 div.sk-toggleable__content {max-height: 0;max-width: 0;overflow: hidden;text-align: left;background-color: #f0f8ff;}#sk-container-id-6 div.sk-toggleable__content pre {margin: 0.2em;color: black;border-radius: 0.25em;background-color: #f0f8ff;}#sk-container-id-6 input.sk-toggleable__control:checked~div.sk-toggleable__content {max-height: 200px;max-width: 100%;overflow: auto;}#sk-container-id-6 input.sk-toggleable__control:checked~label.sk-toggleable__label-arrow:before {content: \"▾\";}#sk-container-id-6 div.sk-estimator input.sk-toggleable__control:checked~label.sk-toggleable__label {background-color: #d4ebff;}#sk-container-id-6 div.sk-label input.sk-toggleable__control:checked~label.sk-toggleable__label {background-color: #d4ebff;}#sk-container-id-6 input.sk-hidden--visually {border: 0;clip: rect(1px 1px 1px 1px);clip: rect(1px, 1px, 1px, 1px);height: 1px;margin: -1px;overflow: hidden;padding: 0;position: absolute;width: 1px;}#sk-container-id-6 div.sk-estimator {font-family: monospace;background-color: #f0f8ff;border: 1px dotted black;border-radius: 0.25em;box-sizing: border-box;margin-bottom: 0.5em;}#sk-container-id-6 div.sk-estimator:hover {background-color: #d4ebff;}#sk-container-id-6 div.sk-parallel-item::after {content: \"\";width: 100%;border-bottom: 1px solid gray;flex-grow: 1;}#sk-container-id-6 div.sk-label:hover label.sk-toggleable__label {background-color: #d4ebff;}#sk-container-id-6 div.sk-serial::before {content: \"\";position: absolute;border-left: 1px solid gray;box-sizing: border-box;top: 0;bottom: 0;left: 50%;z-index: 0;}#sk-container-id-6 div.sk-serial {display: flex;flex-direction: column;align-items: center;background-color: white;padding-right: 0.2em;padding-left: 0.2em;position: relative;}#sk-container-id-6 div.sk-item {position: relative;z-index: 1;}#sk-container-id-6 div.sk-parallel {display: flex;align-items: stretch;justify-content: center;background-color: white;position: relative;}#sk-container-id-6 div.sk-item::before, #sk-container-id-6 div.sk-parallel-item::before {content: \"\";position: absolute;border-left: 1px solid gray;box-sizing: border-box;top: 0;bottom: 0;left: 50%;z-index: -1;}#sk-container-id-6 div.sk-parallel-item {display: flex;flex-direction: column;z-index: 1;position: relative;background-color: white;}#sk-container-id-6 div.sk-parallel-item:first-child::after {align-self: flex-end;width: 50%;}#sk-container-id-6 div.sk-parallel-item:last-child::after {align-self: flex-start;width: 50%;}#sk-container-id-6 div.sk-parallel-item:only-child::after {width: 0;}#sk-container-id-6 div.sk-dashed-wrapped {border: 1px dashed gray;margin: 0 0.4em 0.5em 0.4em;box-sizing: border-box;padding-bottom: 0.4em;background-color: white;}#sk-container-id-6 div.sk-label label {font-family: monospace;font-weight: bold;display: inline-block;line-height: 1.2em;}#sk-container-id-6 div.sk-label-container {text-align: center;}#sk-container-id-6 div.sk-container {/* jupyter's `normalize.less` sets `[hidden] { display: none; }` but bootstrap.min.css set `[hidden] { display: none !important; }` so we also need the `!important` here to be able to override the default hidden behavior on the sphinx rendered scikit-learn.org. See: https://github.com/scikit-learn/scikit-learn/issues/21755 */display: inline-block !important;position: relative;}#sk-container-id-6 div.sk-text-repr-fallback {display: none;}</style><div id=\"sk-container-id-6\" class=\"sk-top-container\"><div class=\"sk-text-repr-fallback\"><pre>DecisionTreeRegressor()</pre><b>In a Jupyter environment, please rerun this cell to show the HTML representation or trust the notebook. <br />On GitHub, the HTML representation is unable to render, please try loading this page with nbviewer.org.</b></div><div class=\"sk-container\" hidden><div class=\"sk-item\"><div class=\"sk-estimator sk-toggleable\"><input class=\"sk-toggleable__control sk-hidden--visually\" id=\"sk-estimator-id-6\" type=\"checkbox\" checked><label for=\"sk-estimator-id-6\" class=\"sk-toggleable__label sk-toggleable__label-arrow\">DecisionTreeRegressor</label><div class=\"sk-toggleable__content\"><pre>DecisionTreeRegressor()</pre></div></div></div></div></div>"
      ],
      "text/plain": [
       "DecisionTreeRegressor()"
      ]
     },
     "execution_count": 86,
     "metadata": {},
     "output_type": "execute_result"
    }
   ],
   "source": [
    "decision_tree_model.fit(X_train, y_train)"
   ]
  },
  {
   "cell_type": "code",
   "execution_count": 87,
   "id": "56972c8e-914e-4285-b49c-fdc749273979",
   "metadata": {},
   "outputs": [],
   "source": [
    "decision_tree_model_preds = decision_tree_model.predict(X_test)"
   ]
  },
  {
   "cell_type": "code",
   "execution_count": 88,
   "id": "5058262c-d96c-410b-ba78-c4b7e957965f",
   "metadata": {},
   "outputs": [
    {
     "name": "stdout",
     "output_type": "stream",
     "text": [
      "MAE:  23530.080601092897\n",
      "RMSE:  36576.15927163769\n"
     ]
    }
   ],
   "source": [
    "errors(decision_tree_model_preds, 'decision_tree_model_default')"
   ]
  },
  {
   "cell_type": "markdown",
   "id": "9123ea09-d914-4f46-b241-ff00c86395e7",
   "metadata": {},
   "source": [
    "-----"
   ]
  },
  {
   "cell_type": "markdown",
   "id": "974ab41a-4abf-4cb8-9698-4909c8fb4857",
   "metadata": {},
   "source": [
    "**SUPPORT VECTOR MACHINES**"
   ]
  },
  {
   "cell_type": "code",
   "execution_count": 89,
   "id": "404df0ec-9e17-4c31-8a55-bb61ebeb8505",
   "metadata": {},
   "outputs": [],
   "source": [
    "from sklearn.svm import SVR"
   ]
  },
  {
   "cell_type": "code",
   "execution_count": 90,
   "id": "0b420ea6-5abc-4593-aeee-76df92afe8a5",
   "metadata": {},
   "outputs": [],
   "source": [
    "svr_model = SVR()"
   ]
  },
  {
   "cell_type": "code",
   "execution_count": 91,
   "id": "ee4d564e-445a-4e9e-83ac-b448b6b29e2b",
   "metadata": {},
   "outputs": [
    {
     "data": {
      "text/html": [
       "<style>#sk-container-id-7 {color: black;background-color: white;}#sk-container-id-7 pre{padding: 0;}#sk-container-id-7 div.sk-toggleable {background-color: white;}#sk-container-id-7 label.sk-toggleable__label {cursor: pointer;display: block;width: 100%;margin-bottom: 0;padding: 0.3em;box-sizing: border-box;text-align: center;}#sk-container-id-7 label.sk-toggleable__label-arrow:before {content: \"▸\";float: left;margin-right: 0.25em;color: #696969;}#sk-container-id-7 label.sk-toggleable__label-arrow:hover:before {color: black;}#sk-container-id-7 div.sk-estimator:hover label.sk-toggleable__label-arrow:before {color: black;}#sk-container-id-7 div.sk-toggleable__content {max-height: 0;max-width: 0;overflow: hidden;text-align: left;background-color: #f0f8ff;}#sk-container-id-7 div.sk-toggleable__content pre {margin: 0.2em;color: black;border-radius: 0.25em;background-color: #f0f8ff;}#sk-container-id-7 input.sk-toggleable__control:checked~div.sk-toggleable__content {max-height: 200px;max-width: 100%;overflow: auto;}#sk-container-id-7 input.sk-toggleable__control:checked~label.sk-toggleable__label-arrow:before {content: \"▾\";}#sk-container-id-7 div.sk-estimator input.sk-toggleable__control:checked~label.sk-toggleable__label {background-color: #d4ebff;}#sk-container-id-7 div.sk-label input.sk-toggleable__control:checked~label.sk-toggleable__label {background-color: #d4ebff;}#sk-container-id-7 input.sk-hidden--visually {border: 0;clip: rect(1px 1px 1px 1px);clip: rect(1px, 1px, 1px, 1px);height: 1px;margin: -1px;overflow: hidden;padding: 0;position: absolute;width: 1px;}#sk-container-id-7 div.sk-estimator {font-family: monospace;background-color: #f0f8ff;border: 1px dotted black;border-radius: 0.25em;box-sizing: border-box;margin-bottom: 0.5em;}#sk-container-id-7 div.sk-estimator:hover {background-color: #d4ebff;}#sk-container-id-7 div.sk-parallel-item::after {content: \"\";width: 100%;border-bottom: 1px solid gray;flex-grow: 1;}#sk-container-id-7 div.sk-label:hover label.sk-toggleable__label {background-color: #d4ebff;}#sk-container-id-7 div.sk-serial::before {content: \"\";position: absolute;border-left: 1px solid gray;box-sizing: border-box;top: 0;bottom: 0;left: 50%;z-index: 0;}#sk-container-id-7 div.sk-serial {display: flex;flex-direction: column;align-items: center;background-color: white;padding-right: 0.2em;padding-left: 0.2em;position: relative;}#sk-container-id-7 div.sk-item {position: relative;z-index: 1;}#sk-container-id-7 div.sk-parallel {display: flex;align-items: stretch;justify-content: center;background-color: white;position: relative;}#sk-container-id-7 div.sk-item::before, #sk-container-id-7 div.sk-parallel-item::before {content: \"\";position: absolute;border-left: 1px solid gray;box-sizing: border-box;top: 0;bottom: 0;left: 50%;z-index: -1;}#sk-container-id-7 div.sk-parallel-item {display: flex;flex-direction: column;z-index: 1;position: relative;background-color: white;}#sk-container-id-7 div.sk-parallel-item:first-child::after {align-self: flex-end;width: 50%;}#sk-container-id-7 div.sk-parallel-item:last-child::after {align-self: flex-start;width: 50%;}#sk-container-id-7 div.sk-parallel-item:only-child::after {width: 0;}#sk-container-id-7 div.sk-dashed-wrapped {border: 1px dashed gray;margin: 0 0.4em 0.5em 0.4em;box-sizing: border-box;padding-bottom: 0.4em;background-color: white;}#sk-container-id-7 div.sk-label label {font-family: monospace;font-weight: bold;display: inline-block;line-height: 1.2em;}#sk-container-id-7 div.sk-label-container {text-align: center;}#sk-container-id-7 div.sk-container {/* jupyter's `normalize.less` sets `[hidden] { display: none; }` but bootstrap.min.css set `[hidden] { display: none !important; }` so we also need the `!important` here to be able to override the default hidden behavior on the sphinx rendered scikit-learn.org. See: https://github.com/scikit-learn/scikit-learn/issues/21755 */display: inline-block !important;position: relative;}#sk-container-id-7 div.sk-text-repr-fallback {display: none;}</style><div id=\"sk-container-id-7\" class=\"sk-top-container\"><div class=\"sk-text-repr-fallback\"><pre>SVR()</pre><b>In a Jupyter environment, please rerun this cell to show the HTML representation or trust the notebook. <br />On GitHub, the HTML representation is unable to render, please try loading this page with nbviewer.org.</b></div><div class=\"sk-container\" hidden><div class=\"sk-item\"><div class=\"sk-estimator sk-toggleable\"><input class=\"sk-toggleable__control sk-hidden--visually\" id=\"sk-estimator-id-7\" type=\"checkbox\" checked><label for=\"sk-estimator-id-7\" class=\"sk-toggleable__label sk-toggleable__label-arrow\">SVR</label><div class=\"sk-toggleable__content\"><pre>SVR()</pre></div></div></div></div></div>"
      ],
      "text/plain": [
       "SVR()"
      ]
     },
     "execution_count": 91,
     "metadata": {},
     "output_type": "execute_result"
    }
   ],
   "source": [
    "svr_model.fit(X_train, y_train)"
   ]
  },
  {
   "cell_type": "code",
   "execution_count": 92,
   "id": "7377a609-2920-418a-b563-1b87d8d67c20",
   "metadata": {},
   "outputs": [],
   "source": [
    "svr_model_preds = svr_model.predict(X_test)"
   ]
  },
  {
   "cell_type": "code",
   "execution_count": 93,
   "id": "e66a4a0d-191d-4c01-b47a-3fd22f5aae07",
   "metadata": {},
   "outputs": [
    {
     "name": "stdout",
     "output_type": "stream",
     "text": [
      "MAE:  57693.89306077866\n",
      "RMSE:  85014.62078868182\n"
     ]
    }
   ],
   "source": [
    "errors(svr_model_preds, 'svr_model_default')"
   ]
  },
  {
   "cell_type": "markdown",
   "id": "339ebec5-5dc8-468a-a734-dae12000cfcd",
   "metadata": {},
   "source": [
    "-----"
   ]
  },
  {
   "cell_type": "markdown",
   "id": "1026d5f7-0ffc-4553-9882-80bb74b3973c",
   "metadata": {},
   "source": [
    "**RANDOM FOREST**"
   ]
  },
  {
   "cell_type": "code",
   "execution_count": 94,
   "id": "3a6b3d6d-5be9-4d8f-94a5-05c48bc3a527",
   "metadata": {},
   "outputs": [],
   "source": [
    "from sklearn.ensemble import RandomForestRegressor"
   ]
  },
  {
   "cell_type": "code",
   "execution_count": 95,
   "id": "5a89d21b-3ac4-4fdb-a048-ca9548f2f57c",
   "metadata": {},
   "outputs": [],
   "source": [
    "rfg_model = RandomForestRegressor()"
   ]
  },
  {
   "cell_type": "code",
   "execution_count": 96,
   "id": "328185cf-52ce-490d-b388-02baa81b7727",
   "metadata": {},
   "outputs": [
    {
     "data": {
      "text/html": [
       "<style>#sk-container-id-8 {color: black;background-color: white;}#sk-container-id-8 pre{padding: 0;}#sk-container-id-8 div.sk-toggleable {background-color: white;}#sk-container-id-8 label.sk-toggleable__label {cursor: pointer;display: block;width: 100%;margin-bottom: 0;padding: 0.3em;box-sizing: border-box;text-align: center;}#sk-container-id-8 label.sk-toggleable__label-arrow:before {content: \"▸\";float: left;margin-right: 0.25em;color: #696969;}#sk-container-id-8 label.sk-toggleable__label-arrow:hover:before {color: black;}#sk-container-id-8 div.sk-estimator:hover label.sk-toggleable__label-arrow:before {color: black;}#sk-container-id-8 div.sk-toggleable__content {max-height: 0;max-width: 0;overflow: hidden;text-align: left;background-color: #f0f8ff;}#sk-container-id-8 div.sk-toggleable__content pre {margin: 0.2em;color: black;border-radius: 0.25em;background-color: #f0f8ff;}#sk-container-id-8 input.sk-toggleable__control:checked~div.sk-toggleable__content {max-height: 200px;max-width: 100%;overflow: auto;}#sk-container-id-8 input.sk-toggleable__control:checked~label.sk-toggleable__label-arrow:before {content: \"▾\";}#sk-container-id-8 div.sk-estimator input.sk-toggleable__control:checked~label.sk-toggleable__label {background-color: #d4ebff;}#sk-container-id-8 div.sk-label input.sk-toggleable__control:checked~label.sk-toggleable__label {background-color: #d4ebff;}#sk-container-id-8 input.sk-hidden--visually {border: 0;clip: rect(1px 1px 1px 1px);clip: rect(1px, 1px, 1px, 1px);height: 1px;margin: -1px;overflow: hidden;padding: 0;position: absolute;width: 1px;}#sk-container-id-8 div.sk-estimator {font-family: monospace;background-color: #f0f8ff;border: 1px dotted black;border-radius: 0.25em;box-sizing: border-box;margin-bottom: 0.5em;}#sk-container-id-8 div.sk-estimator:hover {background-color: #d4ebff;}#sk-container-id-8 div.sk-parallel-item::after {content: \"\";width: 100%;border-bottom: 1px solid gray;flex-grow: 1;}#sk-container-id-8 div.sk-label:hover label.sk-toggleable__label {background-color: #d4ebff;}#sk-container-id-8 div.sk-serial::before {content: \"\";position: absolute;border-left: 1px solid gray;box-sizing: border-box;top: 0;bottom: 0;left: 50%;z-index: 0;}#sk-container-id-8 div.sk-serial {display: flex;flex-direction: column;align-items: center;background-color: white;padding-right: 0.2em;padding-left: 0.2em;position: relative;}#sk-container-id-8 div.sk-item {position: relative;z-index: 1;}#sk-container-id-8 div.sk-parallel {display: flex;align-items: stretch;justify-content: center;background-color: white;position: relative;}#sk-container-id-8 div.sk-item::before, #sk-container-id-8 div.sk-parallel-item::before {content: \"\";position: absolute;border-left: 1px solid gray;box-sizing: border-box;top: 0;bottom: 0;left: 50%;z-index: -1;}#sk-container-id-8 div.sk-parallel-item {display: flex;flex-direction: column;z-index: 1;position: relative;background-color: white;}#sk-container-id-8 div.sk-parallel-item:first-child::after {align-self: flex-end;width: 50%;}#sk-container-id-8 div.sk-parallel-item:last-child::after {align-self: flex-start;width: 50%;}#sk-container-id-8 div.sk-parallel-item:only-child::after {width: 0;}#sk-container-id-8 div.sk-dashed-wrapped {border: 1px dashed gray;margin: 0 0.4em 0.5em 0.4em;box-sizing: border-box;padding-bottom: 0.4em;background-color: white;}#sk-container-id-8 div.sk-label label {font-family: monospace;font-weight: bold;display: inline-block;line-height: 1.2em;}#sk-container-id-8 div.sk-label-container {text-align: center;}#sk-container-id-8 div.sk-container {/* jupyter's `normalize.less` sets `[hidden] { display: none; }` but bootstrap.min.css set `[hidden] { display: none !important; }` so we also need the `!important` here to be able to override the default hidden behavior on the sphinx rendered scikit-learn.org. See: https://github.com/scikit-learn/scikit-learn/issues/21755 */display: inline-block !important;position: relative;}#sk-container-id-8 div.sk-text-repr-fallback {display: none;}</style><div id=\"sk-container-id-8\" class=\"sk-top-container\"><div class=\"sk-text-repr-fallback\"><pre>RandomForestRegressor()</pre><b>In a Jupyter environment, please rerun this cell to show the HTML representation or trust the notebook. <br />On GitHub, the HTML representation is unable to render, please try loading this page with nbviewer.org.</b></div><div class=\"sk-container\" hidden><div class=\"sk-item\"><div class=\"sk-estimator sk-toggleable\"><input class=\"sk-toggleable__control sk-hidden--visually\" id=\"sk-estimator-id-8\" type=\"checkbox\" checked><label for=\"sk-estimator-id-8\" class=\"sk-toggleable__label sk-toggleable__label-arrow\">RandomForestRegressor</label><div class=\"sk-toggleable__content\"><pre>RandomForestRegressor()</pre></div></div></div></div></div>"
      ],
      "text/plain": [
       "RandomForestRegressor()"
      ]
     },
     "execution_count": 96,
     "metadata": {},
     "output_type": "execute_result"
    }
   ],
   "source": [
    "rfg_model.fit(X_train, y_train)"
   ]
  },
  {
   "cell_type": "code",
   "execution_count": 97,
   "id": "11c0d8be-cb74-49bd-abee-bf4a76431980",
   "metadata": {},
   "outputs": [],
   "source": [
    "rfg_model_preds = rfg_model.predict(X_test)"
   ]
  },
  {
   "cell_type": "code",
   "execution_count": 98,
   "id": "d47a93bf-0cc0-42f4-9613-0ba8849d5ebf",
   "metadata": {},
   "outputs": [
    {
     "name": "stdout",
     "output_type": "stream",
     "text": [
      "MAE:  15018.95884530315\n",
      "RMSE:  23654.565436151777\n"
     ]
    }
   ],
   "source": [
    "errors(rfg_model_preds, 'rfg_model_default')"
   ]
  },
  {
   "cell_type": "markdown",
   "id": "858f8a9f-accd-4834-b576-20d2e48c7ecb",
   "metadata": {},
   "source": [
    "-----"
   ]
  },
  {
   "cell_type": "markdown",
   "id": "cd92ab34-5c68-4310-945a-62e44bd08a5f",
   "metadata": {},
   "source": [
    "**GRADIENT BOOST**"
   ]
  },
  {
   "cell_type": "code",
   "execution_count": 99,
   "id": "a9bb1986-c85a-4592-be39-37fe9f476981",
   "metadata": {},
   "outputs": [],
   "source": [
    "from sklearn.ensemble import GradientBoostingRegressor"
   ]
  },
  {
   "cell_type": "code",
   "execution_count": 100,
   "id": "76171558-7295-40ee-bffb-c753d365a053",
   "metadata": {},
   "outputs": [],
   "source": [
    "gbr_model = GradientBoostingRegressor()"
   ]
  },
  {
   "cell_type": "code",
   "execution_count": 101,
   "id": "32ccad6c-69e6-454b-a93a-777e4984c826",
   "metadata": {},
   "outputs": [
    {
     "data": {
      "text/html": [
       "<style>#sk-container-id-9 {color: black;background-color: white;}#sk-container-id-9 pre{padding: 0;}#sk-container-id-9 div.sk-toggleable {background-color: white;}#sk-container-id-9 label.sk-toggleable__label {cursor: pointer;display: block;width: 100%;margin-bottom: 0;padding: 0.3em;box-sizing: border-box;text-align: center;}#sk-container-id-9 label.sk-toggleable__label-arrow:before {content: \"▸\";float: left;margin-right: 0.25em;color: #696969;}#sk-container-id-9 label.sk-toggleable__label-arrow:hover:before {color: black;}#sk-container-id-9 div.sk-estimator:hover label.sk-toggleable__label-arrow:before {color: black;}#sk-container-id-9 div.sk-toggleable__content {max-height: 0;max-width: 0;overflow: hidden;text-align: left;background-color: #f0f8ff;}#sk-container-id-9 div.sk-toggleable__content pre {margin: 0.2em;color: black;border-radius: 0.25em;background-color: #f0f8ff;}#sk-container-id-9 input.sk-toggleable__control:checked~div.sk-toggleable__content {max-height: 200px;max-width: 100%;overflow: auto;}#sk-container-id-9 input.sk-toggleable__control:checked~label.sk-toggleable__label-arrow:before {content: \"▾\";}#sk-container-id-9 div.sk-estimator input.sk-toggleable__control:checked~label.sk-toggleable__label {background-color: #d4ebff;}#sk-container-id-9 div.sk-label input.sk-toggleable__control:checked~label.sk-toggleable__label {background-color: #d4ebff;}#sk-container-id-9 input.sk-hidden--visually {border: 0;clip: rect(1px 1px 1px 1px);clip: rect(1px, 1px, 1px, 1px);height: 1px;margin: -1px;overflow: hidden;padding: 0;position: absolute;width: 1px;}#sk-container-id-9 div.sk-estimator {font-family: monospace;background-color: #f0f8ff;border: 1px dotted black;border-radius: 0.25em;box-sizing: border-box;margin-bottom: 0.5em;}#sk-container-id-9 div.sk-estimator:hover {background-color: #d4ebff;}#sk-container-id-9 div.sk-parallel-item::after {content: \"\";width: 100%;border-bottom: 1px solid gray;flex-grow: 1;}#sk-container-id-9 div.sk-label:hover label.sk-toggleable__label {background-color: #d4ebff;}#sk-container-id-9 div.sk-serial::before {content: \"\";position: absolute;border-left: 1px solid gray;box-sizing: border-box;top: 0;bottom: 0;left: 50%;z-index: 0;}#sk-container-id-9 div.sk-serial {display: flex;flex-direction: column;align-items: center;background-color: white;padding-right: 0.2em;padding-left: 0.2em;position: relative;}#sk-container-id-9 div.sk-item {position: relative;z-index: 1;}#sk-container-id-9 div.sk-parallel {display: flex;align-items: stretch;justify-content: center;background-color: white;position: relative;}#sk-container-id-9 div.sk-item::before, #sk-container-id-9 div.sk-parallel-item::before {content: \"\";position: absolute;border-left: 1px solid gray;box-sizing: border-box;top: 0;bottom: 0;left: 50%;z-index: -1;}#sk-container-id-9 div.sk-parallel-item {display: flex;flex-direction: column;z-index: 1;position: relative;background-color: white;}#sk-container-id-9 div.sk-parallel-item:first-child::after {align-self: flex-end;width: 50%;}#sk-container-id-9 div.sk-parallel-item:last-child::after {align-self: flex-start;width: 50%;}#sk-container-id-9 div.sk-parallel-item:only-child::after {width: 0;}#sk-container-id-9 div.sk-dashed-wrapped {border: 1px dashed gray;margin: 0 0.4em 0.5em 0.4em;box-sizing: border-box;padding-bottom: 0.4em;background-color: white;}#sk-container-id-9 div.sk-label label {font-family: monospace;font-weight: bold;display: inline-block;line-height: 1.2em;}#sk-container-id-9 div.sk-label-container {text-align: center;}#sk-container-id-9 div.sk-container {/* jupyter's `normalize.less` sets `[hidden] { display: none; }` but bootstrap.min.css set `[hidden] { display: none !important; }` so we also need the `!important` here to be able to override the default hidden behavior on the sphinx rendered scikit-learn.org. See: https://github.com/scikit-learn/scikit-learn/issues/21755 */display: inline-block !important;position: relative;}#sk-container-id-9 div.sk-text-repr-fallback {display: none;}</style><div id=\"sk-container-id-9\" class=\"sk-top-container\"><div class=\"sk-text-repr-fallback\"><pre>GradientBoostingRegressor()</pre><b>In a Jupyter environment, please rerun this cell to show the HTML representation or trust the notebook. <br />On GitHub, the HTML representation is unable to render, please try loading this page with nbviewer.org.</b></div><div class=\"sk-container\" hidden><div class=\"sk-item\"><div class=\"sk-estimator sk-toggleable\"><input class=\"sk-toggleable__control sk-hidden--visually\" id=\"sk-estimator-id-9\" type=\"checkbox\" checked><label for=\"sk-estimator-id-9\" class=\"sk-toggleable__label sk-toggleable__label-arrow\">GradientBoostingRegressor</label><div class=\"sk-toggleable__content\"><pre>GradientBoostingRegressor()</pre></div></div></div></div></div>"
      ],
      "text/plain": [
       "GradientBoostingRegressor()"
      ]
     },
     "execution_count": 101,
     "metadata": {},
     "output_type": "execute_result"
    }
   ],
   "source": [
    "gbr_model.fit(X_train, y_train)"
   ]
  },
  {
   "cell_type": "code",
   "execution_count": 102,
   "id": "3ce7a5b2-d2d6-46df-8ba1-c1d08ec9f669",
   "metadata": {},
   "outputs": [],
   "source": [
    "gbr_model_preds = gbr_model.predict(X_test)"
   ]
  },
  {
   "cell_type": "code",
   "execution_count": 103,
   "id": "00531bd4-40ed-4b01-a9a2-e72e052fa34a",
   "metadata": {},
   "outputs": [
    {
     "name": "stdout",
     "output_type": "stream",
     "text": [
      "MAE:  13855.371883146214\n",
      "RMSE:  21977.14470682146\n"
     ]
    }
   ],
   "source": [
    "errors(gbr_model_preds, 'gbr_model_default')"
   ]
  },
  {
   "cell_type": "markdown",
   "id": "a47181f5-0cf1-45c2-bb99-8c983204d23f",
   "metadata": {},
   "source": [
    "-----"
   ]
  },
  {
   "cell_type": "markdown",
   "id": "0e665f25-147b-4154-9abf-444aec962916",
   "metadata": {},
   "source": [
    "**ADA BOOST**"
   ]
  },
  {
   "cell_type": "code",
   "execution_count": 104,
   "id": "10e50d8e-fbcf-44c2-9341-3bdea6e55edc",
   "metadata": {},
   "outputs": [],
   "source": [
    "from sklearn.ensemble import AdaBoostRegressor"
   ]
  },
  {
   "cell_type": "code",
   "execution_count": 105,
   "id": "eccfd666-106b-4380-8fa6-3a44c276aaa3",
   "metadata": {},
   "outputs": [],
   "source": [
    "abr_model = AdaBoostRegressor()"
   ]
  },
  {
   "cell_type": "code",
   "execution_count": 106,
   "id": "356127a7-b464-4876-b73a-3215b3308be8",
   "metadata": {},
   "outputs": [
    {
     "data": {
      "text/html": [
       "<style>#sk-container-id-10 {color: black;background-color: white;}#sk-container-id-10 pre{padding: 0;}#sk-container-id-10 div.sk-toggleable {background-color: white;}#sk-container-id-10 label.sk-toggleable__label {cursor: pointer;display: block;width: 100%;margin-bottom: 0;padding: 0.3em;box-sizing: border-box;text-align: center;}#sk-container-id-10 label.sk-toggleable__label-arrow:before {content: \"▸\";float: left;margin-right: 0.25em;color: #696969;}#sk-container-id-10 label.sk-toggleable__label-arrow:hover:before {color: black;}#sk-container-id-10 div.sk-estimator:hover label.sk-toggleable__label-arrow:before {color: black;}#sk-container-id-10 div.sk-toggleable__content {max-height: 0;max-width: 0;overflow: hidden;text-align: left;background-color: #f0f8ff;}#sk-container-id-10 div.sk-toggleable__content pre {margin: 0.2em;color: black;border-radius: 0.25em;background-color: #f0f8ff;}#sk-container-id-10 input.sk-toggleable__control:checked~div.sk-toggleable__content {max-height: 200px;max-width: 100%;overflow: auto;}#sk-container-id-10 input.sk-toggleable__control:checked~label.sk-toggleable__label-arrow:before {content: \"▾\";}#sk-container-id-10 div.sk-estimator input.sk-toggleable__control:checked~label.sk-toggleable__label {background-color: #d4ebff;}#sk-container-id-10 div.sk-label input.sk-toggleable__control:checked~label.sk-toggleable__label {background-color: #d4ebff;}#sk-container-id-10 input.sk-hidden--visually {border: 0;clip: rect(1px 1px 1px 1px);clip: rect(1px, 1px, 1px, 1px);height: 1px;margin: -1px;overflow: hidden;padding: 0;position: absolute;width: 1px;}#sk-container-id-10 div.sk-estimator {font-family: monospace;background-color: #f0f8ff;border: 1px dotted black;border-radius: 0.25em;box-sizing: border-box;margin-bottom: 0.5em;}#sk-container-id-10 div.sk-estimator:hover {background-color: #d4ebff;}#sk-container-id-10 div.sk-parallel-item::after {content: \"\";width: 100%;border-bottom: 1px solid gray;flex-grow: 1;}#sk-container-id-10 div.sk-label:hover label.sk-toggleable__label {background-color: #d4ebff;}#sk-container-id-10 div.sk-serial::before {content: \"\";position: absolute;border-left: 1px solid gray;box-sizing: border-box;top: 0;bottom: 0;left: 50%;z-index: 0;}#sk-container-id-10 div.sk-serial {display: flex;flex-direction: column;align-items: center;background-color: white;padding-right: 0.2em;padding-left: 0.2em;position: relative;}#sk-container-id-10 div.sk-item {position: relative;z-index: 1;}#sk-container-id-10 div.sk-parallel {display: flex;align-items: stretch;justify-content: center;background-color: white;position: relative;}#sk-container-id-10 div.sk-item::before, #sk-container-id-10 div.sk-parallel-item::before {content: \"\";position: absolute;border-left: 1px solid gray;box-sizing: border-box;top: 0;bottom: 0;left: 50%;z-index: -1;}#sk-container-id-10 div.sk-parallel-item {display: flex;flex-direction: column;z-index: 1;position: relative;background-color: white;}#sk-container-id-10 div.sk-parallel-item:first-child::after {align-self: flex-end;width: 50%;}#sk-container-id-10 div.sk-parallel-item:last-child::after {align-self: flex-start;width: 50%;}#sk-container-id-10 div.sk-parallel-item:only-child::after {width: 0;}#sk-container-id-10 div.sk-dashed-wrapped {border: 1px dashed gray;margin: 0 0.4em 0.5em 0.4em;box-sizing: border-box;padding-bottom: 0.4em;background-color: white;}#sk-container-id-10 div.sk-label label {font-family: monospace;font-weight: bold;display: inline-block;line-height: 1.2em;}#sk-container-id-10 div.sk-label-container {text-align: center;}#sk-container-id-10 div.sk-container {/* jupyter's `normalize.less` sets `[hidden] { display: none; }` but bootstrap.min.css set `[hidden] { display: none !important; }` so we also need the `!important` here to be able to override the default hidden behavior on the sphinx rendered scikit-learn.org. See: https://github.com/scikit-learn/scikit-learn/issues/21755 */display: inline-block !important;position: relative;}#sk-container-id-10 div.sk-text-repr-fallback {display: none;}</style><div id=\"sk-container-id-10\" class=\"sk-top-container\"><div class=\"sk-text-repr-fallback\"><pre>AdaBoostRegressor()</pre><b>In a Jupyter environment, please rerun this cell to show the HTML representation or trust the notebook. <br />On GitHub, the HTML representation is unable to render, please try loading this page with nbviewer.org.</b></div><div class=\"sk-container\" hidden><div class=\"sk-item\"><div class=\"sk-estimator sk-toggleable\"><input class=\"sk-toggleable__control sk-hidden--visually\" id=\"sk-estimator-id-10\" type=\"checkbox\" checked><label for=\"sk-estimator-id-10\" class=\"sk-toggleable__label sk-toggleable__label-arrow\">AdaBoostRegressor</label><div class=\"sk-toggleable__content\"><pre>AdaBoostRegressor()</pre></div></div></div></div></div>"
      ],
      "text/plain": [
       "AdaBoostRegressor()"
      ]
     },
     "execution_count": 106,
     "metadata": {},
     "output_type": "execute_result"
    }
   ],
   "source": [
    "abr_model.fit(X_train, y_train)"
   ]
  },
  {
   "cell_type": "code",
   "execution_count": 107,
   "id": "eab73666-697d-4fca-824f-a18f02afa202",
   "metadata": {},
   "outputs": [],
   "source": [
    "abr_model_preds = abr_model.predict(X_test)"
   ]
  },
  {
   "cell_type": "code",
   "execution_count": 108,
   "id": "7be24986-7cb7-483a-bc3b-67b4b0cf4038",
   "metadata": {},
   "outputs": [
    {
     "name": "stdout",
     "output_type": "stream",
     "text": [
      "MAE:  22350.960067089803\n",
      "RMSE:  30084.28217101867\n"
     ]
    }
   ],
   "source": [
    "errors(abr_model_preds, 'abr_model_default')"
   ]
  },
  {
   "cell_type": "markdown",
   "id": "5f3b2ca0-ebe3-4de3-9e77-860a59f658be",
   "metadata": {},
   "source": [
    "-----"
   ]
  },
  {
   "cell_type": "markdown",
   "id": "7c5035ce-b9db-427b-b0a0-97dd1e8618ce",
   "metadata": {},
   "source": [
    "# Scaled default models\n",
    "\n",
    "In this section, I used the StandardScaler from the scikit-learn library. With it, I scaled the values for X_train and X_test, and later used these scaled values to train and test models where scaling was appropriate. Due to the nature of tree algorithms, they did not require scaled values. As a result, I excluded DecisionTree, RandomForest, Gradient Boost, and AdaBoost algorithms from this section."
   ]
  },
  {
   "cell_type": "markdown",
   "id": "6848be5c-a629-4485-b9e6-233827743202",
   "metadata": {},
   "source": [
    "**SCALER**"
   ]
  },
  {
   "cell_type": "code",
   "execution_count": 109,
   "id": "9acfcf9f-413f-4f1c-a193-5e8f0617134f",
   "metadata": {},
   "outputs": [],
   "source": [
    "from sklearn.preprocessing import StandardScaler"
   ]
  },
  {
   "cell_type": "code",
   "execution_count": 110,
   "id": "51196765-fd4e-4d4d-b60f-718f83960f24",
   "metadata": {},
   "outputs": [],
   "source": [
    "scaler = StandardScaler()"
   ]
  },
  {
   "cell_type": "code",
   "execution_count": 111,
   "id": "34d52344-a9ca-4e22-a6cf-73955a2f37db",
   "metadata": {},
   "outputs": [],
   "source": [
    "scaled_X_train = scaler.fit_transform(X_train)"
   ]
  },
  {
   "cell_type": "code",
   "execution_count": 112,
   "id": "8c221b6b-9371-4844-81e2-504868037486",
   "metadata": {},
   "outputs": [],
   "source": [
    "scaled_X_test = scaler.transform(X_test)"
   ]
  },
  {
   "cell_type": "markdown",
   "id": "1a351b53-6be2-4900-8c76-7e9b560ee7d4",
   "metadata": {},
   "source": [
    "**MODEL FUNCTION**"
   ]
  },
  {
   "cell_type": "code",
   "execution_count": 113,
   "id": "963d1f08-0160-4ae8-bdba-09cba0d8fae7",
   "metadata": {},
   "outputs": [],
   "source": [
    "def function_model(model, name):\n",
    "    model.fit(scaled_X_train, y_train)\n",
    "    preds = model.predict(scaled_X_test)\n",
    "    errors(preds, name)"
   ]
  },
  {
   "cell_type": "code",
   "execution_count": 114,
   "id": "08f9ba93-c9c1-47d7-be00-87c435ccd016",
   "metadata": {},
   "outputs": [],
   "source": [
    "def function_model_nonscaled(model, name):\n",
    "    model.fit(X_train, y_train)\n",
    "    preds = model.predict(X_test)\n",
    "    errors(preds, name)"
   ]
  },
  {
   "cell_type": "markdown",
   "id": "0d7747b5-8734-4a85-a0b2-e3a4254ad2b1",
   "metadata": {},
   "source": [
    "**LINEAR REGRESSION**"
   ]
  },
  {
   "cell_type": "code",
   "execution_count": 115,
   "id": "e763967b-cd9c-48a7-970f-0e3a6d49df33",
   "metadata": {},
   "outputs": [],
   "source": [
    "scaled_linear_model = LinearRegression()"
   ]
  },
  {
   "cell_type": "code",
   "execution_count": 116,
   "id": "85efda0f-e477-41a7-9bd2-68ed71fd2635",
   "metadata": {},
   "outputs": [
    {
     "name": "stdout",
     "output_type": "stream",
     "text": [
      "MAE:  1.8723673728087936e+16\n",
      "RMSE:  2.939553528160561e+17\n"
     ]
    }
   ],
   "source": [
    "function_model(scaled_linear_model, 'scaled_linear_model')"
   ]
  },
  {
   "cell_type": "markdown",
   "id": "763dbd33-13e9-4ed5-ba08-0aba45461b95",
   "metadata": {},
   "source": [
    "-----"
   ]
  },
  {
   "cell_type": "markdown",
   "id": "7b8c8795-17ab-450e-bb70-47926d517139",
   "metadata": {},
   "source": [
    "**L1 REGULARIZATION (LASSO)**"
   ]
  },
  {
   "cell_type": "code",
   "execution_count": 117,
   "id": "01adc886-4073-4176-bdf8-60c85b47cee4",
   "metadata": {},
   "outputs": [],
   "source": [
    "scaled_l1_model = Ridge()"
   ]
  },
  {
   "cell_type": "code",
   "execution_count": 118,
   "id": "2e1ff7f1-480f-4f79-bce3-150d0cb27e41",
   "metadata": {},
   "outputs": [
    {
     "name": "stdout",
     "output_type": "stream",
     "text": [
      "MAE:  16784.480670065055\n",
      "RMSE:  37795.13825926879\n"
     ]
    }
   ],
   "source": [
    "function_model(scaled_l1_model, 'scaled_l1_model')"
   ]
  },
  {
   "cell_type": "markdown",
   "id": "eaec5cdd-71ef-4a92-82a0-38a8754742fc",
   "metadata": {},
   "source": [
    "-----"
   ]
  },
  {
   "cell_type": "markdown",
   "id": "cf266075-7ccd-4b49-9a63-84263b4fe629",
   "metadata": {},
   "source": [
    "**L2 REGULARIZATION (RIDGE)**"
   ]
  },
  {
   "cell_type": "code",
   "execution_count": 119,
   "id": "582467d6-b679-4dc2-ac57-cf24cb3285b6",
   "metadata": {},
   "outputs": [],
   "source": [
    "scaled_l2_model = Lasso(max_iter = 1000000)"
   ]
  },
  {
   "cell_type": "code",
   "execution_count": 120,
   "id": "d678b0b7-8c7d-45f7-8f01-20d416a55522",
   "metadata": {},
   "outputs": [
    {
     "name": "stdout",
     "output_type": "stream",
     "text": [
      "MAE:  16923.111314815244\n",
      "RMSE:  38791.89698752861\n"
     ]
    }
   ],
   "source": [
    "function_model(scaled_l2_model, 'scaled_l2_model')"
   ]
  },
  {
   "cell_type": "markdown",
   "id": "b4218b2b-55fd-4bef-a70b-47dd80bfa1db",
   "metadata": {},
   "source": [
    "-----"
   ]
  },
  {
   "cell_type": "markdown",
   "id": "79526499-d787-4cd1-8fc9-2f3bb05a1bf0",
   "metadata": {},
   "source": [
    "**L1 AND L2 REGULARIZATION (ELASTIC NET)**"
   ]
  },
  {
   "cell_type": "code",
   "execution_count": 121,
   "id": "f88ab4a6-47ac-4b1b-9fed-6d910d9c9fbd",
   "metadata": {},
   "outputs": [],
   "source": [
    "scaled_elastic_net_model = ElasticNet(max_iter = 100000)"
   ]
  },
  {
   "cell_type": "code",
   "execution_count": 122,
   "id": "01aed546-7feb-4fb7-beb1-9d8f870701af",
   "metadata": {},
   "outputs": [
    {
     "name": "stdout",
     "output_type": "stream",
     "text": [
      "MAE:  16142.665953997894\n",
      "RMSE:  29078.586212506536\n"
     ]
    }
   ],
   "source": [
    "function_model(scaled_elastic_net_model, 'scaled_elastic_net_model')"
   ]
  },
  {
   "cell_type": "markdown",
   "id": "01faf06c-245a-474d-a5dd-5ea8fb8fe53e",
   "metadata": {},
   "source": [
    "-----"
   ]
  },
  {
   "cell_type": "markdown",
   "id": "f8dfb565-7aac-4858-88b4-55dd153e6635",
   "metadata": {},
   "source": [
    "**KNearestNeighbors (KNN)**"
   ]
  },
  {
   "cell_type": "code",
   "execution_count": 123,
   "id": "25e9a952-c7de-4f2a-893f-bfbadc73e6bf",
   "metadata": {},
   "outputs": [],
   "source": [
    "scaled_knn_model = KNeighborsRegressor()"
   ]
  },
  {
   "cell_type": "code",
   "execution_count": 124,
   "id": "c7a12c1d-9b96-4f6c-a84c-e59d3f5665c0",
   "metadata": {},
   "outputs": [
    {
     "name": "stdout",
     "output_type": "stream",
     "text": [
      "MAE:  23346.025956284153\n",
      "RMSE:  35742.20789135747\n"
     ]
    }
   ],
   "source": [
    "function_model(scaled_knn_model, 'scaled_knn_model')"
   ]
  },
  {
   "cell_type": "markdown",
   "id": "8a0459e4-a49b-4d25-a249-80f3aca74738",
   "metadata": {},
   "source": [
    "-----"
   ]
  },
  {
   "cell_type": "markdown",
   "id": "e4522a77-702b-4a5a-b0db-420adbcf8ac4",
   "metadata": {},
   "source": [
    "**SUPPORT VECTOR MACHINES**"
   ]
  },
  {
   "cell_type": "code",
   "execution_count": 125,
   "id": "5668b61c-fe79-4ed5-a736-a673298c6f2b",
   "metadata": {},
   "outputs": [],
   "source": [
    "scaled_svm_model = SVR()"
   ]
  },
  {
   "cell_type": "code",
   "execution_count": 126,
   "id": "ea42dd3d-f4d2-4bca-bcca-23e5c11f7f92",
   "metadata": {},
   "outputs": [
    {
     "name": "stdout",
     "output_type": "stream",
     "text": [
      "MAE:  57655.825796571386\n",
      "RMSE:  84988.34978945108\n"
     ]
    }
   ],
   "source": [
    "function_model(scaled_svm_model, 'scaled_svm_model')"
   ]
  },
  {
   "cell_type": "markdown",
   "id": "47699ccd-8094-42c9-aae7-2bb8e47a3e75",
   "metadata": {},
   "source": [
    "-----"
   ]
  },
  {
   "cell_type": "markdown",
   "id": "b0bdc104-5468-4925-9634-a4ad3e947309",
   "metadata": {},
   "source": [
    "**Alghoritms like decision trees, random forests, gradient boosting and adaboost do not need to be scaled!**"
   ]
  },
  {
   "cell_type": "markdown",
   "id": "80ce1178-2efe-404a-972c-a915966180e3",
   "metadata": {},
   "source": [
    "# Cross-Validation"
   ]
  },
  {
   "cell_type": "markdown",
   "id": "89c7579d-145a-4a4b-a8d7-c6847e796869",
   "metadata": {},
   "source": [
    "In this section, for algorithms that support cross-validation, I simply used the respective models from the scikit-learn library. On the other hand, for algorithms that did not have this option, I implemented them using **Grid Search**."
   ]
  },
  {
   "cell_type": "code",
   "execution_count": 175,
   "id": "3fe90a2a-eb4c-4a3c-8a1b-f4b549029886",
   "metadata": {},
   "outputs": [],
   "source": [
    "from sklearn.model_selection import GridSearchCV"
   ]
  },
  {
   "cell_type": "markdown",
   "id": "4492c293-f03c-4210-9b51-f382efc9fc15",
   "metadata": {},
   "source": [
    "**L1 REGULARIZATION (LASSO)**"
   ]
  },
  {
   "cell_type": "code",
   "execution_count": 128,
   "id": "fd536eef-e761-4598-bab4-bd7c03322c4e",
   "metadata": {},
   "outputs": [],
   "source": [
    "from sklearn.linear_model import LassoCV"
   ]
  },
  {
   "cell_type": "code",
   "execution_count": 129,
   "id": "260316fa-492a-4bc7-8b31-82127645f20f",
   "metadata": {},
   "outputs": [],
   "source": [
    "lasso_model_cv = LassoCV(eps = 0.1, n_alphas = 100, cv = 5)"
   ]
  },
  {
   "cell_type": "code",
   "execution_count": 130,
   "id": "97ba40e8-ce33-46ed-a6cc-7ce1253a44d7",
   "metadata": {},
   "outputs": [
    {
     "name": "stdout",
     "output_type": "stream",
     "text": [
      "MAE:  20690.468883656555\n",
      "RMSE:  34722.30269635705\n"
     ]
    }
   ],
   "source": [
    "function_model(lasso_model_cv, 'l1_model_cv')"
   ]
  },
  {
   "cell_type": "markdown",
   "id": "d94ba718-e990-4054-996e-9fc88f2c8306",
   "metadata": {},
   "source": [
    "**L2 REGULARIZATION (RIDGE)**"
   ]
  },
  {
   "cell_type": "code",
   "execution_count": 131,
   "id": "c705c35f-89be-4a94-94f6-dc3094fecd59",
   "metadata": {},
   "outputs": [],
   "source": [
    "from sklearn.linear_model import RidgeCV"
   ]
  },
  {
   "cell_type": "code",
   "execution_count": 132,
   "id": "94c8e056-6f23-4fa5-96c5-4a26990a15e8",
   "metadata": {},
   "outputs": [],
   "source": [
    "alphas = np.arange(1, 1000)\n",
    "ridge_model_cv = RidgeCV(alphas = alphas)"
   ]
  },
  {
   "cell_type": "code",
   "execution_count": 133,
   "id": "1355a996-adfa-48ed-9814-24bcaa668e35",
   "metadata": {},
   "outputs": [
    {
     "name": "stdout",
     "output_type": "stream",
     "text": [
      "MAE:  15781.533515444198\n",
      "RMSE:  28036.50467878595\n"
     ]
    }
   ],
   "source": [
    "function_model(ridge_model_cv, 'l1_model_cv')"
   ]
  },
  {
   "cell_type": "code",
   "execution_count": 134,
   "id": "8db50b74-68ec-4b9e-93f3-0fa4714bd3c6",
   "metadata": {},
   "outputs": [
    {
     "data": {
      "text/plain": [
       "354"
      ]
     },
     "execution_count": 134,
     "metadata": {},
     "output_type": "execute_result"
    }
   ],
   "source": [
    "ridge_model_cv.alpha_"
   ]
  },
  {
   "cell_type": "markdown",
   "id": "934ba99d-ef94-4449-bbd1-fcbe996f831a",
   "metadata": {},
   "source": [
    "**L1 AND L2 REGULARIZATION (ELASTIC NET)**"
   ]
  },
  {
   "cell_type": "code",
   "execution_count": 135,
   "id": "6a61c997-3598-4b89-a2d3-c791b6a9e128",
   "metadata": {},
   "outputs": [],
   "source": [
    "from sklearn.linear_model import ElasticNetCV"
   ]
  },
  {
   "cell_type": "code",
   "execution_count": 136,
   "id": "9673100e-277e-4f9e-bcce-4041d93c0c98",
   "metadata": {},
   "outputs": [],
   "source": [
    "elastic_net_model_cv = ElasticNetCV(l1_ratio = [.1, .5, .7, .9, .95, .99, 1], eps = 0.001, n_alphas = 100, max_iter = 100000)"
   ]
  },
  {
   "cell_type": "code",
   "execution_count": 137,
   "id": "3e9775ac-e0c3-4654-98cc-baca34b0bdec",
   "metadata": {},
   "outputs": [
    {
     "name": "stdout",
     "output_type": "stream",
     "text": [
      "MAE:  15327.677874421217\n",
      "RMSE:  27559.682062184882\n"
     ]
    }
   ],
   "source": [
    "function_model(elastic_net_model_cv, 'elastic_net_model_cv')"
   ]
  },
  {
   "cell_type": "code",
   "execution_count": 138,
   "id": "598a3671-8d8e-4e5a-987a-a6d792cecccb",
   "metadata": {},
   "outputs": [
    {
     "data": {
      "text/plain": [
       "1.0"
      ]
     },
     "execution_count": 138,
     "metadata": {},
     "output_type": "execute_result"
    }
   ],
   "source": [
    "elastic_net_model_cv.l1_ratio_"
   ]
  },
  {
   "cell_type": "code",
   "execution_count": 139,
   "id": "8e48a963-60ae-45cb-b4d6-a5fcfc68a0ee",
   "metadata": {},
   "outputs": [
    {
     "data": {
      "text/plain": [
       "588.4058618218438"
      ]
     },
     "execution_count": 139,
     "metadata": {},
     "output_type": "execute_result"
    }
   ],
   "source": [
    "elastic_net_model_cv.alpha_"
   ]
  },
  {
   "cell_type": "markdown",
   "id": "e09ec50d-072b-4c72-8a66-3a134dbb493e",
   "metadata": {},
   "source": [
    "**KNearestNeighbors (KNN)**"
   ]
  },
  {
   "cell_type": "code",
   "execution_count": 140,
   "id": "157c5506-0e5f-4054-928e-8da129adb997",
   "metadata": {},
   "outputs": [],
   "source": [
    "knn_model = KNeighborsRegressor()"
   ]
  },
  {
   "cell_type": "code",
   "execution_count": 141,
   "id": "e97c2ae5-1e21-4fad-9b64-840698a2a1ff",
   "metadata": {},
   "outputs": [],
   "source": [
    "k_values = list(range(1, 20))"
   ]
  },
  {
   "cell_type": "code",
   "execution_count": 142,
   "id": "b8102773-c128-4eaa-b533-2c5d6132b315",
   "metadata": {},
   "outputs": [],
   "source": [
    "param_grid = {'n_neighbors' : k_values}"
   ]
  },
  {
   "cell_type": "code",
   "execution_count": 143,
   "id": "bf789ad0-fdba-40b1-ac13-9cd1ca561b13",
   "metadata": {},
   "outputs": [],
   "source": [
    "knn_grid_model = GridSearchCV(estimator = knn_model, param_grid = param_grid)"
   ]
  },
  {
   "cell_type": "code",
   "execution_count": 144,
   "id": "fab94d59-38ad-4b3d-bafd-1fcb21b3c08f",
   "metadata": {},
   "outputs": [
    {
     "name": "stdout",
     "output_type": "stream",
     "text": [
      "MAE:  23417.368283242264\n",
      "RMSE:  36888.81090163333\n"
     ]
    }
   ],
   "source": [
    "function_model(knn_grid_model, 'knn_model_cv')"
   ]
  },
  {
   "cell_type": "code",
   "execution_count": 145,
   "id": "a858f9a7-cfc7-4065-ba7b-0c84d2bc539d",
   "metadata": {},
   "outputs": [
    {
     "data": {
      "text/plain": [
       "{'n_neighbors': 12}"
      ]
     },
     "execution_count": 145,
     "metadata": {},
     "output_type": "execute_result"
    }
   ],
   "source": [
    "knn_grid_model.best_params_"
   ]
  },
  {
   "cell_type": "markdown",
   "id": "e4e41bcd-d158-4b28-8fd2-744985278624",
   "metadata": {},
   "source": [
    "**DECISION TREE**"
   ]
  },
  {
   "cell_type": "code",
   "execution_count": 146,
   "id": "54a460c3-0baf-4558-a70b-bbf076d75008",
   "metadata": {},
   "outputs": [],
   "source": [
    "from sklearn.tree import plot_tree"
   ]
  },
  {
   "cell_type": "code",
   "execution_count": 147,
   "id": "17313616-1773-4496-b503-5823b6936b8d",
   "metadata": {},
   "outputs": [],
   "source": [
    "decision_tree_model = DecisionTreeRegressor()"
   ]
  },
  {
   "cell_type": "code",
   "execution_count": 152,
   "id": "b103d59c-e167-4dbe-8202-283709d1b557",
   "metadata": {},
   "outputs": [],
   "source": [
    "criterion = ['squared_error', 'absolute_error']\n",
    "max_depth = list(range(1, 5))\n",
    "max_leaf_node = list(range(2, 5))"
   ]
  },
  {
   "cell_type": "code",
   "execution_count": 153,
   "id": "59295210-c9be-4efb-970d-ccac154a73b3",
   "metadata": {},
   "outputs": [],
   "source": [
    "param_grid = {'criterion' : criterion, 'max_depth' : max_depth, 'max_leaf_nodes' : max_leaf_node}"
   ]
  },
  {
   "cell_type": "code",
   "execution_count": 154,
   "id": "1a655709-903a-4ef4-9cf6-54e5ef065d98",
   "metadata": {},
   "outputs": [],
   "source": [
    "decision_tree_model_cv = GridSearchCV(estimator = decision_tree_model, param_grid = param_grid)"
   ]
  },
  {
   "cell_type": "code",
   "execution_count": 155,
   "id": "fb480205-0bee-4f75-a4dc-5ac095c8e21b",
   "metadata": {},
   "outputs": [
    {
     "name": "stdout",
     "output_type": "stream",
     "text": [
      "MAE:  34285.47498781197\n",
      "RMSE:  46926.93134220901\n"
     ]
    }
   ],
   "source": [
    "function_model_nonscaled(decision_tree_model_cv, 'decision_tree_model_cv')"
   ]
  },
  {
   "cell_type": "code",
   "execution_count": 156,
   "id": "4085fd64-b515-4434-b7d4-896ff3ff8b1a",
   "metadata": {},
   "outputs": [
    {
     "data": {
      "text/plain": [
       "{'criterion': 'squared_error', 'max_depth': 2, 'max_leaf_nodes': 4}"
      ]
     },
     "execution_count": 156,
     "metadata": {},
     "output_type": "execute_result"
    }
   ],
   "source": [
    "decision_tree_model_cv.best_params_"
   ]
  },
  {
   "cell_type": "code",
   "execution_count": 157,
   "id": "7e39ab49-5d73-4c04-b0cf-af38639385ed",
   "metadata": {},
   "outputs": [],
   "source": [
    "tree_plot = DecisionTreeRegressor(criterion = 'squared_error', max_depth = 2, max_leaf_nodes = 4)"
   ]
  },
  {
   "cell_type": "code",
   "execution_count": 158,
   "id": "36fc9667-4784-4d22-adaa-4c8129aec644",
   "metadata": {},
   "outputs": [
    {
     "data": {
      "text/html": [
       "<style>#sk-container-id-11 {color: black;background-color: white;}#sk-container-id-11 pre{padding: 0;}#sk-container-id-11 div.sk-toggleable {background-color: white;}#sk-container-id-11 label.sk-toggleable__label {cursor: pointer;display: block;width: 100%;margin-bottom: 0;padding: 0.3em;box-sizing: border-box;text-align: center;}#sk-container-id-11 label.sk-toggleable__label-arrow:before {content: \"▸\";float: left;margin-right: 0.25em;color: #696969;}#sk-container-id-11 label.sk-toggleable__label-arrow:hover:before {color: black;}#sk-container-id-11 div.sk-estimator:hover label.sk-toggleable__label-arrow:before {color: black;}#sk-container-id-11 div.sk-toggleable__content {max-height: 0;max-width: 0;overflow: hidden;text-align: left;background-color: #f0f8ff;}#sk-container-id-11 div.sk-toggleable__content pre {margin: 0.2em;color: black;border-radius: 0.25em;background-color: #f0f8ff;}#sk-container-id-11 input.sk-toggleable__control:checked~div.sk-toggleable__content {max-height: 200px;max-width: 100%;overflow: auto;}#sk-container-id-11 input.sk-toggleable__control:checked~label.sk-toggleable__label-arrow:before {content: \"▾\";}#sk-container-id-11 div.sk-estimator input.sk-toggleable__control:checked~label.sk-toggleable__label {background-color: #d4ebff;}#sk-container-id-11 div.sk-label input.sk-toggleable__control:checked~label.sk-toggleable__label {background-color: #d4ebff;}#sk-container-id-11 input.sk-hidden--visually {border: 0;clip: rect(1px 1px 1px 1px);clip: rect(1px, 1px, 1px, 1px);height: 1px;margin: -1px;overflow: hidden;padding: 0;position: absolute;width: 1px;}#sk-container-id-11 div.sk-estimator {font-family: monospace;background-color: #f0f8ff;border: 1px dotted black;border-radius: 0.25em;box-sizing: border-box;margin-bottom: 0.5em;}#sk-container-id-11 div.sk-estimator:hover {background-color: #d4ebff;}#sk-container-id-11 div.sk-parallel-item::after {content: \"\";width: 100%;border-bottom: 1px solid gray;flex-grow: 1;}#sk-container-id-11 div.sk-label:hover label.sk-toggleable__label {background-color: #d4ebff;}#sk-container-id-11 div.sk-serial::before {content: \"\";position: absolute;border-left: 1px solid gray;box-sizing: border-box;top: 0;bottom: 0;left: 50%;z-index: 0;}#sk-container-id-11 div.sk-serial {display: flex;flex-direction: column;align-items: center;background-color: white;padding-right: 0.2em;padding-left: 0.2em;position: relative;}#sk-container-id-11 div.sk-item {position: relative;z-index: 1;}#sk-container-id-11 div.sk-parallel {display: flex;align-items: stretch;justify-content: center;background-color: white;position: relative;}#sk-container-id-11 div.sk-item::before, #sk-container-id-11 div.sk-parallel-item::before {content: \"\";position: absolute;border-left: 1px solid gray;box-sizing: border-box;top: 0;bottom: 0;left: 50%;z-index: -1;}#sk-container-id-11 div.sk-parallel-item {display: flex;flex-direction: column;z-index: 1;position: relative;background-color: white;}#sk-container-id-11 div.sk-parallel-item:first-child::after {align-self: flex-end;width: 50%;}#sk-container-id-11 div.sk-parallel-item:last-child::after {align-self: flex-start;width: 50%;}#sk-container-id-11 div.sk-parallel-item:only-child::after {width: 0;}#sk-container-id-11 div.sk-dashed-wrapped {border: 1px dashed gray;margin: 0 0.4em 0.5em 0.4em;box-sizing: border-box;padding-bottom: 0.4em;background-color: white;}#sk-container-id-11 div.sk-label label {font-family: monospace;font-weight: bold;display: inline-block;line-height: 1.2em;}#sk-container-id-11 div.sk-label-container {text-align: center;}#sk-container-id-11 div.sk-container {/* jupyter's `normalize.less` sets `[hidden] { display: none; }` but bootstrap.min.css set `[hidden] { display: none !important; }` so we also need the `!important` here to be able to override the default hidden behavior on the sphinx rendered scikit-learn.org. See: https://github.com/scikit-learn/scikit-learn/issues/21755 */display: inline-block !important;position: relative;}#sk-container-id-11 div.sk-text-repr-fallback {display: none;}</style><div id=\"sk-container-id-11\" class=\"sk-top-container\"><div class=\"sk-text-repr-fallback\"><pre>DecisionTreeRegressor(max_depth=2, max_leaf_nodes=4)</pre><b>In a Jupyter environment, please rerun this cell to show the HTML representation or trust the notebook. <br />On GitHub, the HTML representation is unable to render, please try loading this page with nbviewer.org.</b></div><div class=\"sk-container\" hidden><div class=\"sk-item\"><div class=\"sk-estimator sk-toggleable\"><input class=\"sk-toggleable__control sk-hidden--visually\" id=\"sk-estimator-id-11\" type=\"checkbox\" checked><label for=\"sk-estimator-id-11\" class=\"sk-toggleable__label sk-toggleable__label-arrow\">DecisionTreeRegressor</label><div class=\"sk-toggleable__content\"><pre>DecisionTreeRegressor(max_depth=2, max_leaf_nodes=4)</pre></div></div></div></div></div>"
      ],
      "text/plain": [
       "DecisionTreeRegressor(max_depth=2, max_leaf_nodes=4)"
      ]
     },
     "execution_count": 158,
     "metadata": {},
     "output_type": "execute_result"
    }
   ],
   "source": [
    "tree_plot.fit(X_train, y_train)"
   ]
  },
  {
   "cell_type": "code",
   "execution_count": 159,
   "id": "7213b186-0ad1-433e-b726-832eb584de10",
   "metadata": {},
   "outputs": [
    {
     "data": {
      "image/png": "[encoded data removed]",
      "text/plain": [
       "<Figure size 1600x1200 with 1 Axes>"
      ]
     },
     "metadata": {},
     "output_type": "display_data"
    }
   ],
   "source": [
    "plt.figure(figsize = (8, 6), dpi = 200)\n",
    "plot_tree(decision_tree = tree_plot, feature_names = X.columns, filled = True);"
   ]
  },
  {
   "cell_type": "markdown",
   "id": "45392b31-e9b4-4396-9aab-cf0be42bdb2e",
   "metadata": {},
   "source": [
    "**SUPPORT VECTOR MACHINES**"
   ]
  },
  {
   "cell_type": "code",
   "execution_count": 160,
   "id": "535b15c6-40a6-4fea-9386-09754f24d1e7",
   "metadata": {},
   "outputs": [],
   "source": [
    "svm_model = SVR()"
   ]
  },
  {
   "cell_type": "code",
   "execution_count": 161,
   "id": "c0bb9c3f-2cc5-4428-a10a-3ea5d4393064",
   "metadata": {},
   "outputs": [],
   "source": [
    "kernel = ['linear', 'rbf']\n",
    "degree = [2, 3, 4]\n",
    "C = [0.001, 0.01, 0.1, 1]\n",
    "epsilon = [0, 0.01, 0.1, 1]"
   ]
  },
  {
   "cell_type": "code",
   "execution_count": 162,
   "id": "628a0ccb-12ac-4be9-a45c-6740f54a708f",
   "metadata": {},
   "outputs": [],
   "source": [
    "param_grid = {'kernel' : kernel, 'degree' : degree, 'C' : C, 'epsilon' : epsilon}"
   ]
  },
  {
   "cell_type": "code",
   "execution_count": 163,
   "id": "247044ef-dfd6-4184-84df-626e4f0489b9",
   "metadata": {},
   "outputs": [],
   "source": [
    "svm_model_cv = GridSearchCV(estimator = svm_model, param_grid = param_grid)"
   ]
  },
  {
   "cell_type": "code",
   "execution_count": 164,
   "id": "0103f58b-4367-48b9-bb55-f984cb9b62fb",
   "metadata": {},
   "outputs": [
    {
     "name": "stdout",
     "output_type": "stream",
     "text": [
      "MAE:  39487.58670734887\n",
      "RMSE:  66063.84562173176\n"
     ]
    }
   ],
   "source": [
    "function_model(svm_model_cv, 'svm_model_cv')"
   ]
  },
  {
   "cell_type": "code",
   "execution_count": 165,
   "id": "63aaffdf-1e55-4d64-b21f-83bedd753a96",
   "metadata": {},
   "outputs": [
    {
     "data": {
      "text/plain": [
       "{'C': 1, 'degree': 2, 'epsilon': 0, 'kernel': 'linear'}"
      ]
     },
     "execution_count": 165,
     "metadata": {},
     "output_type": "execute_result"
    }
   ],
   "source": [
    "svm_model_cv.best_params_"
   ]
  },
  {
   "cell_type": "markdown",
   "id": "e33a31bc-3056-4a30-97f3-1c0641a47c9a",
   "metadata": {},
   "source": [
    "**RANDOM FOREST**"
   ]
  },
  {
   "cell_type": "code",
   "execution_count": 176,
   "id": "ed41ed24-caee-4eea-83fc-391be0662e45",
   "metadata": {},
   "outputs": [],
   "source": [
    "random_forest_model = RandomForestRegressor()"
   ]
  },
  {
   "cell_type": "code",
   "execution_count": 177,
   "id": "ca59680e-1bd3-4870-b879-5ca4e8c8b6f2",
   "metadata": {},
   "outputs": [],
   "source": [
    "n_estimators = [64, 100, 128, 200]\n",
    "max_features = [2, 3, 4]\n",
    "bootstrap = [True, False]\n",
    "oob_score = [True, False]"
   ]
  },
  {
   "cell_type": "code",
   "execution_count": 178,
   "id": "069006b2-1e53-4cd9-88bf-30eb1569d915",
   "metadata": {},
   "outputs": [],
   "source": [
    "param_grid = {'n_estimators' : n_estimators, 'max_features' : max_features, 'bootstrap' : bootstrap, 'oob_score' : oob_score}"
   ]
  },
  {
   "cell_type": "code",
   "execution_count": 181,
   "id": "b54a2ce1-c473-4cd1-9b16-f1e05e8fb658",
   "metadata": {},
   "outputs": [],
   "source": [
    "random_forest_model_cv = GridSearchCV(estimator = random_forest_model, param_grid = param_grid)"
   ]
  },
  {
   "cell_type": "code",
   "execution_count": 182,
   "id": "c19b898f-3626-4301-830e-d726151e3511",
   "metadata": {},
   "outputs": [
    {
     "name": "stderr",
     "output_type": "stream",
     "text": [
      "C:\\Users\\jovan\\anaconda3\\Lib\\site-packages\\sklearn\\model_selection\\_validation.py:378: FitFailedWarning: \n",
      "60 fits failed out of a total of 240.\n",
      "The score on these train-test partitions for these parameters will be set to nan.\n",
      "If these failures are not expected, you can try to debug them by setting error_score='raise'.\n",
      "\n",
      "Below are more details about the failures:\n",
      "--------------------------------------------------------------------------------\n",
      "60 fits failed with the following error:\n",
      "Traceback (most recent call last):\n",
      "  File \"C:\\Users\\jovan\\anaconda3\\Lib\\site-packages\\sklearn\\model_selection\\_validation.py\", line 686, in _fit_and_score\n",
      "    estimator.fit(X_train, y_train, **fit_params)\n",
      "  File \"C:\\Users\\jovan\\anaconda3\\Lib\\site-packages\\sklearn\\ensemble\\_forest.py\", line 434, in fit\n",
      "    raise ValueError(\"Out of bag estimation only available if bootstrap=True\")\n",
      "ValueError: Out of bag estimation only available if bootstrap=True\n",
      "\n",
      "  warnings.warn(some_fits_failed_message, FitFailedWarning)\n",
      "C:\\Users\\jovan\\anaconda3\\Lib\\site-packages\\sklearn\\model_selection\\_search.py:952: UserWarning: One or more of the test scores are non-finite: [0.82613738 0.82785406 0.82699063 0.82567711 0.82451759 0.82602758\n",
      " 0.82716989 0.82747104 0.83430062 0.83124758 0.83679224 0.8354782\n",
      " 0.83629153 0.84131114 0.8370843  0.83917936 0.84295804 0.84611092\n",
      " 0.84565782 0.84621579 0.84383399 0.84627    0.84625539 0.84602913\n",
      "        nan 0.83510443        nan 0.83827179        nan 0.83887787\n",
      "        nan 0.84252947        nan 0.84928114        nan 0.8493744\n",
      "        nan 0.85096058        nan 0.84972888        nan 0.85721648\n",
      "        nan 0.85470109        nan 0.85945038        nan 0.86291168]\n",
      "  warnings.warn(\n"
     ]
    },
    {
     "name": "stdout",
     "output_type": "stream",
     "text": [
      "MAE:  16330.949477946917\n",
      "RMSE:  27871.98391787262\n"
     ]
    }
   ],
   "source": [
    "function_model(random_forest_model_cv, 'random_forest_model_cv')"
   ]
  },
  {
   "cell_type": "code",
   "execution_count": 183,
   "id": "406e4623-7302-45dc-a903-577d510d0c0b",
   "metadata": {},
   "outputs": [
    {
     "data": {
      "text/plain": [
       "{'bootstrap': False,\n",
       " 'max_features': 4,\n",
       " 'n_estimators': 200,\n",
       " 'oob_score': False}"
      ]
     },
     "execution_count": 183,
     "metadata": {},
     "output_type": "execute_result"
    }
   ],
   "source": [
    "random_forest_model_cv.best_params_"
   ]
  },
  {
   "cell_type": "markdown",
   "id": "347239bc-40d1-4658-bb87-965ee2e594c2",
   "metadata": {},
   "source": [
    "**GRADIENT BOOST**"
   ]
  },
  {
   "cell_type": "code",
   "execution_count": 184,
   "id": "5ef8d5d5-68db-4383-9b52-5e50185153e2",
   "metadata": {},
   "outputs": [],
   "source": [
    "gradient_boost_model = GradientBoostingRegressor()"
   ]
  },
  {
   "cell_type": "code",
   "execution_count": 185,
   "id": "20e0c26c-1df9-4bd5-82ee-fac902253a14",
   "metadata": {},
   "outputs": [],
   "source": [
    "n_estimators = [64, 100, 128, 200]\n",
    "max_depth = [2, 3, 4]\n",
    "subsample = [0.1, 0.2, 0.5, 0.9]"
   ]
  },
  {
   "cell_type": "code",
   "execution_count": 186,
   "id": "22d2b1c6-c521-4d3b-a6cb-f247a83d8e12",
   "metadata": {},
   "outputs": [],
   "source": [
    "param_grid = {'n_estimators' : n_estimators, 'max_depth' : max_depth, 'subsample' : subsample}"
   ]
  },
  {
   "cell_type": "code",
   "execution_count": 187,
   "id": "11455e30-ab75-403b-8d64-a85e7cc9a92c",
   "metadata": {},
   "outputs": [],
   "source": [
    "gradient_boost_model_cv = GridSearchCV(estimator = gradient_boost_model, param_grid = param_grid)"
   ]
  },
  {
   "cell_type": "code",
   "execution_count": 188,
   "id": "6e5fa7ea-52e2-4c2c-bc38-77a96712d8fe",
   "metadata": {},
   "outputs": [
    {
     "name": "stdout",
     "output_type": "stream",
     "text": [
      "MAE:  12934.488865224605\n",
      "RMSE:  20824.24980839016\n"
     ]
    }
   ],
   "source": [
    "function_model(gradient_boost_model_cv, 'gradient_boost_model_cv')"
   ]
  },
  {
   "cell_type": "code",
   "execution_count": 189,
   "id": "bd385a81-a1e2-4259-ac74-6440c563ce2c",
   "metadata": {},
   "outputs": [
    {
     "data": {
      "text/plain": [
       "{'max_depth': 3, 'n_estimators': 200, 'subsample': 0.9}"
      ]
     },
     "execution_count": 189,
     "metadata": {},
     "output_type": "execute_result"
    }
   ],
   "source": [
    "gradient_boost_model_cv.best_params_"
   ]
  },
  {
   "cell_type": "code",
   "execution_count": 190,
   "id": "8f28b971-8011-4157-88d2-0211e3bbdea0",
   "metadata": {},
   "outputs": [],
   "source": [
    "n_estimators = [200, 250, 300]\n",
    "max_depth = [3, 4]\n",
    "subsample = [0.5, 0.9]"
   ]
  },
  {
   "cell_type": "code",
   "execution_count": 191,
   "id": "064a47f0-33da-4d07-83ea-812dc56714d8",
   "metadata": {},
   "outputs": [],
   "source": [
    "param_grid = {'n_estimators' : n_estimators, 'max_depth' : max_depth, 'subsample' : subsample}"
   ]
  },
  {
   "cell_type": "code",
   "execution_count": 192,
   "id": "688d9c75-ba4e-4db0-b1e1-7b037f2d3d8d",
   "metadata": {},
   "outputs": [],
   "source": [
    "gradient_boost_model_cv2 = GridSearchCV(estimator = gradient_boost_model, param_grid = param_grid)"
   ]
  },
  {
   "cell_type": "code",
   "execution_count": 193,
   "id": "c19df07c-d73c-426e-9c95-8516088ee76f",
   "metadata": {},
   "outputs": [
    {
     "name": "stdout",
     "output_type": "stream",
     "text": [
      "MAE:  13342.477363808508\n",
      "RMSE:  21633.107618807044\n"
     ]
    }
   ],
   "source": [
    "function_model(gradient_boost_model_cv2, 'gradient_boost_model_cv_tuned')"
   ]
  },
  {
   "cell_type": "code",
   "execution_count": 194,
   "id": "ecc0f5d5-af06-4e1a-a224-e607c09c20d1",
   "metadata": {},
   "outputs": [
    {
     "data": {
      "text/plain": [
       "{'max_depth': 4, 'n_estimators': 300, 'subsample': 0.5}"
      ]
     },
     "execution_count": 194,
     "metadata": {},
     "output_type": "execute_result"
    }
   ],
   "source": [
    "gradient_boost_model_cv2.best_params_"
   ]
  },
  {
   "cell_type": "markdown",
   "id": "1a734e51-8e58-44e0-bddd-99bccb1a1ea3",
   "metadata": {},
   "source": [
    "**ADA BOOST**"
   ]
  },
  {
   "cell_type": "code",
   "execution_count": 195,
   "id": "dff1fc97-59f4-439e-a2db-1a95cc141226",
   "metadata": {},
   "outputs": [],
   "source": [
    "ada_boost_model = AdaBoostRegressor()"
   ]
  },
  {
   "cell_type": "code",
   "execution_count": 196,
   "id": "5cdd9d8a-a85f-4bca-a1f6-7c3ee9e2b1e3",
   "metadata": {},
   "outputs": [],
   "source": [
    "n_estimators = [200, 250, 300]\n",
    "loss = ['linear', 'square', 'exponential']"
   ]
  },
  {
   "cell_type": "code",
   "execution_count": 197,
   "id": "c9209539-60ad-4090-a77f-902493048b23",
   "metadata": {},
   "outputs": [],
   "source": [
    "param_grid = {'n_estimators' : n_estimators, 'loss' : loss}"
   ]
  },
  {
   "cell_type": "code",
   "execution_count": 198,
   "id": "c39ce30a-75f3-4668-80aa-6c1a7df45cd1",
   "metadata": {},
   "outputs": [],
   "source": [
    "ada_boost_model_cv = GridSearchCV(estimator = ada_boost_model, param_grid = param_grid)"
   ]
  },
  {
   "cell_type": "code",
   "execution_count": 199,
   "id": "599cf131-f157-4a35-a0c8-6518528b76e1",
   "metadata": {},
   "outputs": [
    {
     "name": "stdout",
     "output_type": "stream",
     "text": [
      "MAE:  24998.602259888266\n",
      "RMSE:  32441.316689566553\n"
     ]
    }
   ],
   "source": [
    "function_model(ada_boost_model_cv, 'ada_boost_model_cv')"
   ]
  },
  {
   "cell_type": "code",
   "execution_count": 200,
   "id": "1303f5a4-1a69-4628-ba48-4788116e407c",
   "metadata": {},
   "outputs": [
    {
     "data": {
      "text/plain": [
       "{'loss': 'exponential', 'n_estimators': 200}"
      ]
     },
     "execution_count": 200,
     "metadata": {},
     "output_type": "execute_result"
    }
   ],
   "source": [
    "ada_boost_model_cv.best_params_"
   ]
  },
  {
   "cell_type": "markdown",
   "id": "ea69635f-3d12-46dd-a625-bd1f853b2cf2",
   "metadata": {},
   "source": [
    "# Model overview\n",
    "\n",
    "In this section, the selection of the optimal model takes place. I analyzed the results of all the models in the project and visually represented them using barplots."
   ]
  },
  {
   "cell_type": "code",
   "execution_count": 44,
   "id": "3ac674a7-0b0b-4be9-88e4-7299fb1cd33a",
   "metadata": {},
   "outputs": [],
   "source": [
    "mae_array = {}\n",
    "rmse_array = {}"
   ]
  },
  {
   "cell_type": "code",
   "execution_count": 201,
   "id": "860357a3-3a53-4bb0-9672-704bfd5624bc",
   "metadata": {},
   "outputs": [
    {
     "data": {
      "text/plain": [
       "{'linear_default_model': 16915.23,\n",
       " 'l1_model_default': 16742.09,\n",
       " 'l2_model_default': 16005.5,\n",
       " 'elastic_net_model_default': 17645.79,\n",
       " 'knn_model_default': 28053.61,\n",
       " 'decision_tree_model_default': 23530.08,\n",
       " 'svr_model_default': 57693.89,\n",
       " 'rfg_model_default': 15018.96,\n",
       " 'gbr_model_default': 13855.37,\n",
       " 'abr_model_default': 22350.96,\n",
       " 'scaled_linear_model': 1.8723673728087936e+16,\n",
       " 'scaled_l1_model': 16784.48,\n",
       " 'scaled_l2_model': 16923.11,\n",
       " 'scaled_elastic_net_model': 16142.67,\n",
       " 'scaled_knn_model': 23346.03,\n",
       " 'scaled_svm_model': 57655.83,\n",
       " 'l1_model_cv': 15781.53,\n",
       " 'elastic_net_model_cv': 15327.68,\n",
       " 'knn_model_cv': 23417.37,\n",
       " 'decision_tree_model_cv': 34285.47,\n",
       " 'svm_model_cv': 39487.59,\n",
       " 'random_forest_model_cv': 16330.95,\n",
       " 'gradient_boost_model_cv': 12934.49,\n",
       " 'gradient_boost_model_cv_tuned': 13342.48,\n",
       " 'ada_boost_model_cv': 24998.6}"
      ]
     },
     "execution_count": 201,
     "metadata": {},
     "output_type": "execute_result"
    }
   ],
   "source": [
    "mae_array"
   ]
  },
  {
   "cell_type": "code",
   "execution_count": 202,
   "id": "ee8229c8-4edf-4e3f-a312-1a5423e0f63b",
   "metadata": {},
   "outputs": [
    {
     "data": {
      "text/plain": [
       "{'linear_default_model': 38883.48,\n",
       " 'l1_model_default': 38020.42,\n",
       " 'l2_model_default': 27687.06,\n",
       " 'elastic_net_model_default': 32559.86,\n",
       " 'knn_model_default': 42151.42,\n",
       " 'decision_tree_model_default': 36576.16,\n",
       " 'svr_model_default': 85014.62,\n",
       " 'rfg_model_default': 23654.57,\n",
       " 'gbr_model_default': 21977.14,\n",
       " 'abr_model_default': 30084.28,\n",
       " 'scaled_linear_model': 2.939553528160561e+17,\n",
       " 'scaled_l1_model': 37795.14,\n",
       " 'scaled_l2_model': 38791.9,\n",
       " 'scaled_elastic_net_model': 29078.59,\n",
       " 'scaled_knn_model': 35742.21,\n",
       " 'scaled_svm_model': 84988.35,\n",
       " 'l1_model_cv': 28036.5,\n",
       " 'elastic_net_model_cv': 27559.68,\n",
       " 'knn_model_cv': 36888.81,\n",
       " 'decision_tree_model_cv': 46926.93,\n",
       " 'svm_model_cv': 66063.85,\n",
       " 'random_forest_model_cv': 27871.98,\n",
       " 'gradient_boost_model_cv': 20824.25,\n",
       " 'gradient_boost_model_cv_tuned': 21633.11,\n",
       " 'ada_boost_model_cv': 32441.32}"
      ]
     },
     "execution_count": 202,
     "metadata": {},
     "output_type": "execute_result"
    }
   ],
   "source": [
    "rmse_array"
   ]
  },
  {
   "cell_type": "code",
   "execution_count": 203,
   "id": "6362aa90-285f-4d5d-b38b-c821899f49b9",
   "metadata": {},
   "outputs": [],
   "source": [
    "mae_sorted = dict(sorted(mae_array.items(), key = lambda item : item[1]))"
   ]
  },
  {
   "cell_type": "code",
   "execution_count": 204,
   "id": "0205afd6-0a0e-4060-aa17-55411b11f3be",
   "metadata": {},
   "outputs": [
    {
     "data": {
      "text/plain": [
       "{'gradient_boost_model_cv': 12934.49,\n",
       " 'gradient_boost_model_cv_tuned': 13342.48,\n",
       " 'gbr_model_default': 13855.37,\n",
       " 'rfg_model_default': 15018.96,\n",
       " 'elastic_net_model_cv': 15327.68,\n",
       " 'l1_model_cv': 15781.53,\n",
       " 'l2_model_default': 16005.5,\n",
       " 'scaled_elastic_net_model': 16142.67,\n",
       " 'random_forest_model_cv': 16330.95,\n",
       " 'l1_model_default': 16742.09,\n",
       " 'scaled_l1_model': 16784.48,\n",
       " 'linear_default_model': 16915.23,\n",
       " 'scaled_l2_model': 16923.11,\n",
       " 'elastic_net_model_default': 17645.79,\n",
       " 'abr_model_default': 22350.96,\n",
       " 'scaled_knn_model': 23346.03,\n",
       " 'knn_model_cv': 23417.37,\n",
       " 'decision_tree_model_default': 23530.08,\n",
       " 'ada_boost_model_cv': 24998.6,\n",
       " 'knn_model_default': 28053.61,\n",
       " 'decision_tree_model_cv': 34285.47,\n",
       " 'svm_model_cv': 39487.59,\n",
       " 'scaled_svm_model': 57655.83,\n",
       " 'svr_model_default': 57693.89,\n",
       " 'scaled_linear_model': 1.8723673728087936e+16}"
      ]
     },
     "execution_count": 204,
     "metadata": {},
     "output_type": "execute_result"
    }
   ],
   "source": [
    "mae_sorted"
   ]
  },
  {
   "cell_type": "code",
   "execution_count": 205,
   "id": "fc29df7e-086e-46d3-b91e-35a1539d1009",
   "metadata": {},
   "outputs": [],
   "source": [
    "rmse_sorted = dict(sorted(rmse_array.items(), key = lambda item : item[1]))"
   ]
  },
  {
   "cell_type": "code",
   "execution_count": 206,
   "id": "d3276eeb-3f4f-417f-8bdd-d2363385f989",
   "metadata": {},
   "outputs": [
    {
     "data": {
      "text/plain": [
       "{'gradient_boost_model_cv': 20824.25,\n",
       " 'gradient_boost_model_cv_tuned': 21633.11,\n",
       " 'gbr_model_default': 21977.14,\n",
       " 'rfg_model_default': 23654.57,\n",
       " 'elastic_net_model_cv': 27559.68,\n",
       " 'l2_model_default': 27687.06,\n",
       " 'random_forest_model_cv': 27871.98,\n",
       " 'l1_model_cv': 28036.5,\n",
       " 'scaled_elastic_net_model': 29078.59,\n",
       " 'abr_model_default': 30084.28,\n",
       " 'ada_boost_model_cv': 32441.32,\n",
       " 'elastic_net_model_default': 32559.86,\n",
       " 'scaled_knn_model': 35742.21,\n",
       " 'decision_tree_model_default': 36576.16,\n",
       " 'knn_model_cv': 36888.81,\n",
       " 'scaled_l1_model': 37795.14,\n",
       " 'l1_model_default': 38020.42,\n",
       " 'scaled_l2_model': 38791.9,\n",
       " 'linear_default_model': 38883.48,\n",
       " 'knn_model_default': 42151.42,\n",
       " 'decision_tree_model_cv': 46926.93,\n",
       " 'svm_model_cv': 66063.85,\n",
       " 'scaled_svm_model': 84988.35,\n",
       " 'svr_model_default': 85014.62,\n",
       " 'scaled_linear_model': 2.939553528160561e+17}"
      ]
     },
     "execution_count": 206,
     "metadata": {},
     "output_type": "execute_result"
    }
   ],
   "source": [
    "rmse_sorted"
   ]
  },
  {
   "cell_type": "code",
   "execution_count": 207,
   "id": "0c3164d2-483e-476b-9281-a43b805fcd69",
   "metadata": {},
   "outputs": [],
   "source": [
    "mae_sorted_series = pd.Series(mae_sorted)"
   ]
  },
  {
   "cell_type": "code",
   "execution_count": 208,
   "id": "fa900b71-a11a-4660-8522-12ad2b4f047d",
   "metadata": {},
   "outputs": [],
   "source": [
    "rmse_sorted_series = pd.Series(rmse_sorted)"
   ]
  },
  {
   "cell_type": "code",
   "execution_count": 209,
   "id": "726ae33e-aa0b-4ad0-8387-60d6fd231359",
   "metadata": {},
   "outputs": [
    {
     "data": {
      "image/png": "[encoded data removed]",
      "text/plain": [
       "<Figure size 1200x600 with 1 Axes>"
      ]
     },
     "metadata": {},
     "output_type": "display_data"
    }
   ],
   "source": [
    "plt.figure(figsize = (12, 6))\n",
    "sns.barplot(x = mae_sorted_series.index, y = mae_sorted_series)\n",
    "plt.xticks(rotation = 270)\n",
    "plt.ylim(0, 60000);"
   ]
  },
  {
   "cell_type": "code",
   "execution_count": 210,
   "id": "26d09c2a-5a0f-48d2-b4d1-476d7ca1c6d6",
   "metadata": {},
   "outputs": [
    {
     "data": {
      "image/png": "[encoded data removed]",
      "text/plain": [
       "<Figure size 1200x600 with 1 Axes>"
      ]
     },
     "metadata": {},
     "output_type": "display_data"
    }
   ],
   "source": [
    "plt.figure(figsize = (12, 6))\n",
    "sns.barplot(x = rmse_sorted_series.index, y = rmse_sorted_series)\n",
    "plt.xticks(rotation = 270)\n",
    "plt.ylim(0, 86000);"
   ]
  },
  {
   "cell_type": "markdown",
   "id": "3bef097e-9781-4657-a3fe-3fb7554ed24f",
   "metadata": {},
   "source": [
    "# Tuning best performing model\n",
    "\n",
    "\n",
    "In this section, after identifying the optimal model for this regression task, I decided to experiment with the hyperparameters to further improve the model's accuracy."
   ]
  },
  {
   "cell_type": "code",
   "execution_count": 211,
   "id": "d2a62d77-775a-4d0e-96a3-21e34de8c8bd",
   "metadata": {},
   "outputs": [],
   "source": [
    "tuned = GradientBoostingRegressor()"
   ]
  },
  {
   "cell_type": "code",
   "execution_count": 212,
   "id": "b80bff6d-5f72-4675-8cbb-327bf32bcd72",
   "metadata": {},
   "outputs": [],
   "source": [
    "n_estimators = [240, 250, 260]\n",
    "max_depth = [3, 4]\n",
    "subsample = [0.8, 1]"
   ]
  },
  {
   "cell_type": "code",
   "execution_count": 213,
   "id": "36550591-b266-4d21-8a17-fee7045eccc4",
   "metadata": {},
   "outputs": [],
   "source": [
    "param_grid = {'n_estimators' : n_estimators, 'max_depth' : max_depth, 'subsample' : subsample}"
   ]
  },
  {
   "cell_type": "code",
   "execution_count": 214,
   "id": "7242ec69-739c-4aca-b107-7a08c688df33",
   "metadata": {},
   "outputs": [],
   "source": [
    "tuned1 = GridSearchCV(estimator = tuned, param_grid = param_grid)"
   ]
  },
  {
   "cell_type": "code",
   "execution_count": 215,
   "id": "e4164a73-af2b-4683-b765-542ba3327ee9",
   "metadata": {},
   "outputs": [
    {
     "data": {
      "text/html": [
       "<style>#sk-container-id-12 {color: black;background-color: white;}#sk-container-id-12 pre{padding: 0;}#sk-container-id-12 div.sk-toggleable {background-color: white;}#sk-container-id-12 label.sk-toggleable__label {cursor: pointer;display: block;width: 100%;margin-bottom: 0;padding: 0.3em;box-sizing: border-box;text-align: center;}#sk-container-id-12 label.sk-toggleable__label-arrow:before {content: \"▸\";float: left;margin-right: 0.25em;color: #696969;}#sk-container-id-12 label.sk-toggleable__label-arrow:hover:before {color: black;}#sk-container-id-12 div.sk-estimator:hover label.sk-toggleable__label-arrow:before {color: black;}#sk-container-id-12 div.sk-toggleable__content {max-height: 0;max-width: 0;overflow: hidden;text-align: left;background-color: #f0f8ff;}#sk-container-id-12 div.sk-toggleable__content pre {margin: 0.2em;color: black;border-radius: 0.25em;background-color: #f0f8ff;}#sk-container-id-12 input.sk-toggleable__control:checked~div.sk-toggleable__content {max-height: 200px;max-width: 100%;overflow: auto;}#sk-container-id-12 input.sk-toggleable__control:checked~label.sk-toggleable__label-arrow:before {content: \"▾\";}#sk-container-id-12 div.sk-estimator input.sk-toggleable__control:checked~label.sk-toggleable__label {background-color: #d4ebff;}#sk-container-id-12 div.sk-label input.sk-toggleable__control:checked~label.sk-toggleable__label {background-color: #d4ebff;}#sk-container-id-12 input.sk-hidden--visually {border: 0;clip: rect(1px 1px 1px 1px);clip: rect(1px, 1px, 1px, 1px);height: 1px;margin: -1px;overflow: hidden;padding: 0;position: absolute;width: 1px;}#sk-container-id-12 div.sk-estimator {font-family: monospace;background-color: #f0f8ff;border: 1px dotted black;border-radius: 0.25em;box-sizing: border-box;margin-bottom: 0.5em;}#sk-container-id-12 div.sk-estimator:hover {background-color: #d4ebff;}#sk-container-id-12 div.sk-parallel-item::after {content: \"\";width: 100%;border-bottom: 1px solid gray;flex-grow: 1;}#sk-container-id-12 div.sk-label:hover label.sk-toggleable__label {background-color: #d4ebff;}#sk-container-id-12 div.sk-serial::before {content: \"\";position: absolute;border-left: 1px solid gray;box-sizing: border-box;top: 0;bottom: 0;left: 50%;z-index: 0;}#sk-container-id-12 div.sk-serial {display: flex;flex-direction: column;align-items: center;background-color: white;padding-right: 0.2em;padding-left: 0.2em;position: relative;}#sk-container-id-12 div.sk-item {position: relative;z-index: 1;}#sk-container-id-12 div.sk-parallel {display: flex;align-items: stretch;justify-content: center;background-color: white;position: relative;}#sk-container-id-12 div.sk-item::before, #sk-container-id-12 div.sk-parallel-item::before {content: \"\";position: absolute;border-left: 1px solid gray;box-sizing: border-box;top: 0;bottom: 0;left: 50%;z-index: -1;}#sk-container-id-12 div.sk-parallel-item {display: flex;flex-direction: column;z-index: 1;position: relative;background-color: white;}#sk-container-id-12 div.sk-parallel-item:first-child::after {align-self: flex-end;width: 50%;}#sk-container-id-12 div.sk-parallel-item:last-child::after {align-self: flex-start;width: 50%;}#sk-container-id-12 div.sk-parallel-item:only-child::after {width: 0;}#sk-container-id-12 div.sk-dashed-wrapped {border: 1px dashed gray;margin: 0 0.4em 0.5em 0.4em;box-sizing: border-box;padding-bottom: 0.4em;background-color: white;}#sk-container-id-12 div.sk-label label {font-family: monospace;font-weight: bold;display: inline-block;line-height: 1.2em;}#sk-container-id-12 div.sk-label-container {text-align: center;}#sk-container-id-12 div.sk-container {/* jupyter's `normalize.less` sets `[hidden] { display: none; }` but bootstrap.min.css set `[hidden] { display: none !important; }` so we also need the `!important` here to be able to override the default hidden behavior on the sphinx rendered scikit-learn.org. See: https://github.com/scikit-learn/scikit-learn/issues/21755 */display: inline-block !important;position: relative;}#sk-container-id-12 div.sk-text-repr-fallback {display: none;}</style><div id=\"sk-container-id-12\" class=\"sk-top-container\"><div class=\"sk-text-repr-fallback\"><pre>GridSearchCV(estimator=GradientBoostingRegressor(),\n",
       "             param_grid={&#x27;max_depth&#x27;: [3, 4], &#x27;n_estimators&#x27;: [240, 250, 260],\n",
       "                         &#x27;subsample&#x27;: [0.8, 1]})</pre><b>In a Jupyter environment, please rerun this cell to show the HTML representation or trust the notebook. <br />On GitHub, the HTML representation is unable to render, please try loading this page with nbviewer.org.</b></div><div class=\"sk-container\" hidden><div class=\"sk-item sk-dashed-wrapped\"><div class=\"sk-label-container\"><div class=\"sk-label sk-toggleable\"><input class=\"sk-toggleable__control sk-hidden--visually\" id=\"sk-estimator-id-12\" type=\"checkbox\" ><label for=\"sk-estimator-id-12\" class=\"sk-toggleable__label sk-toggleable__label-arrow\">GridSearchCV</label><div class=\"sk-toggleable__content\"><pre>GridSearchCV(estimator=GradientBoostingRegressor(),\n",
       "             param_grid={&#x27;max_depth&#x27;: [3, 4], &#x27;n_estimators&#x27;: [240, 250, 260],\n",
       "                         &#x27;subsample&#x27;: [0.8, 1]})</pre></div></div></div><div class=\"sk-parallel\"><div class=\"sk-parallel-item\"><div class=\"sk-item\"><div class=\"sk-label-container\"><div class=\"sk-label sk-toggleable\"><input class=\"sk-toggleable__control sk-hidden--visually\" id=\"sk-estimator-id-13\" type=\"checkbox\" ><label for=\"sk-estimator-id-13\" class=\"sk-toggleable__label sk-toggleable__label-arrow\">estimator: GradientBoostingRegressor</label><div class=\"sk-toggleable__content\"><pre>GradientBoostingRegressor()</pre></div></div></div><div class=\"sk-serial\"><div class=\"sk-item\"><div class=\"sk-estimator sk-toggleable\"><input class=\"sk-toggleable__control sk-hidden--visually\" id=\"sk-estimator-id-14\" type=\"checkbox\" ><label for=\"sk-estimator-id-14\" class=\"sk-toggleable__label sk-toggleable__label-arrow\">GradientBoostingRegressor</label><div class=\"sk-toggleable__content\"><pre>GradientBoostingRegressor()</pre></div></div></div></div></div></div></div></div></div></div>"
      ],
      "text/plain": [
       "GridSearchCV(estimator=GradientBoostingRegressor(),\n",
       "             param_grid={'max_depth': [3, 4], 'n_estimators': [240, 250, 260],\n",
       "                         'subsample': [0.8, 1]})"
      ]
     },
     "execution_count": 215,
     "metadata": {},
     "output_type": "execute_result"
    }
   ],
   "source": [
    "tuned1.fit(X_train, y_train)"
   ]
  },
  {
   "cell_type": "code",
   "execution_count": 216,
   "id": "5f21e586-57b9-4bc4-a842-bc209baf9df8",
   "metadata": {},
   "outputs": [
    {
     "data": {
      "text/plain": [
       "{'max_depth': 3, 'n_estimators': 260, 'subsample': 1}"
      ]
     },
     "execution_count": 216,
     "metadata": {},
     "output_type": "execute_result"
    }
   ],
   "source": [
    "tuned1.best_params_"
   ]
  },
  {
   "cell_type": "code",
   "execution_count": 217,
   "id": "bdd3df48-5d2c-4aad-8b3a-e60e74f7dd33",
   "metadata": {},
   "outputs": [],
   "source": [
    "preds = tuned1.predict(X_test)"
   ]
  },
  {
   "cell_type": "code",
   "execution_count": 218,
   "id": "cb799218-ce28-4b0e-a2c4-454e34c8b23c",
   "metadata": {},
   "outputs": [
    {
     "data": {
      "text/plain": [
       "12971.393152551858"
      ]
     },
     "execution_count": 218,
     "metadata": {},
     "output_type": "execute_result"
    }
   ],
   "source": [
    "mean_absolute_error(y_test, preds)"
   ]
  },
  {
   "cell_type": "code",
   "execution_count": 219,
   "id": "bcbc0953-3523-4b01-9041-4ea3f0ae193c",
   "metadata": {},
   "outputs": [
    {
     "data": {
      "text/plain": [
       "20706.30338212868"
      ]
     },
     "execution_count": 219,
     "metadata": {},
     "output_type": "execute_result"
    }
   ],
   "source": [
    "np.sqrt(mean_squared_error(y_test, preds))"
   ]
  },
  {
   "cell_type": "markdown",
   "id": "ac60620d-7499-43e6-9779-31076989889a",
   "metadata": {},
   "source": [
    "# Final model\n",
    "\n",
    "In this final section, I reviewed all the parameters of my model and exported it under the name `final_regression_model.joblib`. The model is saved in the *Model* folder."
   ]
  },
  {
   "cell_type": "code",
   "execution_count": 228,
   "id": "a5b70620-49f3-4212-b2a0-6bc3259b55b3",
   "metadata": {},
   "outputs": [],
   "source": [
    "final_model = tuned1"
   ]
  },
  {
   "cell_type": "code",
   "execution_count": 229,
   "id": "b8d7906f-d83b-4271-b57a-046dc4be9318",
   "metadata": {},
   "outputs": [
    {
     "data": {
      "text/plain": [
       "{'cv': None,\n",
       " 'error_score': nan,\n",
       " 'estimator__alpha': 0.9,\n",
       " 'estimator__ccp_alpha': 0.0,\n",
       " 'estimator__criterion': 'friedman_mse',\n",
       " 'estimator__init': None,\n",
       " 'estimator__learning_rate': 0.1,\n",
       " 'estimator__loss': 'squared_error',\n",
       " 'estimator__max_depth': 3,\n",
       " 'estimator__max_features': None,\n",
       " 'estimator__max_leaf_nodes': None,\n",
       " 'estimator__min_impurity_decrease': 0.0,\n",
       " 'estimator__min_samples_leaf': 1,\n",
       " 'estimator__min_samples_split': 2,\n",
       " 'estimator__min_weight_fraction_leaf': 0.0,\n",
       " 'estimator__n_estimators': 100,\n",
       " 'estimator__n_iter_no_change': None,\n",
       " 'estimator__random_state': None,\n",
       " 'estimator__subsample': 1.0,\n",
       " 'estimator__tol': 0.0001,\n",
       " 'estimator__validation_fraction': 0.1,\n",
       " 'estimator__verbose': 0,\n",
       " 'estimator__warm_start': False,\n",
       " 'estimator': GradientBoostingRegressor(),\n",
       " 'n_jobs': None,\n",
       " 'param_grid': {'n_estimators': [240, 250, 260],\n",
       "  'max_depth': [3, 4],\n",
       "  'subsample': [0.8, 1]},\n",
       " 'pre_dispatch': '2*n_jobs',\n",
       " 'refit': True,\n",
       " 'return_train_score': False,\n",
       " 'scoring': None,\n",
       " 'verbose': 0}"
      ]
     },
     "execution_count": 229,
     "metadata": {},
     "output_type": "execute_result"
    }
   ],
   "source": [
    "final_model.get_params()"
   ]
  },
  {
   "cell_type": "code",
   "execution_count": 231,
   "id": "632a873a-22df-4abd-be3e-232ef9008b46",
   "metadata": {},
   "outputs": [],
   "source": [
    "from joblib import dump"
   ]
  },
  {
   "cell_type": "code",
   "execution_count": 232,
   "id": "530eb6d2-b050-440f-b67b-6179dc54b932",
   "metadata": {},
   "outputs": [
    {
     "data": {
      "text/plain": [
       "['C:\\\\Users\\\\jovan\\\\Desktop\\\\HouseProject\\\\House_Price_Prediction_-_Classification\\\\Models\\\\final_regression_model.joblib']"
      ]
     },
     "execution_count": 232,
     "metadata": {},
     "output_type": "execute_result"
    }
   ],
   "source": [
    "dump(final_model, 'C:\\\\Users\\\\jovan\\\\Desktop\\\\HouseProject\\\\House_Price_Prediction_-_Classification\\\\Models\\\\final_regression_model.joblib')"
   ]
  }
 ],
 "metadata": {
  "kernelspec": {
   "display_name": "Python 3 (ipykernel)",
   "language": "python",
   "name": "python3"
  },
  "language_info": {
   "codemirror_mode": {
    "name": "ipython",
    "version": 3
   },
   "file_extension": ".py",
   "mimetype": "text/x-python",
   "name": "python",
   "nbconvert_exporter": "python",
   "pygments_lexer": "ipython3",
   "version": "3.11.7"
  }
 },
 "nbformat": 4,
 "nbformat_minor": 5
}
