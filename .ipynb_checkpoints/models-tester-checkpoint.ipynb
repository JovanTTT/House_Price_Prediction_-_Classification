{
 "cells": [
  {
   "cell_type": "code",
   "execution_count": 35,
   "id": "4054371c-b62a-4ec0-905e-ba670da07a9e",
   "metadata": {},
   "outputs": [],
   "source": [
    "from joblib import load\n",
    "import converter\n",
    "import noviproba"
   ]
  },
  {
   "cell_type": "code",
   "execution_count": 2,
   "id": "270de6c9-cfbf-4ff8-bcaf-fdc79082c6ae",
   "metadata": {},
   "outputs": [],
   "source": [
    "reg_model = load('C:\\\\Users\\\\jovan\\\\Desktop\\\\HouseProject\\\\House_Price_Prediction_-_Classification\\\\Models\\\\final_regression_model.joblib')"
   ]
  },
  {
   "cell_type": "code",
   "execution_count": 29,
   "id": "26407f04-9cc1-4140-9fe2-1637819d0df7",
   "metadata": {},
   "outputs": [],
   "source": [
    "class_model = load('C:\\\\Users\\\\jovan\\\\Desktop\\\\HouseProject\\\\House_Price_Prediction_-_Classification\\\\Models\\\\final_classification_model.joblib')"
   ]
  },
  {
   "cell_type": "code",
   "execution_count": 34,
   "id": "d23c078d-2807-4887-b0f8-ec15c6bd9de6",
   "metadata": {},
   "outputs": [],
   "source": [
    "prvi = [3232332, 180, 'RM', 21.0, 1974, 'Pave', 'Reg', 'Lvl', 'AllPub', 'Inside', 'Gtl', \n",
    "         'MeadowV', 'Norm', 'Norm', 'Twnhs', 'SFoyer', 4, 7, 1973, 2006, 'Gable', 'CompShg', \n",
    "         'CemntBd', 'CmentBd', 0.0, 'TA', 'Gd', 'CBlock', 'Gd', 'TA', 'Av', 'GLQ', 501.0, 'Unf', \n",
    "         0.0, 25.0, 526.0, 'GasA', 'Gd', 'Y', 'SBrkr', 526, 462, 0, 988, 1.0, 0.0, 1, 0, 2, 1, \n",
    "         'TA', 5, 'Typ', 0, None, 'BuiltIn', 1973.0, 'RFn', 1.0, 297.0, 'TA', 'TA', 'Y', 120, \n",
    "         101, 0, 0, 0, 0, 0, 6, 2008, 'WD', 'Normal']"
   ]
  },
  {
   "cell_type": "code",
   "execution_count": 46,
   "id": "27c6cd7b-eee1-4ae4-8a55-82b84460dc92",
   "metadata": {},
   "outputs": [],
   "source": [
    "drugi = [52525, 50, 'RM', 56.0, 8398, 'Pave', 'Reg', 'Lvl', 'AllPub', 'Inside', 'Gtl', \n",
    "         'OldTown', 'Norm', 'Norm', '1Fam', '1.5Fin', 6, 8, 1910, 1990, 'Gable', 'CompShg', 'Wd Sdng', \n",
    "         'Wd Sdng', 0.0, 'TA', 'TA', 'CBlock', 'Gd', 'Gd', 'No', 'BLQ', 259.0, 'Unf', 0.0, 667.0, \n",
    "         926.0, 'GasA', 'TA', 'Y', 'SBrkr', 991, 659, 0, 1650, 0.0, 0.0, 2, 0, 3, 1, 'TA', 6, 'Typ', \n",
    "         0, 'None', 'Detchd', 1979.0, 'Unf', 2.0, 468.0, 'TA', 'TA', 'N', 128, 103, 0, 0, 0, 0, 0, 11, \n",
    "         2007, 'WD', 'Normal']"
   ]
  },
  {
   "cell_type": "code",
   "execution_count": 32,
   "id": "9c4e79a4-9e45-4e5b-aace-4d2989196d35",
   "metadata": {},
   "outputs": [],
   "source": [
    "treci = [5356353, 120, 'RM', 0.0, 9763, 'Pave', 'IR1', 'Lvl', 'AllPub', 'Inside', 'Gtl', 'GrnHill', \n",
    "          'Norm', 'Norm', 'TwnhsE', '1Story', 7, 5, 1998, 1998, 'Gable', 'CompShg', 'Wd Sdng', 'Wd Sdng',\n",
    "          239.0, 'Gd', 'TA', 'PConc', 'Gd', 'TA', 'No', 'GLQ', 1102.0, 'ALQ', 72.0, 328.0, 1502.0, 'GasA',\n",
    "          'Ex', 'Y', 'SBrkr', 1502, 0, 0, 1502, 1.0, 0.0, 1, 1, 1, 1, 'Gd', 5, 'Typ', 1, 'TA', 'Attchd', 1998.0, \n",
    "          'Fin', 1.0, 286.0, 'TA', 'TA', 'Y', 0, 0, 0, 0, 0, 0, 0, 9, 2007, 'WD', 'Normal']"
   ]
  },
  {
   "cell_type": "code",
   "execution_count": 37,
   "id": "a69dabe8-b931-4bc0-8237-7b8d2aff30b7",
   "metadata": {},
   "outputs": [],
   "source": [
    "konvertovan_regresija1 = converter.dummies_converter(prvi)"
   ]
  },
  {
   "cell_type": "code",
   "execution_count": 47,
   "id": "8320bfa4-f0fe-4ecd-a25f-6c4ddf21c169",
   "metadata": {},
   "outputs": [],
   "source": [
    "konvertovan_regresija2 = converter.dummies_converter(drugi)"
   ]
  },
  {
   "cell_type": "code",
   "execution_count": 42,
   "id": "7d3bf2c0-44f9-43f2-9860-2eccdc2a0841",
   "metadata": {},
   "outputs": [],
   "source": [
    "konvertovan_regresija3 = converter.dummies_converter(treci)"
   ]
  },
  {
   "cell_type": "code",
   "execution_count": 43,
   "id": "63fd1547-5da4-41d3-a651-35aaa5ad8487",
   "metadata": {},
   "outputs": [
    {
     "name": "stderr",
     "output_type": "stream",
     "text": [
      "C:\\Users\\jovan\\anaconda3\\Lib\\site-packages\\sklearn\\base.py:439: UserWarning: X does not have valid feature names, but GradientBoostingRegressor was fitted with feature names\n",
      "  warnings.warn(\n"
     ]
    },
    {
     "data": {
      "text/plain": [
       "array([96357.21662421])"
      ]
     },
     "execution_count": 43,
     "metadata": {},
     "output_type": "execute_result"
    }
   ],
   "source": [
    "reg_model.predict(konvertovan_regresija1)"
   ]
  },
  {
   "cell_type": "code",
   "execution_count": 48,
   "id": "236cf544-acbb-490a-9755-a01c01b9693b",
   "metadata": {},
   "outputs": [
    {
     "name": "stderr",
     "output_type": "stream",
     "text": [
      "C:\\Users\\jovan\\anaconda3\\Lib\\site-packages\\sklearn\\base.py:439: UserWarning: X does not have valid feature names, but GradientBoostingRegressor was fitted with feature names\n",
      "  warnings.warn(\n"
     ]
    },
    {
     "data": {
      "text/plain": [
       "array([149294.54945465])"
      ]
     },
     "execution_count": 48,
     "metadata": {},
     "output_type": "execute_result"
    }
   ],
   "source": [
    "reg_model.predict(konvertovan_regresija2)"
   ]
  },
  {
   "cell_type": "code",
   "execution_count": 45,
   "id": "0fe3f75c-aae3-4a45-8562-b2e5221728c1",
   "metadata": {},
   "outputs": [
    {
     "name": "stderr",
     "output_type": "stream",
     "text": [
      "C:\\Users\\jovan\\anaconda3\\Lib\\site-packages\\sklearn\\base.py:439: UserWarning: X does not have valid feature names, but GradientBoostingRegressor was fitted with feature names\n",
      "  warnings.warn(\n"
     ]
    },
    {
     "data": {
      "text/plain": [
       "array([307611.57846561])"
      ]
     },
     "execution_count": 45,
     "metadata": {},
     "output_type": "execute_result"
    }
   ],
   "source": [
    "reg_model.predict(konvertovan_regresija3)"
   ]
  },
  {
   "cell_type": "code",
   "execution_count": 49,
   "id": "e8e298c1-29e2-4c90-8033-fafc5d2b62e0",
   "metadata": {},
   "outputs": [],
   "source": [
    "konvertovan_klasifikacija1 = noviproba.dummies_converter(prvi)"
   ]
  },
  {
   "cell_type": "code",
   "execution_count": 50,
   "id": "8a5e8285-f375-4139-9383-07762272f653",
   "metadata": {},
   "outputs": [],
   "source": [
    "konvertovan_klasifikacija2 = noviproba.dummies_converter(drugi)"
   ]
  },
  {
   "cell_type": "code",
   "execution_count": 51,
   "id": "646ac250-9983-484b-a4ea-f2a898d8ea06",
   "metadata": {},
   "outputs": [],
   "source": [
    "konvertovan_klasifikacija3 = noviproba.dummies_converter(treci)"
   ]
  },
  {
   "cell_type": "code",
   "execution_count": 52,
   "id": "c2551242-0e31-4057-baaa-b46052317593",
   "metadata": {},
   "outputs": [
    {
     "name": "stderr",
     "output_type": "stream",
     "text": [
      "C:\\Users\\jovan\\anaconda3\\Lib\\site-packages\\sklearn\\base.py:439: UserWarning: X does not have valid feature names, but GradientBoostingClassifier was fitted with feature names\n",
      "  warnings.warn(\n"
     ]
    },
    {
     "data": {
      "text/plain": [
       "array([180], dtype=int64)"
      ]
     },
     "execution_count": 52,
     "metadata": {},
     "output_type": "execute_result"
    }
   ],
   "source": [
    "class_model.predict(konvertovan_klasifikacija1)"
   ]
  },
  {
   "cell_type": "code",
   "execution_count": 53,
   "id": "8ad13393-77ba-4dea-aa59-a799e7bc19c2",
   "metadata": {},
   "outputs": [
    {
     "name": "stderr",
     "output_type": "stream",
     "text": [
      "C:\\Users\\jovan\\anaconda3\\Lib\\site-packages\\sklearn\\base.py:439: UserWarning: X does not have valid feature names, but GradientBoostingClassifier was fitted with feature names\n",
      "  warnings.warn(\n"
     ]
    },
    {
     "data": {
      "text/plain": [
       "array([50], dtype=int64)"
      ]
     },
     "execution_count": 53,
     "metadata": {},
     "output_type": "execute_result"
    }
   ],
   "source": [
    "class_model.predict(konvertovan_klasifikacija2)"
   ]
  },
  {
   "cell_type": "code",
   "execution_count": 54,
   "id": "d3efd2fc-b7e8-46f7-8c6a-df186b703869",
   "metadata": {},
   "outputs": [
    {
     "name": "stderr",
     "output_type": "stream",
     "text": [
      "C:\\Users\\jovan\\anaconda3\\Lib\\site-packages\\sklearn\\base.py:439: UserWarning: X does not have valid feature names, but GradientBoostingClassifier was fitted with feature names\n",
      "  warnings.warn(\n"
     ]
    },
    {
     "data": {
      "text/plain": [
       "array([120], dtype=int64)"
      ]
     },
     "execution_count": 54,
     "metadata": {},
     "output_type": "execute_result"
    }
   ],
   "source": [
    "class_model.predict(konvertovan_klasifikacija3)"
   ]
  },
  {
   "cell_type": "code",
   "execution_count": null,
   "id": "e87a01a7-9324-4348-a84e-e64cf821b5f2",
   "metadata": {},
   "outputs": [],
   "source": []
  }
 ],
 "metadata": {
  "kernelspec": {
   "display_name": "Python 3 (ipykernel)",
   "language": "python",
   "name": "python3"
  },
  "language_info": {
   "codemirror_mode": {
    "name": "ipython",
    "version": 3
   },
   "file_extension": ".py",
   "mimetype": "text/x-python",
   "name": "python",
   "nbconvert_exporter": "python",
   "pygments_lexer": "ipython3",
   "version": "3.11.7"
  }
 },
 "nbformat": 4,
 "nbformat_minor": 5
}
