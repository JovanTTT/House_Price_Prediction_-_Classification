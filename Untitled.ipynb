{
 "cells": [
  {
   "cell_type": "code",
   "execution_count": 1,
   "id": "4054371c-b62a-4ec0-905e-ba670da07a9e",
   "metadata": {},
   "outputs": [],
   "source": [
    "from joblib import load"
   ]
  },
  {
   "cell_type": "code",
   "execution_count": 2,
   "id": "2b8c555e-358a-4b7c-b01c-384455218b64",
   "metadata": {},
   "outputs": [],
   "source": [
    "reg_model = load('C:\\\\Users\\\\jovan\\\\Desktop\\\\HouseProject\\\\House_Price_Prediction_-_Classification\\\\Models\\\\final_regression_model.joblib')"
   ]
  },
  {
   "cell_type": "code",
   "execution_count": 15,
   "id": "2676d17e-63a8-4140-b441-c58207e73df6",
   "metadata": {},
   "outputs": [],
   "source": [
    "drugi = [12345678,20,'RL',75.21066666666667,12537,'Pave','IR1','Lvl','AllPub','CulDSac',\n",
    "       'Gtl','NAmes','Norm','Norm','1Fam','1Story',5,6,1971,2008,'Gable','CompShg','VinylSd',\n",
    "       'VinylSd',0.0,'TA','TA','CBlock','TA','TA','No','GLQ',734.0,'Unf',0.0,344.0,1078.0,\n",
    "       'GasA','Ex','Y','SBrkr',1078,0,0,1078,1.0,0.0,1,1,3,1,'TA',6,'Typ',1,'Fa',\n",
    "       'Attchd',1971.0,'Fin',2.0,500.0,'TA','TA','Y',0,0,0,0,0,0,0,4,2010,'WD','Normal']"
   ]
  },
  {
   "cell_type": "code",
   "execution_count": 4,
   "id": "400b21ae-d69d-47ed-9fd7-68d9dc9564f1",
   "metadata": {},
   "outputs": [],
   "source": [
    "import converter"
   ]
  },
  {
   "cell_type": "code",
   "execution_count": 14,
   "id": "8ac56c48-8da6-4a4a-ae37-9a0b47fa92b0",
   "metadata": {},
   "outputs": [],
   "source": [
    "prvi = [999999999, 120, 'RL', 62.17391304347826, 6820, 'Pave', 'IR1', 'Lvl', 'AllPub' ,'Corner', 'Gtl',' StoneBr', 'Norm', 'Norm', 'TwnhsE', '1Story',\n",
    "          8, 5, 1985, 1985, 'Gable', 'CompShg', 'HdBoard', 'HdBoard', 0.0, 'Gd', 'TA', 'PConc', 'Gd', 'TA', 'Av', 'GLQ', 368.0, 'BLQ', 1120.0, 0.0, \n",
    "          1488.0, 'GasA', 'TA', 'Y', 'SBrkr', 1502, 0, 0, 1502, 1.0, 0.0, 1, 1, 1, 1, 'Gd', 4, 'Typ', 0, None, 'Attchd', 1985.0, 'RFn', .0, \n",
    "          528.0, 'TA', 'TA', 'Y', 0, 54, 0, 0, 140, 0, 0, 6, 2010, 'WD' , 'Normal']"
   ]
  },
  {
   "cell_type": "code",
   "execution_count": 16,
   "id": "3a91dbbe-2c12-4610-b99c-b41552988061",
   "metadata": {},
   "outputs": [],
   "source": [
    "treci = [12,60,'RL',74.2072072072072,9505,'Pave','IR1','Lvl','AllPub','CulDSac','Gtl','Gilbert',\n",
    "           'Norm','Norm','1Fam','2Story',7,5,2001,2001,'Gable','CompShg','VinylSd','VinylSd',180.0,'Gd','TA',\n",
    "           'PConc','Gd','TA','No','Unf',0.0,'Unf',0.0,884.0,884.0,'GasA','Ex','Y','SBrkr',884,1151,0,2035,0.0,0.0,2,1,3,1,\n",
    "           'Gd',8,'Typ',1,'Gd','BuiltIn',2001.0,'Fin',2.0,434.0,'TA','TA','Y',144,48,0,0,0,0,0,5,2010,'WD','Normal']"
   ]
  },
  {
   "cell_type": "code",
   "execution_count": 11,
   "id": "7767690a-f287-4eef-8d63-3d36e03f4fb6",
   "metadata": {},
   "outputs": [],
   "source": [
    "from joblib import load"
   ]
  },
  {
   "cell_type": "code",
   "execution_count": 13,
   "id": "270de6c9-cfbf-4ff8-bcaf-fdc79082c6ae",
   "metadata": {},
   "outputs": [],
   "source": [
    "reg_model = load('C:\\\\Users\\\\jovan\\\\Desktop\\\\HouseProject\\\\House_Price_Prediction_-_Classification\\\\Models\\\\final_regression_model.joblib')"
   ]
  },
  {
   "cell_type": "code",
   "execution_count": 17,
   "id": "e46464ad-9586-4437-9059-ce593b11f481",
   "metadata": {},
   "outputs": [],
   "source": [
    "import converter"
   ]
  },
  {
   "cell_type": "code",
   "execution_count": 18,
   "id": "2f005576-08d8-4226-8a70-e864f7585af3",
   "metadata": {},
   "outputs": [],
   "source": [
    "konvertovan1 = converter.dummies_converter(prvi)"
   ]
  },
  {
   "cell_type": "code",
   "execution_count": 19,
   "id": "d5b6a005-e604-449c-b372-77a03526373d",
   "metadata": {},
   "outputs": [],
   "source": [
    "konvertovan2 = converter.dummies_converter(drugi)"
   ]
  },
  {
   "cell_type": "code",
   "execution_count": 20,
   "id": "a1f6ceab-2d43-44f9-8126-b461b4b54ed5",
   "metadata": {},
   "outputs": [],
   "source": [
    "konvertovan3 = converter.dummies_converter(treci)"
   ]
  },
  {
   "cell_type": "code",
   "execution_count": 21,
   "id": "58eb6601-d78b-447e-b6e2-af3103a6bf0b",
   "metadata": {},
   "outputs": [
    {
     "name": "stderr",
     "output_type": "stream",
     "text": [
      "C:\\Users\\jovan\\anaconda3\\Lib\\site-packages\\sklearn\\base.py:439: UserWarning: X does not have valid feature names, but GradientBoostingRegressor was fitted with feature names\n",
      "  warnings.warn(\n"
     ]
    },
    {
     "data": {
      "text/plain": [
       "array([214201.03234041])"
      ]
     },
     "execution_count": 21,
     "metadata": {},
     "output_type": "execute_result"
    }
   ],
   "source": [
    "reg_model.predict(konvertovan1)"
   ]
  },
  {
   "cell_type": "code",
   "execution_count": 22,
   "id": "ec4a6bfb-a2da-48ab-8c43-31c045de0328",
   "metadata": {},
   "outputs": [
    {
     "name": "stderr",
     "output_type": "stream",
     "text": [
      "C:\\Users\\jovan\\anaconda3\\Lib\\site-packages\\sklearn\\base.py:439: UserWarning: X does not have valid feature names, but GradientBoostingRegressor was fitted with feature names\n",
      "  warnings.warn(\n"
     ]
    },
    {
     "data": {
      "text/plain": [
       "array([166458.68907366])"
      ]
     },
     "execution_count": 22,
     "metadata": {},
     "output_type": "execute_result"
    }
   ],
   "source": [
    "reg_model.predict(konvertovan2)"
   ]
  },
  {
   "cell_type": "code",
   "execution_count": 23,
   "id": "77a01040-dcf4-48de-926d-e61a0c9616e5",
   "metadata": {},
   "outputs": [
    {
     "name": "stderr",
     "output_type": "stream",
     "text": [
      "C:\\Users\\jovan\\anaconda3\\Lib\\site-packages\\sklearn\\base.py:439: UserWarning: X does not have valid feature names, but GradientBoostingRegressor was fitted with feature names\n",
      "  warnings.warn(\n"
     ]
    },
    {
     "data": {
      "text/plain": [
       "array([225665.01814387])"
      ]
     },
     "execution_count": 23,
     "metadata": {},
     "output_type": "execute_result"
    }
   ],
   "source": [
    "reg_model.predict(konvertovan3)"
   ]
  },
  {
   "cell_type": "code",
   "execution_count": null,
   "id": "bda9b879-fd0c-47bf-acbc-27e8a289b822",
   "metadata": {},
   "outputs": [],
   "source": []
  }
 ],
 "metadata": {
  "kernelspec": {
   "display_name": "Python 3 (ipykernel)",
   "language": "python",
   "name": "python3"
  },
  "language_info": {
   "codemirror_mode": {
    "name": "ipython",
    "version": 3
   },
   "file_extension": ".py",
   "mimetype": "text/x-python",
   "name": "python",
   "nbconvert_exporter": "python",
   "pygments_lexer": "ipython3",
   "version": "3.11.7"
  }
 },
 "nbformat": 4,
 "nbformat_minor": 5
}
