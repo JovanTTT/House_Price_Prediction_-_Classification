{
 "cells": [
  {
   "cell_type": "markdown",
   "id": "4b5af41a-05ec-49e6-94f7-afa1d01baf3d",
   "metadata": {},
   "source": [
    "# Quick note\n",
    "\n",
    "This file is designed for testing the previously created models. The concept is as follows:\n",
    "\n",
    "* Import the library for loading models and both converters.\n",
    "* The model for predicting house prices is stored in `reg_model`, while the model for house classification is stored in `class_model`.\n",
    "* `reg_sample1`, `reg_sample2` and `reg_sample3` represent three examples of user input for regression model. Below the cell for each sample, the actual price to which the house should belong are listed.\n",
    "* `clas_sample1`, `clas_sample2` and `clas_sample3` represent three examples of user input for classification model. Below the cell for each sample, the actual class to which the house should belong are listed.\n",
    "* Using the converters, we transformed the user input, which initially had a length of 75, into an input of length 257.\n",
    "* Using the `.predict()` function, which takes the converted input as a parameter, we obtained the predictions from our models."
   ]
  },
  {
   "cell_type": "markdown",
   "id": "1d3f4706-da67-4d6c-9f24-0db7d009f3d0",
   "metadata": {},
   "source": [
    "# About convertors\n",
    "\n",
    "The final dataset contains 76 columns, while the dataset transformed using dummy variables consists of 258 columns. I didn't want the user to input values for all 258 columns, as I believe this would not only be impractical but also significantly increase the chances of errors. Therefore, I created a *.py* files called `converter_regression.py` and `converter_classification.py` with functions called *dummies_converter* that transforms the user's input into dummy variables and reshapes it into an appropriate format. Specifically, it converts the user's input of 76 values into an output containing 257 values (one value is missing because the **'SalePrice'** *(for regression model)* or **'MS SubClass'** *(for classification model)* columns were excluded to ensure the function's result is immediately ready for price predictions)."
   ]
  },
  {
   "cell_type": "markdown",
   "id": "95bbe63c-43d5-49be-bde7-a588cb77b365",
   "metadata": {},
   "source": [
    "# Import section"
   ]
  },
  {
   "cell_type": "code",
   "execution_count": 1,
   "id": "4054371c-b62a-4ec0-905e-ba670da07a9e",
   "metadata": {},
   "outputs": [],
   "source": [
    "from joblib import load\n",
    "import converter_regression\n",
    "import converter_classification"
   ]
  },
  {
   "cell_type": "code",
   "execution_count": 2,
   "id": "270de6c9-cfbf-4ff8-bcaf-fdc79082c6ae",
   "metadata": {},
   "outputs": [],
   "source": [
    "reg_model = load('C:\\\\Users\\\\jovan\\\\Desktop\\\\HouseProject\\\\House_Price_Prediction_-_Classification\\\\Models\\\\final_regression_model.joblib')"
   ]
  },
  {
   "cell_type": "code",
   "execution_count": 3,
   "id": "26407f04-9cc1-4140-9fe2-1637819d0df7",
   "metadata": {},
   "outputs": [],
   "source": [
    "class_model = load('C:\\\\Users\\\\jovan\\\\Desktop\\\\HouseProject\\\\House_Price_Prediction_-_Classification\\\\Models\\\\final_classification_model.joblib')"
   ]
  },
  {
   "cell_type": "markdown",
   "id": "ebf51320-09e6-43ae-b093-f5e8a4746048",
   "metadata": {},
   "source": [
    "# Test samples for regression"
   ]
  },
  {
   "cell_type": "code",
   "execution_count": 4,
   "id": "d23c078d-2807-4887-b0f8-ec15c6bd9de6",
   "metadata": {},
   "outputs": [],
   "source": [
    "reg_sample1 = [3232332, 180, 'RM', 21.0, 1974, 'Pave', 'Reg', 'Lvl', 'AllPub', 'Inside', 'Gtl', \n",
    "              'MeadowV', 'Norm', 'Norm', 'Twnhs', 'SFoyer', 4, 7, 1973, 2006, 'Gable', 'CompShg', \n",
    "              'CemntBd', 'CmentBd', 0.0, 'TA', 'Gd', 'CBlock', 'Gd', 'TA', 'Av', 'GLQ', 501.0, 'Unf', \n",
    "               0.0, 25.0, 526.0, 'GasA', 'Gd', 'Y', 'SBrkr', 526, 462, 0, 988, 1.0, 0.0, 1, 0, 2, 1, \n",
    "              'TA', 5, 'Typ', 0, None, 'BuiltIn', 1973.0, 'RFn', 1.0, 297.0, 'TA', 'TA', 'Y', 120, \n",
    "               101, 0, 0, 0, 0, 0, 6, 2008, 'WD', 'Normal']"
   ]
  },
  {
   "cell_type": "markdown",
   "id": "a847a863-a081-4e1b-a147-72de8c8241de",
   "metadata": {},
   "source": [
    "##### Actual price of this house is 105000$\n",
    "\n",
    "-----"
   ]
  },
  {
   "cell_type": "code",
   "execution_count": 5,
   "id": "27c6cd7b-eee1-4ae4-8a55-82b84460dc92",
   "metadata": {},
   "outputs": [],
   "source": [
    "reg_sample2 = [52525, 50, 'RM', 56.0, 8398, 'Pave', 'Reg', 'Lvl', 'AllPub', 'Inside', 'Gtl', \n",
    "              'OldTown', 'Norm', 'Norm', '1Fam', '1.5Fin', 6, 8, 1910, 1990, 'Gable', 'CompShg', 'Wd Sdng', \n",
    "              'Wd Sdng', 0.0, 'TA', 'TA', 'CBlock', 'Gd', 'Gd', 'No', 'BLQ', 259.0, 'Unf', 0.0, 667.0, \n",
    "               926.0, 'GasA', 'TA', 'Y', 'SBrkr', 991, 659, 0, 1650, 0.0, 0.0, 2, 0, 3, 1, 'TA', 6, 'Typ', \n",
    "               0, 'None', 'Detchd', 1979.0, 'Unf', 2.0, 468.0, 'TA', 'TA', 'N', 128, 103, 0, 0, 0, 0, 0, 11, \n",
    "               2007, 'WD', 'Normal']"
   ]
  },
  {
   "cell_type": "markdown",
   "id": "69a773f6-0eca-4a18-a2e0-47e39ee9199e",
   "metadata": {},
   "source": [
    "##### Actual price of this house is 144100$\n",
    "\n",
    "-----"
   ]
  },
  {
   "cell_type": "code",
   "execution_count": 6,
   "id": "9c4e79a4-9e45-4e5b-aace-4d2989196d35",
   "metadata": {},
   "outputs": [],
   "source": [
    "reg_sample3 = [5356353, 120, 'RM', 0.0, 9763, 'Pave', 'IR1', 'Lvl', 'AllPub', 'Inside', 'Gtl', 'GrnHill', \n",
    "              'Norm', 'Norm', 'TwnhsE', '1Story', 7, 5, 1998, 1998, 'Gable', 'CompShg', 'Wd Sdng', 'Wd Sdng',\n",
    "               239.0, 'Gd', 'TA', 'PConc', 'Gd', 'TA', 'No', 'GLQ', 1102.0, 'ALQ', 72.0, 328.0, 1502.0, 'GasA',\n",
    "              'Ex', 'Y', 'SBrkr', 1502, 0, 0, 1502, 1.0, 0.0, 1, 1, 1, 1, 'Gd', 5, 'Typ', 1, 'TA', 'Attchd', 1998.0, \n",
    "              'Fin', 1.0, 286.0, 'TA', 'TA', 'Y', 0, 0, 0, 0, 0, 0, 0, 9, 2007, 'WD', 'Normal']"
   ]
  },
  {
   "cell_type": "markdown",
   "id": "38714c1b-292b-490f-be70-0629ffb1713e",
   "metadata": {},
   "source": [
    "##### Actual price of this house is 310000$\n",
    "\n",
    "-----"
   ]
  },
  {
   "cell_type": "markdown",
   "id": "a0d957c4-5e33-407e-ae9c-20e5da971a2d",
   "metadata": {},
   "source": [
    "# Converting test samples"
   ]
  },
  {
   "cell_type": "code",
   "execution_count": 7,
   "id": "a69dabe8-b931-4bc0-8237-7b8d2aff30b7",
   "metadata": {},
   "outputs": [],
   "source": [
    "converted_regression1 = converter_regression.dummies_converter(reg_sample1)"
   ]
  },
  {
   "cell_type": "code",
   "execution_count": 8,
   "id": "8320bfa4-f0fe-4ecd-a25f-6c4ddf21c169",
   "metadata": {},
   "outputs": [],
   "source": [
    "converted_regression2 = converter_regression.dummies_converter(reg_sample2)"
   ]
  },
  {
   "cell_type": "code",
   "execution_count": 9,
   "id": "7d3bf2c0-44f9-43f2-9860-2eccdc2a0841",
   "metadata": {},
   "outputs": [],
   "source": [
    "converted_regression3 = converter_regression.dummies_converter(reg_sample3)"
   ]
  },
  {
   "cell_type": "markdown",
   "id": "57f424ac-3400-44ac-a0a6-d54df30f9820",
   "metadata": {},
   "source": [
    "# Regression model predictions"
   ]
  },
  {
   "cell_type": "code",
   "execution_count": 10,
   "id": "63fd1547-5da4-41d3-a651-35aaa5ad8487",
   "metadata": {},
   "outputs": [
    {
     "data": {
      "text/plain": [
       "array([96357.21662421])"
      ]
     },
     "execution_count": 10,
     "metadata": {},
     "output_type": "execute_result"
    }
   ],
   "source": [
    "reg_model.predict(converted_regression1)"
   ]
  },
  {
   "cell_type": "code",
   "execution_count": 11,
   "id": "236cf544-acbb-490a-9755-a01c01b9693b",
   "metadata": {},
   "outputs": [
    {
     "data": {
      "text/plain": [
       "array([149294.54945465])"
      ]
     },
     "execution_count": 11,
     "metadata": {},
     "output_type": "execute_result"
    }
   ],
   "source": [
    "reg_model.predict(converted_regression2)"
   ]
  },
  {
   "cell_type": "code",
   "execution_count": 12,
   "id": "0fe3f75c-aae3-4a45-8562-b2e5221728c1",
   "metadata": {},
   "outputs": [
    {
     "data": {
      "text/plain": [
       "array([307611.57846561])"
      ]
     },
     "execution_count": 12,
     "metadata": {},
     "output_type": "execute_result"
    }
   ],
   "source": [
    "reg_model.predict(converted_regression3)"
   ]
  },
  {
   "cell_type": "markdown",
   "id": "f8194d8b-9f9b-4bc0-a24d-f3c8aafb234c",
   "metadata": {},
   "source": [
    "-----\n",
    "\n",
    "-----"
   ]
  },
  {
   "cell_type": "markdown",
   "id": "86a525c5-e460-4fb9-95dd-608528bde6e0",
   "metadata": {},
   "source": [
    "# Test samples for classification"
   ]
  },
  {
   "cell_type": "code",
   "execution_count": 13,
   "id": "bae9030b-bf07-41fa-9bb6-c9a8133f311b",
   "metadata": {},
   "outputs": [],
   "source": [
    "clas_sample1 = [3232332, 105000, 'RM', 21.0, 1974, 'Pave', 'Reg', 'Lvl', 'AllPub', 'Inside', 'Gtl', \n",
    "               'MeadowV', 'Norm', 'Norm', 'Twnhs', 'SFoyer', 4, 7, 1973, 2006, 'Gable', 'CompShg', \n",
    "               'CemntBd', 'CmentBd', 0.0, 'TA', 'Gd', 'CBlock', 'Gd', 'TA', 'Av', 'GLQ', 501.0, 'Unf', \n",
    "                0.0, 25.0, 526.0, 'GasA', 'Gd', 'Y', 'SBrkr', 526, 462, 0, 988, 1.0, 0.0, 1, 0, 2, 1, \n",
    "               'TA', 5, 'Typ', 0, None, 'BuiltIn', 1973.0, 'RFn', 1.0, 297.0, 'TA', 'TA', 'Y', 120, \n",
    "                101, 0, 0, 0, 0, 0, 6, 2008, 'WD', 'Normal']"
   ]
  },
  {
   "cell_type": "markdown",
   "id": "83ba6c2a-183c-4e55-b76e-e51c97ff53ef",
   "metadata": {},
   "source": [
    "##### This house belongs to the class with the number 180\n",
    "\n",
    "-----"
   ]
  },
  {
   "cell_type": "code",
   "execution_count": 14,
   "id": "c047d1df-a0a9-4f5f-9bbd-c9ab1cef8f8b",
   "metadata": {},
   "outputs": [],
   "source": [
    "clas_sample2 = [52525, 144100, 'RM', 56.0, 8398, 'Pave', 'Reg', 'Lvl', 'AllPub', 'Inside', 'Gtl', \n",
    "               'OldTown', 'Norm', 'Norm', '1Fam', '1.5Fin', 6, 8, 1910, 1990, 'Gable', 'CompShg', 'Wd Sdng', \n",
    "               'Wd Sdng', 0.0, 'TA', 'TA', 'CBlock', 'Gd', 'Gd', 'No', 'BLQ', 259.0, 'Unf', 0.0, 667.0, \n",
    "                926.0, 'GasA', 'TA', 'Y', 'SBrkr', 991, 659, 0, 1650, 0.0, 0.0, 2, 0, 3, 1, 'TA', 6, 'Typ', \n",
    "                0, 'None', 'Detchd', 1979.0, 'Unf', 2.0, 468.0, 'TA', 'TA', 'N', 128, 103, 0, 0, 0, 0, 0, 11, \n",
    "                2007, 'WD', 'Normal']"
   ]
  },
  {
   "cell_type": "markdown",
   "id": "c2a6939b-b616-436b-8c2d-f19ce855d78b",
   "metadata": {},
   "source": [
    "##### This house belongs to the class with the number 50\n",
    "\n",
    "-----"
   ]
  },
  {
   "cell_type": "code",
   "execution_count": 15,
   "id": "ce9f0163-2e14-47aa-a50f-0ad4ba21621c",
   "metadata": {},
   "outputs": [],
   "source": [
    "clas_sample3 = [5356353, 310000, 'RM', 0.0, 9763, 'Pave', 'IR1', 'Lvl', 'AllPub', 'Inside', 'Gtl', 'GrnHill', \n",
    "               'Norm', 'Norm', 'TwnhsE', '1Story', 7, 5, 1998, 1998, 'Gable', 'CompShg', 'Wd Sdng', 'Wd Sdng',\n",
    "                239.0, 'Gd', 'TA', 'PConc', 'Gd', 'TA', 'No', 'GLQ', 1102.0, 'ALQ', 72.0, 328.0, 1502.0, 'GasA',\n",
    "               'Ex', 'Y', 'SBrkr', 1502, 0, 0, 1502, 1.0, 0.0, 1, 1, 1, 1, 'Gd', 5, 'Typ', 1, 'TA', 'Attchd', 1998.0, \n",
    "               'Fin', 1.0, 286.0, 'TA', 'TA', 'Y', 0, 0, 0, 0, 0, 0, 0, 9, 2007, 'WD', 'Normal']"
   ]
  },
  {
   "cell_type": "markdown",
   "id": "49496e71-19d6-403c-81c5-2385e7b68dbd",
   "metadata": {},
   "source": [
    "##### This house belongs to the class with the number 120\n",
    "\n",
    "-----"
   ]
  },
  {
   "cell_type": "markdown",
   "id": "b076549a-ddaf-43eb-8cfb-f5eddcf735ef",
   "metadata": {},
   "source": [
    "# Converting test samples"
   ]
  },
  {
   "cell_type": "code",
   "execution_count": 16,
   "id": "e8e298c1-29e2-4c90-8033-fafc5d2b62e0",
   "metadata": {},
   "outputs": [],
   "source": [
    "converted_classification1 = converter_classification.dummies_converter(clas_sample1)"
   ]
  },
  {
   "cell_type": "code",
   "execution_count": 17,
   "id": "8a5e8285-f375-4139-9383-07762272f653",
   "metadata": {},
   "outputs": [],
   "source": [
    "converted_classification2 = converter_classification.dummies_converter(clas_sample2)"
   ]
  },
  {
   "cell_type": "code",
   "execution_count": 18,
   "id": "646ac250-9983-484b-a4ea-f2a898d8ea06",
   "metadata": {},
   "outputs": [],
   "source": [
    "converted_classification3 = converter_classification.dummies_converter(clas_sample3)"
   ]
  },
  {
   "cell_type": "markdown",
   "id": "7943b05c-415a-443c-98bb-761e8e75eb20",
   "metadata": {},
   "source": [
    "# Classification model predictions"
   ]
  },
  {
   "cell_type": "code",
   "execution_count": 19,
   "id": "c2551242-0e31-4057-baaa-b46052317593",
   "metadata": {},
   "outputs": [
    {
     "data": {
      "text/plain": [
       "array([180], dtype=int64)"
      ]
     },
     "execution_count": 19,
     "metadata": {},
     "output_type": "execute_result"
    }
   ],
   "source": [
    "class_model.predict(converted_classification1)"
   ]
  },
  {
   "cell_type": "code",
   "execution_count": 20,
   "id": "8ad13393-77ba-4dea-aa59-a799e7bc19c2",
   "metadata": {},
   "outputs": [
    {
     "data": {
      "text/plain": [
       "array([50], dtype=int64)"
      ]
     },
     "execution_count": 20,
     "metadata": {},
     "output_type": "execute_result"
    }
   ],
   "source": [
    "class_model.predict(converted_classification2)"
   ]
  },
  {
   "cell_type": "code",
   "execution_count": 21,
   "id": "d3efd2fc-b7e8-46f7-8c6a-df186b703869",
   "metadata": {},
   "outputs": [
    {
     "data": {
      "text/plain": [
       "array([120], dtype=int64)"
      ]
     },
     "execution_count": 21,
     "metadata": {},
     "output_type": "execute_result"
    }
   ],
   "source": [
    "class_model.predict(converted_classification3)"
   ]
  }
 ],
 "metadata": {
  "kernelspec": {
   "display_name": "Python 3 (ipykernel)",
   "language": "python",
   "name": "python3"
  },
  "language_info": {
   "codemirror_mode": {
    "name": "ipython",
    "version": 3
   },
   "file_extension": ".py",
   "mimetype": "text/x-python",
   "name": "python",
   "nbconvert_exporter": "python",
   "pygments_lexer": "ipython3",
   "version": "3.11.7"
  }
 },
 "nbformat": 4,
 "nbformat_minor": 5
}
